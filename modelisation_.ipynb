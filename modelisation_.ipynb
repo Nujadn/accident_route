{
 "cells": [
  {
   "cell_type": "markdown",
   "metadata": {
    "id": "NxzRd3c1FmPT"
   },
   "source": [
    "Projet : Accident de la route\n",
    "==============\n",
    "\n",
    "## Etape 3 : Modélisation\n",
    "\n",
    "### Import des données"
   ]
  },
  {
   "cell_type": "code",
   "execution_count": 2,
   "metadata": {
    "id": "XEzjmg7_FmPU"
   },
   "outputs": [],
   "source": [
    "# import des librairies\n",
    "import pandas as pd\n",
    "pd.set_option('display.max_columns', None)\n",
    "pd.options.display.max_info_columns\n",
    "\n",
    "import numpy as np\n",
    "import matplotlib.pyplot as plt\n",
    "import seaborn as sns\n",
    "\n",
    "from lazypredict.supervised import LazyClassifier\n",
    "\n",
    "import sklearn\n",
    "from sklearn.model_selection import GridSearchCV, KFold, cross_val_score#, train_test_split\n",
    "#from sklearn.feature_selection import SelectKBest, f_classif, chi2\n",
    "#from sklearn.multiclass import OneVsRestClassifier\n",
    "from sklearn.preprocessing import StandardScaler\n",
    "from xgboost import XGBClassifier\n",
    "from sklearn.tree import DecisionTreeClassifier\n",
    "#from sklearn.linear_model import LogisticRegression\n",
    "from sklearn.ensemble import AdaBoostClassifier,ExtraTreesClassifier, RandomForestClassifier\n",
    "from lightgbm import LGBMClassifier\n",
    "from sklearn.metrics import confusion_matrix,classification_report, f1_score, accuracy_score, recall_score, precision_score\n",
    "from sklearn.neighbors import KNeighborsClassifier\n",
    "\n",
    "import sys\n",
    "import joblib"
   ]
  },
  {
   "cell_type": "code",
   "execution_count": 3,
   "metadata": {
    "id": "nXJWdtuWFmPV",
    "outputId": "bcffbaf7-cb0b-44d5-fde0-4b9a882f92c4"
   },
   "outputs": [
    {
     "name": "stdout",
     "output_type": "stream",
     "text": [
      "Version de Python: 3.10.14 (main, May 30 2024, 01:08:26) [GCC 11.4.0]\n",
      "Version de pandas: 2.2.2\n",
      "Version de scikit-learn: 1.5.0\n",
      "Version de pandas: 1.26.4\n"
     ]
    }
   ],
   "source": [
    "\n",
    "print(\"Version de Python:\", sys.version)\n",
    "print(\"Version de pandas:\", pd.__version__)\n",
    "print(\"Version de scikit-learn:\", sklearn.__version__)\n",
    "print(\"Version de pandas:\", np.__version__)\n"
   ]
  },
  {
   "cell_type": "code",
   "execution_count": 4,
   "metadata": {},
   "outputs": [
    {
     "data": {
      "text/html": [
       "<div>\n",
       "<style scoped>\n",
       "    .dataframe tbody tr th:only-of-type {\n",
       "        vertical-align: middle;\n",
       "    }\n",
       "\n",
       "    .dataframe tbody tr th {\n",
       "        vertical-align: top;\n",
       "    }\n",
       "\n",
       "    .dataframe thead th {\n",
       "        text-align: right;\n",
       "    }\n",
       "</style>\n",
       "<table border=\"1\" class=\"dataframe\">\n",
       "  <thead>\n",
       "    <tr style=\"text-align: right;\">\n",
       "      <th></th>\n",
       "      <th>place</th>\n",
       "      <th>catu</th>\n",
       "      <th>grav</th>\n",
       "      <th>sexe</th>\n",
       "      <th>trajet</th>\n",
       "      <th>secu1</th>\n",
       "      <th>locp</th>\n",
       "      <th>catr</th>\n",
       "      <th>circ</th>\n",
       "      <th>nbv</th>\n",
       "      <th>vosp</th>\n",
       "      <th>prof</th>\n",
       "      <th>plan</th>\n",
       "      <th>surf</th>\n",
       "      <th>infra</th>\n",
       "      <th>situ</th>\n",
       "      <th>vma</th>\n",
       "      <th>lum</th>\n",
       "      <th>com</th>\n",
       "      <th>agg</th>\n",
       "      <th>int</th>\n",
       "      <th>atm</th>\n",
       "      <th>col</th>\n",
       "      <th>lat</th>\n",
       "      <th>long</th>\n",
       "      <th>senc</th>\n",
       "      <th>catv</th>\n",
       "      <th>obs</th>\n",
       "      <th>obsm</th>\n",
       "      <th>choc</th>\n",
       "      <th>manv</th>\n",
       "      <th>motor</th>\n",
       "      <th>age_group</th>\n",
       "      <th>h_group</th>\n",
       "      <th>weekday</th>\n",
       "      <th>index</th>\n",
       "    </tr>\n",
       "  </thead>\n",
       "  <tbody>\n",
       "    <tr>\n",
       "      <th>0</th>\n",
       "      <td>1</td>\n",
       "      <td>1</td>\n",
       "      <td>1</td>\n",
       "      <td>2</td>\n",
       "      <td>5</td>\n",
       "      <td>1</td>\n",
       "      <td>0</td>\n",
       "      <td>4</td>\n",
       "      <td>-1</td>\n",
       "      <td>2</td>\n",
       "      <td>0</td>\n",
       "      <td>1</td>\n",
       "      <td>1</td>\n",
       "      <td>1</td>\n",
       "      <td>0</td>\n",
       "      <td>1</td>\n",
       "      <td>50</td>\n",
       "      <td>5</td>\n",
       "      <td>66136</td>\n",
       "      <td>2</td>\n",
       "      <td>2</td>\n",
       "      <td>1</td>\n",
       "      <td>3</td>\n",
       "      <td>42.70</td>\n",
       "      <td>2.89</td>\n",
       "      <td>1</td>\n",
       "      <td>6</td>\n",
       "      <td>0</td>\n",
       "      <td>2</td>\n",
       "      <td>7</td>\n",
       "      <td>1</td>\n",
       "      <td>1</td>\n",
       "      <td>4</td>\n",
       "      <td>2</td>\n",
       "      <td>5</td>\n",
       "      <td>422246</td>\n",
       "    </tr>\n",
       "    <tr>\n",
       "      <th>1</th>\n",
       "      <td>5</td>\n",
       "      <td>2</td>\n",
       "      <td>1</td>\n",
       "      <td>2</td>\n",
       "      <td>0</td>\n",
       "      <td>1</td>\n",
       "      <td>-1</td>\n",
       "      <td>7</td>\n",
       "      <td>2</td>\n",
       "      <td>4</td>\n",
       "      <td>0</td>\n",
       "      <td>2</td>\n",
       "      <td>1</td>\n",
       "      <td>1</td>\n",
       "      <td>0</td>\n",
       "      <td>1</td>\n",
       "      <td>50</td>\n",
       "      <td>5</td>\n",
       "      <td>13215</td>\n",
       "      <td>2</td>\n",
       "      <td>1</td>\n",
       "      <td>1</td>\n",
       "      <td>3</td>\n",
       "      <td>43.37</td>\n",
       "      <td>5.35</td>\n",
       "      <td>0</td>\n",
       "      <td>3</td>\n",
       "      <td>0</td>\n",
       "      <td>2</td>\n",
       "      <td>7</td>\n",
       "      <td>1</td>\n",
       "      <td>1</td>\n",
       "      <td>6</td>\n",
       "      <td>1</td>\n",
       "      <td>2</td>\n",
       "      <td>176315</td>\n",
       "    </tr>\n",
       "    <tr>\n",
       "      <th>2</th>\n",
       "      <td>1</td>\n",
       "      <td>1</td>\n",
       "      <td>1</td>\n",
       "      <td>1</td>\n",
       "      <td>4</td>\n",
       "      <td>1</td>\n",
       "      <td>-1</td>\n",
       "      <td>1</td>\n",
       "      <td>1</td>\n",
       "      <td>2</td>\n",
       "      <td>0</td>\n",
       "      <td>1</td>\n",
       "      <td>3</td>\n",
       "      <td>1</td>\n",
       "      <td>0</td>\n",
       "      <td>1</td>\n",
       "      <td>80</td>\n",
       "      <td>1</td>\n",
       "      <td>69283</td>\n",
       "      <td>1</td>\n",
       "      <td>1</td>\n",
       "      <td>1</td>\n",
       "      <td>5</td>\n",
       "      <td>45.67</td>\n",
       "      <td>4.94</td>\n",
       "      <td>2</td>\n",
       "      <td>5</td>\n",
       "      <td>0</td>\n",
       "      <td>2</td>\n",
       "      <td>1</td>\n",
       "      <td>13</td>\n",
       "      <td>1</td>\n",
       "      <td>4</td>\n",
       "      <td>6</td>\n",
       "      <td>1</td>\n",
       "      <td>236564</td>\n",
       "    </tr>\n",
       "    <tr>\n",
       "      <th>3</th>\n",
       "      <td>1</td>\n",
       "      <td>1</td>\n",
       "      <td>0</td>\n",
       "      <td>2</td>\n",
       "      <td>9</td>\n",
       "      <td>1</td>\n",
       "      <td>0</td>\n",
       "      <td>1</td>\n",
       "      <td>3</td>\n",
       "      <td>4</td>\n",
       "      <td>0</td>\n",
       "      <td>1</td>\n",
       "      <td>1</td>\n",
       "      <td>2</td>\n",
       "      <td>0</td>\n",
       "      <td>1</td>\n",
       "      <td>130</td>\n",
       "      <td>3</td>\n",
       "      <td>87014</td>\n",
       "      <td>1</td>\n",
       "      <td>1</td>\n",
       "      <td>2</td>\n",
       "      <td>5</td>\n",
       "      <td>46.09</td>\n",
       "      <td>1.36</td>\n",
       "      <td>2</td>\n",
       "      <td>6</td>\n",
       "      <td>1</td>\n",
       "      <td>0</td>\n",
       "      <td>3</td>\n",
       "      <td>2</td>\n",
       "      <td>1</td>\n",
       "      <td>7</td>\n",
       "      <td>7</td>\n",
       "      <td>6</td>\n",
       "      <td>262438</td>\n",
       "    </tr>\n",
       "    <tr>\n",
       "      <th>4</th>\n",
       "      <td>1</td>\n",
       "      <td>1</td>\n",
       "      <td>1</td>\n",
       "      <td>1</td>\n",
       "      <td>5</td>\n",
       "      <td>1</td>\n",
       "      <td>0</td>\n",
       "      <td>1</td>\n",
       "      <td>3</td>\n",
       "      <td>1</td>\n",
       "      <td>0</td>\n",
       "      <td>1</td>\n",
       "      <td>1</td>\n",
       "      <td>1</td>\n",
       "      <td>8</td>\n",
       "      <td>1</td>\n",
       "      <td>70</td>\n",
       "      <td>1</td>\n",
       "      <td>67462</td>\n",
       "      <td>1</td>\n",
       "      <td>1</td>\n",
       "      <td>1</td>\n",
       "      <td>2</td>\n",
       "      <td>48.29</td>\n",
       "      <td>7.46</td>\n",
       "      <td>1</td>\n",
       "      <td>3</td>\n",
       "      <td>4</td>\n",
       "      <td>2</td>\n",
       "      <td>1</td>\n",
       "      <td>1</td>\n",
       "      <td>1</td>\n",
       "      <td>3</td>\n",
       "      <td>6</td>\n",
       "      <td>5</td>\n",
       "      <td>182769</td>\n",
       "    </tr>\n",
       "  </tbody>\n",
       "</table>\n",
       "</div>"
      ],
      "text/plain": [
       "   place  catu  grav  sexe  trajet  secu1  locp  catr  circ  nbv  vosp  prof  \\\n",
       "0      1     1     1     2       5      1     0     4    -1    2     0     1   \n",
       "1      5     2     1     2       0      1    -1     7     2    4     0     2   \n",
       "2      1     1     1     1       4      1    -1     1     1    2     0     1   \n",
       "3      1     1     0     2       9      1     0     1     3    4     0     1   \n",
       "4      1     1     1     1       5      1     0     1     3    1     0     1   \n",
       "\n",
       "   plan  surf  infra  situ  vma  lum    com  agg  int  atm  col   lat  long  \\\n",
       "0     1     1      0     1   50    5  66136    2    2    1    3 42.70  2.89   \n",
       "1     1     1      0     1   50    5  13215    2    1    1    3 43.37  5.35   \n",
       "2     3     1      0     1   80    1  69283    1    1    1    5 45.67  4.94   \n",
       "3     1     2      0     1  130    3  87014    1    1    2    5 46.09  1.36   \n",
       "4     1     1      8     1   70    1  67462    1    1    1    2 48.29  7.46   \n",
       "\n",
       "   senc  catv  obs  obsm  choc  manv  motor  age_group  h_group  weekday  \\\n",
       "0     1     6    0     2     7     1      1          4        2        5   \n",
       "1     0     3    0     2     7     1      1          6        1        2   \n",
       "2     2     5    0     2     1    13      1          4        6        1   \n",
       "3     2     6    1     0     3     2      1          7        7        6   \n",
       "4     1     3    4     2     1     1      1          3        6        5   \n",
       "\n",
       "    index  \n",
       "0  422246  \n",
       "1  176315  \n",
       "2  236564  \n",
       "3  262438  \n",
       "4  182769  "
      ]
     },
     "execution_count": 4,
     "metadata": {},
     "output_type": "execute_result"
    }
   ],
   "source": [
    "# import du dataset\n",
    "df_train = pd.read_csv(\"dataset/df_train.csv\")\n",
    "df_train.head()\n",
    "\n",
    "df_test = pd.read_csv(\"dataset/df_test.csv\")\n",
    "df_test.head()"
   ]
  },
  {
   "cell_type": "markdown",
   "metadata": {
    "id": "LtgAHbTmFmPW"
   },
   "source": [
    "### Séparation des données"
   ]
  },
  {
   "cell_type": "code",
   "execution_count": 5,
   "metadata": {},
   "outputs": [],
   "source": [
    "X_train = df_train.drop([\"grav\",\"index\"], axis=1)\n",
    "y_train = df_train.grav\n",
    "\n",
    "X_test = df_test.drop([\"grav\",\"index\"], axis=1)\n",
    "y_test = df_test.grav"
   ]
  },
  {
   "cell_type": "markdown",
   "metadata": {
    "id": "hIXnsKh5FmPW"
   },
   "source": [
    "### Aperçu  de la performance relative des différents modèles de classification"
   ]
  },
  {
   "cell_type": "code",
   "execution_count": null,
   "metadata": {
    "id": "BXUEUN0xFmPW"
   },
   "outputs": [],
   "source": [
    "\n",
    "models_list = [AdaBoostClassifier,XGBClassifier,LGBMClassifier,KNeighborsClassifier, ExtraTreesClassifier]\n"
   ]
  },
  {
   "cell_type": "code",
   "execution_count": null,
   "metadata": {
    "id": "47oXwoL4FmPX",
    "outputId": "9061fc50-dc67-4535-d169-9437494c5693"
   },
   "outputs": [
    {
     "name": "stderr",
     "output_type": "stream",
     "text": [
      "100%|██████████| 5/5 [36:20<00:00, 436.20s/it]\n"
     ]
    },
    {
     "name": "stdout",
     "output_type": "stream",
     "text": [
      "'tuple' object has no attribute '__name__'\n",
      "Invalid Classifier(s)\n"
     ]
    },
    {
     "name": "stderr",
     "output_type": "stream",
     "text": [
      "100%|██████████| 5/5 [31:51<00:00, 382.35s/it]"
     ]
    },
    {
     "name": "stdout",
     "output_type": "stream",
     "text": [
      "[<class 'sklearn.ensemble._weight_boosting.AdaBoostClassifier'>, <class 'xgboost.sklearn.XGBClassifier'>, <class 'lightgbm.sklearn.LGBMClassifier'>, <class 'sklearn.neighbors._classification.KNeighborsClassifier'>, <class 'sklearn.ensemble._forest.ExtraTreesClassifier'>]\n"
     ]
    },
    {
     "name": "stderr",
     "output_type": "stream",
     "text": [
      "\n"
     ]
    }
   ],
   "source": [
    "# Initialiser LazyClassifier\n",
    "clf = LazyClassifier(verbose=0, ignore_warnings=True, custom_metric=None,\n",
    "                     predictions=True, classifiers=models_list)\n",
    "\n",
    "# Entrainer et évaluer les modèles\n",
    "models_train, predictions_train = clf.fit(X_train, X_test, y_train, y_test)\n",
    "models_test, predictions_test = clf.fit(X_train, X_test, y_train, y_test)\n",
    "# Afficher les résultats\n",
    "print(models_list)\n"
   ]
  },
  {
   "cell_type": "code",
   "execution_count": null,
   "metadata": {
    "id": "-8LgDu9GFmPX",
    "outputId": "3ac1d50a-4d47-4cdb-9ba1-767d18ce7ed6"
   },
   "outputs": [
    {
     "data": {
      "text/html": [
       "<div>\n",
       "<style scoped>\n",
       "    .dataframe tbody tr th:only-of-type {\n",
       "        vertical-align: middle;\n",
       "    }\n",
       "\n",
       "    .dataframe tbody tr th {\n",
       "        vertical-align: top;\n",
       "    }\n",
       "\n",
       "    .dataframe thead th {\n",
       "        text-align: right;\n",
       "    }\n",
       "</style>\n",
       "<table border=\"1\" class=\"dataframe\">\n",
       "  <thead>\n",
       "    <tr style=\"text-align: right;\">\n",
       "      <th></th>\n",
       "      <th>Accuracy</th>\n",
       "      <th>Balanced Accuracy</th>\n",
       "      <th>ROC AUC</th>\n",
       "      <th>F1 Score</th>\n",
       "      <th>Time Taken</th>\n",
       "    </tr>\n",
       "    <tr>\n",
       "      <th>Model</th>\n",
       "      <th></th>\n",
       "      <th></th>\n",
       "      <th></th>\n",
       "      <th></th>\n",
       "      <th></th>\n",
       "    </tr>\n",
       "  </thead>\n",
       "  <tbody>\n",
       "    <tr>\n",
       "      <th>XGBClassifier</th>\n",
       "      <td>0.81</td>\n",
       "      <td>0.81</td>\n",
       "      <td>0.81</td>\n",
       "      <td>0.82</td>\n",
       "      <td>41.90</td>\n",
       "    </tr>\n",
       "    <tr>\n",
       "      <th>ExtraTreesClassifier</th>\n",
       "      <td>0.81</td>\n",
       "      <td>0.81</td>\n",
       "      <td>0.81</td>\n",
       "      <td>0.81</td>\n",
       "      <td>1077.65</td>\n",
       "    </tr>\n",
       "    <tr>\n",
       "      <th>LGBMClassifier</th>\n",
       "      <td>0.81</td>\n",
       "      <td>0.81</td>\n",
       "      <td>0.81</td>\n",
       "      <td>0.81</td>\n",
       "      <td>66.61</td>\n",
       "    </tr>\n",
       "    <tr>\n",
       "      <th>AdaBoostClassifier</th>\n",
       "      <td>0.79</td>\n",
       "      <td>0.79</td>\n",
       "      <td>0.79</td>\n",
       "      <td>0.79</td>\n",
       "      <td>255.02</td>\n",
       "    </tr>\n",
       "    <tr>\n",
       "      <th>KNeighborsClassifier</th>\n",
       "      <td>0.75</td>\n",
       "      <td>0.75</td>\n",
       "      <td>0.75</td>\n",
       "      <td>0.75</td>\n",
       "      <td>739.79</td>\n",
       "    </tr>\n",
       "  </tbody>\n",
       "</table>\n",
       "</div>"
      ],
      "text/plain": [
       "                      Accuracy  Balanced Accuracy  ROC AUC  F1 Score  \\\n",
       "Model                                                                  \n",
       "XGBClassifier             0.81               0.81     0.81      0.82   \n",
       "ExtraTreesClassifier      0.81               0.81     0.81      0.81   \n",
       "LGBMClassifier            0.81               0.81     0.81      0.81   \n",
       "AdaBoostClassifier        0.79               0.79     0.79      0.79   \n",
       "KNeighborsClassifier      0.75               0.75     0.75      0.75   \n",
       "\n",
       "                      Time Taken  \n",
       "Model                             \n",
       "XGBClassifier              41.90  \n",
       "ExtraTreesClassifier     1077.65  \n",
       "LGBMClassifier             66.61  \n",
       "AdaBoostClassifier        255.02  \n",
       "KNeighborsClassifier      739.79  "
      ]
     },
     "execution_count": 14,
     "metadata": {},
     "output_type": "execute_result"
    }
   ],
   "source": [
    "models_train"
   ]
  },
  {
   "cell_type": "code",
   "execution_count": 9,
   "metadata": {},
   "outputs": [
    {
     "data": {
      "text/plain": [
       "['models_saved/lazy_classifier.joblib']"
      ]
     },
     "execution_count": 9,
     "metadata": {},
     "output_type": "execute_result"
    }
   ],
   "source": [
    "# Sauvegarder les résultats\n",
    "joblib.dump(models, 'models_saved/lazy_classifier.joblib')"
   ]
  },
  {
   "cell_type": "markdown",
   "metadata": {
    "id": "6YRS6rPgFmPX"
   },
   "source": [
    "### Modélisation\n",
    "\n",
    "#### Modèle Adaboost"
   ]
  },
  {
   "cell_type": "code",
   "execution_count": 12,
   "metadata": {
    "id": "cgSH-jTNFmPX",
    "outputId": "6fe3050e-d7b8-4c50-b2b5-863cd0c8e3f3"
   },
   "outputs": [
    {
     "name": "stdout",
     "output_type": "stream",
     "text": [
      "Fitting 5 folds for each of 6 candidates, totalling 30 fits\n"
     ]
    },
    {
     "name": "stderr",
     "output_type": "stream",
     "text": [
      "/home/yu/workspace/acc_route/env_acc_route/lib/python3.10/site-packages/sklearn/ensemble/_weight_boosting.py:527: FutureWarning: The SAMME.R algorithm (the default) is deprecated and will be removed in 1.6. Use the SAMME algorithm to circumvent this warning.\n",
      "  warnings.warn(\n",
      "/home/yu/workspace/acc_route/env_acc_route/lib/python3.10/site-packages/sklearn/ensemble/_weight_boosting.py:527: FutureWarning: The SAMME.R algorithm (the default) is deprecated and will be removed in 1.6. Use the SAMME algorithm to circumvent this warning.\n",
      "  warnings.warn(\n",
      "/home/yu/workspace/acc_route/env_acc_route/lib/python3.10/site-packages/sklearn/ensemble/_weight_boosting.py:527: FutureWarning: The SAMME.R algorithm (the default) is deprecated and will be removed in 1.6. Use the SAMME algorithm to circumvent this warning.\n",
      "  warnings.warn(\n",
      "/home/yu/workspace/acc_route/env_acc_route/lib/python3.10/site-packages/sklearn/ensemble/_weight_boosting.py:527: FutureWarning: The SAMME.R algorithm (the default) is deprecated and will be removed in 1.6. Use the SAMME algorithm to circumvent this warning.\n",
      "  warnings.warn(\n",
      "/home/yu/workspace/acc_route/env_acc_route/lib/python3.10/site-packages/sklearn/ensemble/_weight_boosting.py:527: FutureWarning: The SAMME.R algorithm (the default) is deprecated and will be removed in 1.6. Use the SAMME algorithm to circumvent this warning.\n",
      "  warnings.warn(\n",
      "/home/yu/workspace/acc_route/env_acc_route/lib/python3.10/site-packages/sklearn/ensemble/_weight_boosting.py:527: FutureWarning: The SAMME.R algorithm (the default) is deprecated and will be removed in 1.6. Use the SAMME algorithm to circumvent this warning.\n",
      "  warnings.warn(\n",
      "/home/yu/workspace/acc_route/env_acc_route/lib/python3.10/site-packages/sklearn/ensemble/_weight_boosting.py:527: FutureWarning: The SAMME.R algorithm (the default) is deprecated and will be removed in 1.6. Use the SAMME algorithm to circumvent this warning.\n",
      "  warnings.warn(\n",
      "/home/yu/workspace/acc_route/env_acc_route/lib/python3.10/site-packages/sklearn/ensemble/_weight_boosting.py:527: FutureWarning: The SAMME.R algorithm (the default) is deprecated and will be removed in 1.6. Use the SAMME algorithm to circumvent this warning.\n",
      "  warnings.warn(\n",
      "/home/yu/workspace/acc_route/env_acc_route/lib/python3.10/site-packages/sklearn/ensemble/_weight_boosting.py:527: FutureWarning: The SAMME.R algorithm (the default) is deprecated and will be removed in 1.6. Use the SAMME algorithm to circumvent this warning.\n",
      "  warnings.warn(\n",
      "/home/yu/workspace/acc_route/env_acc_route/lib/python3.10/site-packages/sklearn/ensemble/_weight_boosting.py:527: FutureWarning: The SAMME.R algorithm (the default) is deprecated and will be removed in 1.6. Use the SAMME algorithm to circumvent this warning.\n",
      "  warnings.warn(\n",
      "/home/yu/workspace/acc_route/env_acc_route/lib/python3.10/site-packages/sklearn/ensemble/_weight_boosting.py:527: FutureWarning: The SAMME.R algorithm (the default) is deprecated and will be removed in 1.6. Use the SAMME algorithm to circumvent this warning.\n",
      "  warnings.warn(\n",
      "/home/yu/workspace/acc_route/env_acc_route/lib/python3.10/site-packages/sklearn/ensemble/_weight_boosting.py:527: FutureWarning: The SAMME.R algorithm (the default) is deprecated and will be removed in 1.6. Use the SAMME algorithm to circumvent this warning.\n",
      "  warnings.warn(\n"
     ]
    },
    {
     "name": "stdout",
     "output_type": "stream",
     "text": [
      "[CV 1/5] END algorithm=SAMME.R, learning_rate=0.01, n_estimators=600;, score=0.775 total time=13.7min\n"
     ]
    },
    {
     "name": "stderr",
     "output_type": "stream",
     "text": [
      "/home/yu/workspace/acc_route/env_acc_route/lib/python3.10/site-packages/sklearn/ensemble/_weight_boosting.py:527: FutureWarning: The SAMME.R algorithm (the default) is deprecated and will be removed in 1.6. Use the SAMME algorithm to circumvent this warning.\n",
      "  warnings.warn(\n"
     ]
    },
    {
     "name": "stdout",
     "output_type": "stream",
     "text": [
      "[CV 2/5] END algorithm=SAMME.R, learning_rate=0.01, n_estimators=600;, score=0.774 total time=13.8min\n"
     ]
    },
    {
     "name": "stderr",
     "output_type": "stream",
     "text": [
      "/home/yu/workspace/acc_route/env_acc_route/lib/python3.10/site-packages/sklearn/ensemble/_weight_boosting.py:527: FutureWarning: The SAMME.R algorithm (the default) is deprecated and will be removed in 1.6. Use the SAMME algorithm to circumvent this warning.\n",
      "  warnings.warn(\n"
     ]
    },
    {
     "name": "stdout",
     "output_type": "stream",
     "text": [
      "[CV 4/5] END algorithm=SAMME.R, learning_rate=0.01, n_estimators=600;, score=0.772 total time=13.9min\n"
     ]
    },
    {
     "name": "stderr",
     "output_type": "stream",
     "text": [
      "/home/yu/workspace/acc_route/env_acc_route/lib/python3.10/site-packages/sklearn/ensemble/_weight_boosting.py:527: FutureWarning: The SAMME.R algorithm (the default) is deprecated and will be removed in 1.6. Use the SAMME algorithm to circumvent this warning.\n",
      "  warnings.warn(\n"
     ]
    },
    {
     "name": "stdout",
     "output_type": "stream",
     "text": [
      "[CV 5/5] END algorithm=SAMME.R, learning_rate=0.01, n_estimators=600;, score=0.774 total time=14.1min\n"
     ]
    },
    {
     "name": "stderr",
     "output_type": "stream",
     "text": [
      "/home/yu/workspace/acc_route/env_acc_route/lib/python3.10/site-packages/sklearn/ensemble/_weight_boosting.py:527: FutureWarning: The SAMME.R algorithm (the default) is deprecated and will be removed in 1.6. Use the SAMME algorithm to circumvent this warning.\n",
      "  warnings.warn(\n"
     ]
    },
    {
     "name": "stdout",
     "output_type": "stream",
     "text": [
      "[CV 3/5] END algorithm=SAMME.R, learning_rate=0.01, n_estimators=600;, score=0.775 total time=14.2min\n"
     ]
    },
    {
     "name": "stderr",
     "output_type": "stream",
     "text": [
      "/home/yu/workspace/acc_route/env_acc_route/lib/python3.10/site-packages/sklearn/ensemble/_weight_boosting.py:527: FutureWarning: The SAMME.R algorithm (the default) is deprecated and will be removed in 1.6. Use the SAMME algorithm to circumvent this warning.\n",
      "  warnings.warn(\n"
     ]
    },
    {
     "name": "stdout",
     "output_type": "stream",
     "text": [
      "[CV 1/5] END algorithm=SAMME.R, learning_rate=0.01, n_estimators=700;, score=0.775 total time=16.4min\n"
     ]
    },
    {
     "name": "stderr",
     "output_type": "stream",
     "text": [
      "/home/yu/workspace/acc_route/env_acc_route/lib/python3.10/site-packages/sklearn/ensemble/_weight_boosting.py:527: FutureWarning: The SAMME.R algorithm (the default) is deprecated and will be removed in 1.6. Use the SAMME algorithm to circumvent this warning.\n",
      "  warnings.warn(\n"
     ]
    },
    {
     "name": "stdout",
     "output_type": "stream",
     "text": [
      "[CV 2/5] END algorithm=SAMME.R, learning_rate=0.01, n_estimators=700;, score=0.774 total time=16.6min\n"
     ]
    },
    {
     "name": "stderr",
     "output_type": "stream",
     "text": [
      "/home/yu/workspace/acc_route/env_acc_route/lib/python3.10/site-packages/sklearn/ensemble/_weight_boosting.py:527: FutureWarning: The SAMME.R algorithm (the default) is deprecated and will be removed in 1.6. Use the SAMME algorithm to circumvent this warning.\n",
      "  warnings.warn(\n"
     ]
    },
    {
     "name": "stdout",
     "output_type": "stream",
     "text": [
      "[CV 4/5] END algorithm=SAMME.R, learning_rate=0.01, n_estimators=700;, score=0.772 total time=16.7min\n"
     ]
    },
    {
     "name": "stderr",
     "output_type": "stream",
     "text": [
      "/home/yu/workspace/acc_route/env_acc_route/lib/python3.10/site-packages/sklearn/ensemble/_weight_boosting.py:527: FutureWarning: The SAMME.R algorithm (the default) is deprecated and will be removed in 1.6. Use the SAMME algorithm to circumvent this warning.\n",
      "  warnings.warn(\n"
     ]
    },
    {
     "name": "stdout",
     "output_type": "stream",
     "text": [
      "[CV 5/5] END algorithm=SAMME.R, learning_rate=0.01, n_estimators=700;, score=0.775 total time=17.0min\n"
     ]
    },
    {
     "name": "stderr",
     "output_type": "stream",
     "text": [
      "/home/yu/workspace/acc_route/env_acc_route/lib/python3.10/site-packages/sklearn/ensemble/_weight_boosting.py:527: FutureWarning: The SAMME.R algorithm (the default) is deprecated and will be removed in 1.6. Use the SAMME algorithm to circumvent this warning.\n",
      "  warnings.warn(\n"
     ]
    },
    {
     "name": "stdout",
     "output_type": "stream",
     "text": [
      "[CV 3/5] END algorithm=SAMME.R, learning_rate=0.01, n_estimators=700;, score=0.775 total time=17.1min\n"
     ]
    },
    {
     "name": "stderr",
     "output_type": "stream",
     "text": [
      "/home/yu/workspace/acc_route/env_acc_route/lib/python3.10/site-packages/sklearn/ensemble/_weight_boosting.py:527: FutureWarning: The SAMME.R algorithm (the default) is deprecated and will be removed in 1.6. Use the SAMME algorithm to circumvent this warning.\n",
      "  warnings.warn(\n"
     ]
    },
    {
     "name": "stdout",
     "output_type": "stream",
     "text": [
      "[CV 2/5] END algorithm=SAMME.R, learning_rate=0.01, n_estimators=800;, score=0.782 total time=19.6min\n"
     ]
    },
    {
     "name": "stderr",
     "output_type": "stream",
     "text": [
      "/home/yu/workspace/acc_route/env_acc_route/lib/python3.10/site-packages/sklearn/ensemble/_weight_boosting.py:527: FutureWarning: The SAMME.R algorithm (the default) is deprecated and will be removed in 1.6. Use the SAMME algorithm to circumvent this warning.\n",
      "  warnings.warn(\n"
     ]
    },
    {
     "name": "stdout",
     "output_type": "stream",
     "text": [
      "[CV 1/5] END algorithm=SAMME.R, learning_rate=0.01, n_estimators=800;, score=0.784 total time=19.8min\n"
     ]
    },
    {
     "name": "stderr",
     "output_type": "stream",
     "text": [
      "/home/yu/workspace/acc_route/env_acc_route/lib/python3.10/site-packages/sklearn/ensemble/_weight_boosting.py:527: FutureWarning: The SAMME.R algorithm (the default) is deprecated and will be removed in 1.6. Use the SAMME algorithm to circumvent this warning.\n",
      "  warnings.warn(\n"
     ]
    },
    {
     "name": "stdout",
     "output_type": "stream",
     "text": [
      "[CV 2/5] END algorithm=SAMME.R, learning_rate=0.1, n_estimators=600;, score=0.810 total time=15.1min\n"
     ]
    },
    {
     "name": "stderr",
     "output_type": "stream",
     "text": [
      "/home/yu/workspace/acc_route/env_acc_route/lib/python3.10/site-packages/sklearn/ensemble/_weight_boosting.py:527: FutureWarning: The SAMME.R algorithm (the default) is deprecated and will be removed in 1.6. Use the SAMME algorithm to circumvent this warning.\n",
      "  warnings.warn(\n"
     ]
    },
    {
     "name": "stdout",
     "output_type": "stream",
     "text": [
      "[CV 1/5] END algorithm=SAMME.R, learning_rate=0.1, n_estimators=600;, score=0.810 total time=16.1min\n"
     ]
    },
    {
     "name": "stderr",
     "output_type": "stream",
     "text": [
      "/home/yu/workspace/acc_route/env_acc_route/lib/python3.10/site-packages/sklearn/ensemble/_weight_boosting.py:527: FutureWarning: The SAMME.R algorithm (the default) is deprecated and will be removed in 1.6. Use the SAMME algorithm to circumvent this warning.\n",
      "  warnings.warn(\n"
     ]
    },
    {
     "name": "stdout",
     "output_type": "stream",
     "text": [
      "[CV 3/5] END algorithm=SAMME.R, learning_rate=0.1, n_estimators=600;, score=0.812 total time=15.1min\n"
     ]
    },
    {
     "name": "stderr",
     "output_type": "stream",
     "text": [
      "/home/yu/workspace/acc_route/env_acc_route/lib/python3.10/site-packages/sklearn/ensemble/_weight_boosting.py:527: FutureWarning: The SAMME.R algorithm (the default) is deprecated and will be removed in 1.6. Use the SAMME algorithm to circumvent this warning.\n",
      "  warnings.warn(\n"
     ]
    },
    {
     "name": "stdout",
     "output_type": "stream",
     "text": [
      "[CV 5/5] END algorithm=SAMME.R, learning_rate=0.1, n_estimators=600;, score=0.810 total time=15.5min\n"
     ]
    },
    {
     "name": "stderr",
     "output_type": "stream",
     "text": [
      "/home/yu/workspace/acc_route/env_acc_route/lib/python3.10/site-packages/sklearn/ensemble/_weight_boosting.py:527: FutureWarning: The SAMME.R algorithm (the default) is deprecated and will be removed in 1.6. Use the SAMME algorithm to circumvent this warning.\n",
      "  warnings.warn(\n"
     ]
    },
    {
     "name": "stdout",
     "output_type": "stream",
     "text": [
      "[CV 4/5] END algorithm=SAMME.R, learning_rate=0.1, n_estimators=600;, score=0.809 total time=16.1min\n"
     ]
    },
    {
     "name": "stderr",
     "output_type": "stream",
     "text": [
      "/home/yu/workspace/acc_route/env_acc_route/lib/python3.10/site-packages/sklearn/ensemble/_weight_boosting.py:527: FutureWarning: The SAMME.R algorithm (the default) is deprecated and will be removed in 1.6. Use the SAMME algorithm to circumvent this warning.\n",
      "  warnings.warn(\n"
     ]
    },
    {
     "name": "stdout",
     "output_type": "stream",
     "text": [
      "[CV 3/5] END algorithm=SAMME.R, learning_rate=0.01, n_estimators=800;, score=0.783 total time=19.9min\n"
     ]
    },
    {
     "name": "stderr",
     "output_type": "stream",
     "text": [
      "/home/yu/workspace/acc_route/env_acc_route/lib/python3.10/site-packages/sklearn/ensemble/_weight_boosting.py:527: FutureWarning: The SAMME.R algorithm (the default) is deprecated and will be removed in 1.6. Use the SAMME algorithm to circumvent this warning.\n",
      "  warnings.warn(\n"
     ]
    },
    {
     "name": "stdout",
     "output_type": "stream",
     "text": [
      "[CV 5/5] END algorithm=SAMME.R, learning_rate=0.01, n_estimators=800;, score=0.783 total time=19.8min\n",
      "[CV 4/5] END algorithm=SAMME.R, learning_rate=0.01, n_estimators=800;, score=0.780 total time=21.0min\n",
      "[CV 1/5] END algorithm=SAMME.R, learning_rate=0.1, n_estimators=700;, score=0.812 total time=18.3min\n",
      "[CV 2/5] END algorithm=SAMME.R, learning_rate=0.1, n_estimators=700;, score=0.811 total time=18.4min\n",
      "[CV 3/5] END algorithm=SAMME.R, learning_rate=0.1, n_estimators=700;, score=0.814 total time=16.7min\n",
      "[CV 4/5] END algorithm=SAMME.R, learning_rate=0.1, n_estimators=700;, score=0.810 total time=17.2min\n",
      "[CV 5/5] END algorithm=SAMME.R, learning_rate=0.1, n_estimators=700;, score=0.812 total time=12.2min\n",
      "[CV 1/5] END algorithm=SAMME.R, learning_rate=0.1, n_estimators=800;, score=0.813 total time=13.0min\n",
      "[CV 2/5] END algorithm=SAMME.R, learning_rate=0.1, n_estimators=800;, score=0.812 total time=12.3min\n",
      "[CV 3/5] END algorithm=SAMME.R, learning_rate=0.1, n_estimators=800;, score=0.814 total time=11.8min\n",
      "[CV 4/5] END algorithm=SAMME.R, learning_rate=0.1, n_estimators=800;, score=0.812 total time=11.4min\n",
      "[CV 5/5] END algorithm=SAMME.R, learning_rate=0.1, n_estimators=800;, score=0.813 total time=10.8min\n",
      "Meilleurs paramètres trouvés: {'algorithm': 'SAMME.R', 'learning_rate': 0.1, 'n_estimators': 800}\n",
      "Meilleur score de validation croisée: 0.8130127930827726\n",
      "Matrice de confusion :\n",
      " [[30024  8139]\n",
      " [11212 41911]]\n"
     ]
    },
    {
     "data": {
      "image/png": "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",
      "text/plain": [
       "<Figure size 800x600 with 2 Axes>"
      ]
     },
     "metadata": {},
     "output_type": "display_data"
    }
   ],
   "source": [
    "# model adaboost\n",
    "\n",
    "scaler = StandardScaler()\n",
    "\n",
    "X_train_scaled = scaler.fit_transform(X_train)\n",
    "X_test_scaled = scaler.transform(X_test)\n",
    "\n",
    "\n",
    "hp_ada = {\n",
    "    'n_estimators': [600, 700, 800],        # Nombre de classificateurs faibles\n",
    "    'learning_rate': [0.01, 0.1],     # Taux d'apprentissage : ajuste la contribution de chaque classificateur faible à la prédiction finale\n",
    "    'algorithm': ['SAMME.R']      # Algorithme utilisé: 'SAMME.R'\n",
    "}\n",
    "\n",
    "dtc = DecisionTreeClassifier(random_state=42, max_depth=1)\n",
    "\n",
    "gs_ada= GridSearchCV(estimator=AdaBoostClassifier(random_state=42, estimator=dtc),\n",
    "                     param_grid=hp_ada,\n",
    "                           cv = 5,  # Nombre de folds pour la validation croisée\n",
    "                           verbose = 3, # Affiche le degré de détail des calculs\n",
    "                           refit=True, # réentraine le modèle avec toutes les données\n",
    "                           scoring=\"f1\",\n",
    "                           n_jobs = -1)  # Utiliser etous les cours du CPU\n",
    "\n",
    "gs_ada.fit(X_train_scaled, y_train)\n",
    "\n",
    "best_hp_ada = gs_ada.best_params_\n",
    "best_score_ada = gs_ada.best_score_\n",
    "best_estimator_ada = gs_ada.best_estimator_\n",
    "\n",
    "print(\"Meilleurs paramètres trouvés:\", best_hp_ada)\n",
    "print(\"Meilleur score de validation croisée:\", best_score_ada)\n",
    "\n",
    "y_pred_ada = best_estimator_ada.predict(X_test_scaled)\n",
    "\n",
    "cm_ada = confusion_matrix(y_test, y_pred_ada)\n",
    "print(\"Matrice de confusion :\\n\", cm_ada)\n",
    "\n",
    "row_sums_ada = cm_ada.sum(axis = 1)\n",
    "cm_percent_ada = (cm_ada.T / row_sums_ada).T * 100\n",
    "\n",
    "plt.figure(figsize=(8, 6))\n",
    "sns.heatmap(cm_percent_ada, annot = True, fmt = \".2f\", cmap = \"Blues\")\n",
    "plt.xlabel('Classe prédite')\n",
    "plt.ylabel('Classe réelle')\n",
    "plt.title('Matrice de confusion avec pourcentages')\n",
    "plt.show();"
   ]
  },
  {
   "cell_type": "markdown",
   "metadata": {
    "id": "46sJ5acXFmPX"
   },
   "source": [
    "#### Sauvegarde du modèle"
   ]
  },
  {
   "cell_type": "code",
   "execution_count": 14,
   "metadata": {
    "id": "0ID01wkqFmPX"
   },
   "outputs": [
    {
     "data": {
      "text/plain": [
       "['models_saved/best_estimator_ada_model.joblib']"
      ]
     },
     "execution_count": 14,
     "metadata": {},
     "output_type": "execute_result"
    }
   ],
   "source": [
    "# Sauvegarder le modèle\n",
    "joblib.dump(best_estimator_ada, 'models_saved/best_estimator_ada_model.joblib')"
   ]
  },
  {
   "cell_type": "markdown",
   "metadata": {},
   "source": [
    "#### Modèle Random Forest Classifier"
   ]
  },
  {
   "cell_type": "code",
<<<<<<< HEAD:modelisation_.ipynb
   "execution_count": 18,
   "metadata": {},
   "outputs": [
    {
     "name": "stdout",
     "output_type": "stream",
     "text": [
      "Meilleurs paramètres trouvés: <bound method BaseEstimator.get_params of RandomForestClassifier(random_state=42)>\n",
      "Matrice de confusion :\n",
      " [[30439  7652]\n",
      " [ 9267 43928]]\n"
     ]
    },
    {
     "data": {
      "image/png": "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",
      "text/plain": [
       "<Figure size 800x600 with 2 Axes>"
      ]
     },
     "metadata": {},
     "output_type": "display_data"
    },
    {
     "name": "stdout",
     "output_type": "stream",
     "text": [
      "[0.03990293 0.03134351 0.0152261  0.02369087 0.01351158 0.02224427\n",
      " 0.01666631 0.01396233 0.01945496 0.00625401 0.01019532 0.00980528\n",
      " 0.0084554  0.01072554 0.00773937 0.02331236 0.01247187 0.05587568\n",
      " 0.01158316 0.01604782 0.01177034 0.04759401 0.06056232 0.06067711\n",
      " 0.01901507 0.16498982 0.03188728 0.04883438 0.03652321 0.03702645\n",
      " 0.01856679 0.03529952 0.02835758 0.03042748]\n",
      "F1-Score: 0.8385206394655214\n"
     ]
    }
   ],
   "source": [
    "scaler = StandardScaler()\n",
    "\n",
    "X_train_scaled = scaler.fit_transform(X_train)\n",
    "X_test_scaled = scaler.transform(X_test)\n",
    "\n",
    "\n",
    "# model baseline\n",
    "model = RandomForestClassifier(random_state=42).fit(X_train_scaled, y_train)\n",
    "y_pred_rf_1 = model.predict(X_test_scaled)\n",
    "\n",
    "best_hp_rf_1 = model.get_params\n",
    "print(\"Meilleurs paramètres trouvés:\", best_hp_rf_1)\n",
    "\n",
    "cm_rf_1 = confusion_matrix(y_test, y_pred_rf_1)\n",
    "print(\"Matrice de confusion :\\n\", cm_rf_1)\n",
    "\n",
    "row_sums_rf_1 = cm_rf_1.sum(axis = 1)\n",
    "cm_percent_rf_1 = (cm_rf_1.T / row_sums_rf_1).T * 100\n",
    "\n",
    "plt.figure(figsize=(8, 6))\n",
    "sns.heatmap(cm_percent_rf_1, annot = True, fmt = \".2f\", cmap = \"Blues\")\n",
    "plt.xlabel('Classe prédite')\n",
    "plt.ylabel('Classe réelle')\n",
    "plt.title('Matrice de confusion avec pourcentages')\n",
    "plt.show();\n",
    "\n",
    "importances_model = model.feature_importances_\n",
    "print(importances_model)\n",
    "\n",
    "accuracy_score(y_test, y_pred_rf_1)\n",
    "\n",
    "\n",
    "f1 = f1_score(y_test, y_pred_rf_1, average='binary')  \n",
    "print(f\"F1-Score: {f1}\")"
   ]
  },
  {
   "cell_type": "code",
   "execution_count": 20,
   "metadata": {},
   "outputs": [
    {
     "data": {
      "text/plain": [
       "['models_saved/rf_model.joblib']"
      ]
     },
     "execution_count": 20,
     "metadata": {},
     "output_type": "execute_result"
    }
   ],
   "source": [
    "# Sauvegarder les résultats\n",
    "joblib.dump(model, 'models_saved/rf_model.joblib')"
   ]
  },
  {
   "cell_type": "markdown",
   "metadata": {
    "id": "qzU1cpjdFmPX"
   },
   "source": [
    "#### Modèle ExtraTreesClassifier"
   ]
  },
  {
   "cell_type": "code",
   "execution_count": 7,
=======
   "execution_count": 5,
>>>>>>> main:Mohand_Sarah_Thierry_modelisation_.ipynb
   "metadata": {
    "id": "sniY5XHgFmPX",
    "outputId": "b11050b6-65ce-493e-d5b1-cc0c6e52a9b0"
   },
   "outputs": [
    {
     "name": "stdout",
     "output_type": "stream",
     "text": [
      "ExtraTreesClassifier Accuracy: 0.81\n",
      "\n",
      "Classification Report:\n",
      "              precision    recall  f1-score   support\n",
      "\n",
<<<<<<< HEAD:modelisation_.ipynb
      "           0       0.76      0.79      0.78     38091\n",
      "           1       0.85      0.82      0.83     53195\n",
=======
      "           0       0.76      0.79      0.77     37653\n",
      "           1       0.85      0.82      0.84     53633\n",
>>>>>>> main:Mohand_Sarah_Thierry_modelisation_.ipynb
      "\n",
      "    accuracy                           0.81     91286\n",
      "   macro avg       0.80      0.81      0.80     91286\n",
      "weighted avg       0.81      0.81      0.81     91286\n",
      "\n",
      "F1-Score: 0.8344199415610991\n"
     ]
    }
   ],
   "source": [
    "# ExtraTreesClassifier\n",
    "\n",
    "scaler = StandardScaler()\n",
    "\n",
    "X_train_scaled = scaler.fit_transform(X_train)\n",
    "X_test_scaled = scaler.transform(X_test)\n",
    "\n",
    "# Initialiser et entraîner le modèle ExtraTreesClassifier\n",
    "et_clf = ExtraTreesClassifier(n_estimators=100, random_state=42)\n",
    "et_clf.fit(X_train_scaled, y_train)\n",
    "\n",
    "# Prédire les valeurs pour l'ensemble de test\n",
    "y_pred_extrTr = et_clf.predict(X_test_scaled)\n",
    "\n",
    "# Évaluer le modèle\n",
    "accuracy_et = accuracy_score(y_test, y_pred_extrTr)\n",
    "report_et = classification_report(y_test, y_pred_extrTr)\n",
    "\n",
    "# Afficher les résultats\n",
    "print(f\"ExtraTreesClassifier Accuracy: {accuracy_et:.2f}\")\n",
    "print(\"\\nClassification Report:\")\n",
    "print(report_et)\n",
    "\n",
    "f1 = f1_score(y_test, y_pred_extrTr, average='binary')  \n",
    "print(f\"F1-Score: {f1}\")"
   ]
  },
  {
   "cell_type": "code",
<<<<<<< HEAD:modelisation_.ipynb
   "execution_count": 16,
   "metadata": {},
   "outputs": [
    {
     "name": "stdout",
     "output_type": "stream",
     "text": [
      "Matrice de confusion :\n",
      " [[30054  8037]\n",
      " [ 9360 43835]]\n"
     ]
    },
    {
     "data": {
      "image/png": "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",
      "text/plain": [
       "<Figure size 800x600 with 2 Axes>"
      ]
     },
     "metadata": {},
     "output_type": "display_data"
    }
   ],
   "source": [
    "cm_et = confusion_matrix(y_test, y_pred_extrTr)\n",
    "print(\"Matrice de confusion :\\n\", cm_et)\n",
    "\n",
    "row_sums_et = cm_et.sum(axis = 1)\n",
    "cm_percent_et = (cm_et.T / row_sums_et).T * 100\n",
    "\n",
    "plt.figure(figsize=(8, 6))\n",
    "sns.heatmap(cm_percent_et, annot = True, fmt = \".2f\", cmap = \"Blues\")\n",
    "plt.xlabel('Classe prédite')\n",
    "plt.ylabel('Classe réelle')\n",
    "plt.title('Matrice de confusion avec pourcentages')\n",
    "plt.show();"
   ]
  },
  {
   "cell_type": "code",
   "execution_count": 17,
=======
   "execution_count": 6,
>>>>>>> main:Mohand_Sarah_Thierry_modelisation_.ipynb
   "metadata": {},
   "outputs": [
    {
     "data": {
      "text/plain": [
       "['Brouillons/extra_tree_classifier_model.joblib']"
      ]
     },
<<<<<<< HEAD:modelisation_.ipynb
     "execution_count": 17,
=======
     "execution_count": 6,
>>>>>>> main:Mohand_Sarah_Thierry_modelisation_.ipynb
     "metadata": {},
     "output_type": "execute_result"
    }
   ],
   "source": [
    "# Sauvegarder le modèle\n",
    "joblib.dump(et_clf, 'Brouillons/extra_tree_classifier_model.joblib')"
   ]
  },
  {
   "cell_type": "markdown",
   "metadata": {
    "id": "crdCkOKmFmPY"
   },
   "source": [
    "#### Modèle XGBClassifier"
   ]
  },
  {
   "cell_type": "code",
   "execution_count": 9,
   "metadata": {
    "id": "w2BmyMIvFmPY",
    "outputId": "f8632590-fae6-4694-fe5b-d9fdfdd60a9a"
   },
   "outputs": [
    {
     "name": "stdout",
     "output_type": "stream",
     "text": [
      "XGBClassifier Accuracy: 0.81\n",
      "\n",
      "Classification Report:\n",
      "              precision    recall  f1-score   support\n",
      "\n",
      "           0       0.77      0.79      0.78     37934\n",
      "           1       0.85      0.83      0.84     53352\n",
      "\n",
      "    accuracy                           0.81     91286\n",
      "   macro avg       0.81      0.81      0.81     91286\n",
      "weighted avg       0.81      0.81      0.81     91286\n",
      "\n"
     ]
    }
   ],
   "source": [
    "# XGBClassifier\n",
    "\n",
    "# Initialiser et entraîner le modèle XGBClassifier\n",
    "xgb_clf = XGBClassifier(use_label_encoder=False)\n",
    "xgb_clf.fit(X_train, y_train)\n",
    "\n",
    "# Prédire les valeurs pour l'ensemble de test\n",
    "y_pred_xgb = xgb_clf.predict(X_test)\n",
    "\n",
    "# Évaluer le modèle\n",
    "accuracy_xgb = accuracy_score(y_test, y_pred_xgb)\n",
    "report_xgb = classification_report(y_test, y_pred_xgb)\n",
    "# Afficher les résultats\n",
    "print(f\"XGBClassifier Accuracy: {accuracy_xgb:.2f}\")\n",
    "print(\"\\nClassification Report:\")\n",
    "print(report_xgb)"
   ]
  },
  {
   "cell_type": "code",
   "execution_count": 8,
   "metadata": {},
   "outputs": [
    {
     "ename": "NameError",
     "evalue": "name 'y_pred_xgb' is not defined",
     "output_type": "error",
     "traceback": [
      "\u001b[0;31m---------------------------------------------------------------------------\u001b[0m",
      "\u001b[0;31mNameError\u001b[0m                                 Traceback (most recent call last)",
      "Cell \u001b[0;32mIn[8], line 1\u001b[0m\n\u001b[0;32m----> 1\u001b[0m cm_xgb \u001b[38;5;241m=\u001b[39m confusion_matrix(y_test, \u001b[43my_pred_xgb\u001b[49m)\n\u001b[1;32m      2\u001b[0m \u001b[38;5;28mprint\u001b[39m(\u001b[38;5;124m\"\u001b[39m\u001b[38;5;124mMatrice de confusion :\u001b[39m\u001b[38;5;130;01m\\n\u001b[39;00m\u001b[38;5;124m\"\u001b[39m, cm_xgb)\n\u001b[1;32m      4\u001b[0m row_sums_xgb \u001b[38;5;241m=\u001b[39m cm_xgb\u001b[38;5;241m.\u001b[39msum(axis \u001b[38;5;241m=\u001b[39m \u001b[38;5;241m1\u001b[39m)\n",
      "\u001b[0;31mNameError\u001b[0m: name 'y_pred_xgb' is not defined"
     ]
    }
   ],
   "source": [
    "cm_xgb = confusion_matrix(y_test, y_pred_xgb)\n",
    "print(\"Matrice de confusion :\\n\", cm_xgb)\n",
    "\n",
    "row_sums_xgb = cm_xgb.sum(axis = 1)\n",
    "cm_percent_xgb = (cm_xgb.T / row_sums_xgb).T * 100\n",
    "\n",
    "plt.figure(figsize=(8, 6))\n",
    "sns.heatmap(cm_percent_xgb, annot = True, fmt = \".2f\", cmap = \"Blues\")\n",
    "plt.xlabel('Classe prédite')\n",
    "plt.ylabel('Classe réelle')\n",
    "plt.title('Matrice de confusion avec pourcentages')\n",
    "plt.show();"
   ]
  },
  {
   "cell_type": "code",
   "execution_count": 10,
   "metadata": {},
   "outputs": [
    {
     "data": {
      "text/plain": [
       "['models_saved/GBClassifier_model.joblib']"
      ]
     },
     "execution_count": 10,
     "metadata": {},
     "output_type": "execute_result"
    }
   ],
   "source": [
    "# Sauvegarder le modèle\n",
    "joblib.dump(xgb_clf, 'models_saved/GBClassifier_model.joblib')"
   ]
  },
  {
   "cell_type": "markdown",
   "metadata": {
    "id": "srC9xJjwFmPY"
   },
   "source": [
    "#### Modèle LGBMClassifier"
   ]
  },
  {
   "cell_type": "code",
   "execution_count": 27,
   "metadata": {
    "id": "iueD1w-TFmPY",
    "outputId": "7649e790-3075-4496-f5bf-9f14a76659eb"
   },
   "outputs": [
    {
     "name": "stdout",
     "output_type": "stream",
     "text": [
      "[LightGBM] [Warning] Unknown parameter: eval_metric\n",
      "[LightGBM] [Warning] Unknown parameter: use_label_encoder\n",
      "[LightGBM] [Warning] Unknown parameter: eval_metric\n",
      "[LightGBM] [Warning] Unknown parameter: use_label_encoder\n",
      "[LightGBM] [Info] Number of positive: 212853, number of negative: 152289\n",
      "[LightGBM] [Info] Auto-choosing row-wise multi-threading, the overhead of testing was 0.022852 seconds.\n",
      "You can set `force_row_wise=true` to remove the overhead.\n",
      "And if memory is not enough, you can set `force_col_wise=true`.\n",
      "[LightGBM] [Info] Total Bins 1057\n",
      "[LightGBM] [Info] Number of data points in the train set: 365142, number of used features: 34\n",
      "[LightGBM] [Info] [binary:BoostFromScore]: pavg=0.582932 -> initscore=0.334822\n",
      "[LightGBM] [Info] Start training from score 0.334822\n",
      "[LightGBM] [Warning] Unknown parameter: eval_metric\n",
      "[LightGBM] [Warning] Unknown parameter: use_label_encoder\n",
      "LGBMClassifier Accuracy: 0.81\n",
      "\n",
      "Classification Report:\n",
      "              precision    recall  f1-score   support\n",
      "\n",
      "           0       0.77      0.78      0.77     38163\n",
      "           1       0.84      0.83      0.83     53123\n",
      "\n",
      "    accuracy                           0.81     91286\n",
      "   macro avg       0.80      0.80      0.80     91286\n",
      "weighted avg       0.81      0.81      0.81     91286\n",
      "\n"
     ]
    }
   ],
   "source": [
    "# LGBMClassifier\n",
    "\n",
    "# LightGBM : lightgbm.LGBMClassifier\n",
    "# Initialiser et entraîner le modèle LightGBM\n",
    "lig_clf = LGBMClassifier(use_label_encoder=False, eval_metric='logloss')\n",
    "lig_clf.fit(X_train, y_train)\n",
    "\n",
    "# Prédire les valeurs pour l'ensemble de test\n",
    "y_pred_lgbm = lig_clf.predict(X_test)\n",
    "\n",
    "# Évaluer le modèle\n",
    "accuracy_lgbm = accuracy_score(y_test, y_pred_lgbm)\n",
    "report_lgbm = classification_report(y_test, y_pred_lgbm)\n",
    "\n",
    "# Afficher les résultats\n",
    "print(f\"LGBMClassifier Accuracy: {accuracy_lgbm:.2f}\")\n",
    "print(\"\\nClassification Report:\")\n",
    "print(report_lgbm)"
   ]
  },
  {
   "cell_type": "code",
   "execution_count": null,
   "metadata": {},
   "outputs": [],
   "source": [
    "cm_lgbm = confusion_matrix(y_test, y_pred_lgbm)\n",
    "print(\"Matrice de confusion :\\n\", cm_lgbm)\n",
    "\n",
    "row_sums_lgbm = cm_lgbm.sum(axis = 1)\n",
    "cm_percent_lgbm = (cm_lgbm.T / row_sums_lgbm).T * 100\n",
    "\n",
    "plt.figure(figsize=(8, 6))\n",
    "sns.heatmap(cm_percent_lgbm, annot = True, fmt = \".2f\", cmap = \"Blues\")\n",
    "plt.xlabel('Classe prédite')\n",
    "plt.ylabel('Classe réelle')\n",
    "plt.title('Matrice de confusion avec pourcentages')\n",
    "plt.show();"
   ]
  },
  {
   "cell_type": "code",
   "execution_count": 28,
   "metadata": {},
   "outputs": [
    {
     "data": {
      "text/plain": [
       "['models_saved/LGBMClassifier_model.joblib']"
      ]
     },
     "execution_count": 28,
     "metadata": {},
     "output_type": "execute_result"
    }
   ],
   "source": [
    "# Sauvegarder le modèle\n",
    "joblib.dump(lig_clf, 'models_saved/LGBMClassifier_model.joblib')"
   ]
  },
  {
   "cell_type": "markdown",
   "metadata": {
    "id": "W6gTqBv6FmPY"
   },
   "source": [
    "#### Modèle KNeighborsClassifier"
   ]
  },
  {
   "cell_type": "code",
   "execution_count": 29,
   "metadata": {
    "id": "rMuRq4E9FmPY",
    "outputId": "1c86528e-c813-40b4-bfc4-c616649c7811"
   },
   "outputs": [
    {
     "name": "stdout",
     "output_type": "stream",
     "text": [
      "KNeighborsClassifier Accuracy: 0.65\n",
      "\n",
      "Classification Report:\n",
      "              precision    recall  f1-score   support\n",
      "\n",
      "           0       0.58      0.63      0.60     38163\n",
      "           1       0.71      0.67      0.69     53123\n",
      "\n",
      "    accuracy                           0.65     91286\n",
      "   macro avg       0.65      0.65      0.65     91286\n",
      "weighted avg       0.66      0.65      0.65     91286\n",
      "\n"
     ]
    }
   ],
   "source": [
    "# # KNeighborsClassifier\n",
    "\n",
    "# # Initialiser et entraîner le modèle KNeighborsClassifier\n",
    "knn_clf = KNeighborsClassifier(n_neighbors=3)\n",
    "knn_clf.fit(X_train, y_train)\n",
    "\n",
    " # Prédire les valeurs pour l'ensemble de test\n",
    "y_pred_knn = knn_clf.predict(X_test)\n",
    "\n",
    "# # Évaluer le modèle\n",
    "accuracy_knn = accuracy_score(y_test, y_pred_knn)\n",
    "report_knn = classification_report(y_test, y_pred_knn)\n",
    "\n",
    "# # Afficher les résultats\n",
    "print(f\"KNeighborsClassifier Accuracy: {accuracy_knn:.2f}\")\n",
    "print(\"\\nClassification Report:\")\n",
    "print(report_knn)"
   ]
  },
  {
   "cell_type": "code",
   "execution_count": null,
   "metadata": {},
   "outputs": [],
   "source": [
    "cm_knn = confusion_matrix(y_test, y_pred_knn)\n",
    "print(\"Matrice de confusion :\\n\", cm_knn)\n",
    "\n",
    "row_sums_knn = cm_knn.sum(axis = 1)\n",
    "cm_percent_knn = (cm_knn.T / row_sums_knn).T * 100\n",
    "\n",
    "plt.figure(figsize=(8, 6))\n",
    "sns.heatmap(cm_percent_knn, annot = True, fmt = \".2f\", cmap = \"Blues\")\n",
    "plt.xlabel('Classe prédite')\n",
    "plt.ylabel('Classe réelle')\n",
    "plt.title('Matrice de confusion avec pourcentages')\n",
    "plt.show();"
   ]
  },
  {
   "cell_type": "code",
   "execution_count": 30,
   "metadata": {},
   "outputs": [
    {
     "data": {
      "text/plain": [
       "['models_saved/KNeighborsClassifier_model.joblib']"
      ]
     },
     "execution_count": 30,
     "metadata": {},
     "output_type": "execute_result"
    }
   ],
   "source": [
    "# Sauvegarder le modèle\n",
    "joblib.dump(knn_clf, 'models_saved/KNeighborsClassifier_model.joblib')"
   ]
  },
  {
   "cell_type": "markdown",
   "metadata": {
    "id": "4nqebVYLFmPY"
   },
   "source": [
    "### Cross Validation"
   ]
  },
  {
   "cell_type": "code",
   "execution_count": 31,
   "metadata": {},
   "outputs": [],
   "source": [
    "X = df.drop(['trajet','age_group', 'long', 'motor', 'vosp', 'lum', 'agg', 'com', 'situ','grav', 'infra', 'surf', 'plan', 'circ', 'atm', 'senc', 'int', 'prof', 'nbv', 'weekday'], axis=1)\n",
    "y = df.grav"
   ]
  },
  {
   "cell_type": "code",
   "execution_count": 33,
   "metadata": {
    "id": "zRPNONVxFmPY",
    "outputId": "a7fcc331-19a6-4a92-8c50-7f9b90d47ae1"
   },
   "outputs": [
    {
     "name": "stdout",
     "output_type": "stream",
     "text": [
      "Scores de validation croisée :  [0.80976272 0.8086344  0.80788949 0.80954155 0.81061511]\n",
      "Score moyen :  0.8092886535868639\n",
      "Ecart type  :  0.0009416876404237049\n"
     ]
    }
   ],
   "source": [
    "# Cross validation - XGBClassifier - KFold = 5\n",
    "\n",
    "# Initialisation du modèle\n",
    "model_xgbc = XGBClassifier()\n",
    "\n",
    "# Configuration de la validation croisée K-Fold\n",
    "kf_xgbc = KFold(n_splits=5, shuffle=True, random_state=42)\n",
    "\n",
    "# Évaluation du modèle avec la validation croisée\n",
    "scores_xgbc = cross_val_score(model_xgbc, X, y, cv=kf_xgbc)\n",
    "std_score_xgbc = np.std(scores_xgbc)    # Écart-type des scores\n",
    "print(\"Scores de validation croisée : \", scores_xgbc)\n",
    "print(\"Score moyen : \", scores_xgbc.mean())\n",
    "print(\"Ecart type  : \", std_score_xgbc)"
   ]
  },
  {
   "cell_type": "code",
   "execution_count": 34,
   "metadata": {
    "id": "yaH59jcmFmPY",
    "outputId": "e6b9428f-38e5-493f-a138-1d7c23b0b7b7"
   },
   "outputs": [
    {
     "name": "stdout",
     "output_type": "stream",
     "text": [
      "Scores de validation croisée :  [0.78783165 0.78836842 0.78789738 0.78666813 0.78867284]\n",
      "Score moyen :  0.787887683414686\n",
      "Ecart type moyen :  0.0006838318929365241\n"
     ]
    }
   ],
   "source": [
    "# Cross validation - AdaBoostClassifier\n",
    "\n",
    "# Initialisation du modèle\n",
    "model_ada = AdaBoostClassifier()\n",
    "\n",
    "# Configuration de la validation croisée K-Fold\n",
    "kf_ada = KFold(n_splits=5, shuffle=True, random_state=42)\n",
    "\n",
    "# Évaluation du modèle avec la validation croisée\n",
    "scores_ada = cross_val_score(model_ada, X, y, cv=kf_ada)\n",
    "std_score_ada = np.std(scores_ada)    # Écart-type des scores\n",
    "print(\"Scores de validation croisée : \", scores_ada)\n",
    "print(\"Score moyen : \", scores_ada.mean())\n",
    "print(\"Ecart type moyen : \", std_score_ada)"
   ]
  },
  {
   "cell_type": "code",
   "execution_count": 35,
   "metadata": {
    "id": "pwtOS23vFmPY",
    "outputId": "aa935c5c-dfc7-4214-cbbb-555ef6b78d9a"
   },
   "outputs": [
    {
     "name": "stdout",
     "output_type": "stream",
     "text": [
      "Scores de validation croisée :  [0.77789584 0.77773153 0.77592402 0.77882456 0.77978857]\n",
      "Score moyen :  0.7780329045267285\n",
      "Ecart type moyen :  0.001285776694286192\n"
     ]
    }
   ],
   "source": [
    "# Cross validation - ExtraTreesClassifier\n",
    "\n",
    "# Initialisation du modèle\n",
    "model_et = ExtraTreesClassifier()\n",
    "\n",
    "# Configuration de la validation croisée K-Fold\n",
    "kf_et = KFold(n_splits=5, shuffle=True, random_state=42)\n",
    "\n",
    "# Évaluation du modèle avec la validation croisée\n",
    "scores_et = cross_val_score(model_et, X, y, cv=kf_et)\n",
    "std_score_et = np.std(scores_et)    # Écart-type des scores\n",
    "print(\"Scores de validation croisée : \", scores_et)\n",
    "print(\"Score moyen : \", scores_et.mean())\n",
    "print(\"Ecart type moyen : \", std_score_et)"
   ]
  },
  {
   "cell_type": "code",
   "execution_count": 36,
   "metadata": {
    "id": "W_bs-vtkFmPY",
    "outputId": "655d6e09-9add-4351-ddac-7faec96a266b"
   },
   "outputs": [
    {
     "name": "stdout",
     "output_type": "stream",
     "text": [
      "[LightGBM] [Info] Number of positive: 212681, number of negative: 152461\n",
      "[LightGBM] [Info] Auto-choosing row-wise multi-threading, the overhead of testing was 0.008629 seconds.\n",
      "You can set `force_row_wise=true` to remove the overhead.\n",
      "And if memory is not enough, you can set `force_col_wise=true`.\n",
      "[LightGBM] [Info] Total Bins 414\n",
      "[LightGBM] [Info] Number of data points in the train set: 365142, number of used features: 15\n",
      "[LightGBM] [Info] [binary:BoostFromScore]: pavg=0.582461 -> initscore=0.332885\n",
      "[LightGBM] [Info] Start training from score 0.332885\n",
      "[LightGBM] [Info] Number of positive: 212676, number of negative: 152466\n",
      "[LightGBM] [Info] Auto-choosing row-wise multi-threading, the overhead of testing was 0.011849 seconds.\n",
      "You can set `force_row_wise=true` to remove the overhead.\n",
      "And if memory is not enough, you can set `force_col_wise=true`.\n",
      "[LightGBM] [Info] Total Bins 413\n",
      "[LightGBM] [Info] Number of data points in the train set: 365142, number of used features: 15\n",
      "[LightGBM] [Info] [binary:BoostFromScore]: pavg=0.582447 -> initscore=0.332828\n",
      "[LightGBM] [Info] Start training from score 0.332828\n",
      "[LightGBM] [Info] Number of positive: 212894, number of negative: 152248\n",
      "[LightGBM] [Info] Auto-choosing row-wise multi-threading, the overhead of testing was 0.009839 seconds.\n",
      "You can set `force_row_wise=true` to remove the overhead.\n",
      "And if memory is not enough, you can set `force_col_wise=true`.\n",
      "[LightGBM] [Info] Total Bins 414\n",
      "[LightGBM] [Info] Number of data points in the train set: 365142, number of used features: 15\n",
      "[LightGBM] [Info] [binary:BoostFromScore]: pavg=0.583044 -> initscore=0.335284\n",
      "[LightGBM] [Info] Start training from score 0.335284\n",
      "[LightGBM] [Info] Number of positive: 212743, number of negative: 152400\n",
      "[LightGBM] [Info] Auto-choosing row-wise multi-threading, the overhead of testing was 0.009516 seconds.\n",
      "You can set `force_row_wise=true` to remove the overhead.\n",
      "And if memory is not enough, you can set `force_col_wise=true`.\n",
      "[LightGBM] [Info] Total Bins 412\n",
      "[LightGBM] [Info] Number of data points in the train set: 365143, number of used features: 15\n",
      "[LightGBM] [Info] [binary:BoostFromScore]: pavg=0.582629 -> initscore=0.333576\n",
      "[LightGBM] [Info] Start training from score 0.333576\n",
      "[LightGBM] [Info] Number of positive: 212910, number of negative: 152233\n",
      "[LightGBM] [Info] Auto-choosing row-wise multi-threading, the overhead of testing was 0.008658 seconds.\n",
      "You can set `force_row_wise=true` to remove the overhead.\n",
      "And if memory is not enough, you can set `force_col_wise=true`.\n",
      "[LightGBM] [Info] Total Bins 415\n",
      "[LightGBM] [Info] Number of data points in the train set: 365143, number of used features: 15\n",
      "[LightGBM] [Info] [binary:BoostFromScore]: pavg=0.583087 -> initscore=0.335457\n",
      "[LightGBM] [Info] Start training from score 0.335457\n",
      "Scores de validation croisée :  [0.80713362 0.8051618  0.80567666 0.80586077 0.80704387]\n",
      "Score moyen :  0.8061753454081444\n",
      "Ecart type moyen :  0.0007807122346134036\n"
     ]
    }
   ],
   "source": [
    "# Cross validation - LGBMClassifier\n",
    "\n",
    "# Initialisation du modèle\n",
    "model_lgbm = LGBMClassifier()\n",
    "\n",
    "# Configuration de la validation croisée K-Fold\n",
    "kf_lgbm = KFold(n_splits=5, shuffle=True, random_state=42)\n",
    "\n",
    "# Évaluation du modèle avec la validation croisée\n",
    "scores_lgbm = cross_val_score(model_lgbm, X, y, cv=kf_lgbm)\n",
    "std_score_lgbm = np.std(scores_lgbm)    # Écart-type des scores\n",
    "print(\"Scores de validation croisée : \", scores_lgbm)\n",
    "print(\"Score moyen : \", scores_lgbm.mean())\n",
    "print(\"Ecart type moyen : \", std_score_lgbm)\n"
   ]
  },
  {
   "cell_type": "markdown",
   "metadata": {
    "id": "NToNRCt1FmPZ"
   },
   "source": [
    "### Comparaison des scores pour chaque modèle"
   ]
  },
  {
   "cell_type": "code",
   "execution_count": 5,
   "metadata": {},
   "outputs": [
    {
     "name": "stdout",
     "output_type": "stream",
     "text": [
      "[LightGBM] [Warning] Unknown parameter: eval_metric\n",
      "[LightGBM] [Warning] Unknown parameter: use_label_encoder\n"
     ]
    },
    {
     "data": {
      "text/html": [
       "<div>\n",
       "<style scoped>\n",
       "    .dataframe tbody tr th:only-of-type {\n",
       "        vertical-align: middle;\n",
       "    }\n",
       "\n",
       "    .dataframe tbody tr th {\n",
       "        vertical-align: top;\n",
       "    }\n",
       "\n",
       "    .dataframe thead th {\n",
       "        text-align: right;\n",
       "    }\n",
       "</style>\n",
       "<table border=\"1\" class=\"dataframe\">\n",
       "  <thead>\n",
       "    <tr style=\"text-align: right;\">\n",
       "      <th></th>\n",
       "      <th>Model</th>\n",
       "      <th>Accuracy</th>\n",
       "      <th>Ecart_type</th>\n",
       "      <th>f1_score</th>\n",
       "      <th>recall_score</th>\n",
       "      <th>precision_score</th>\n",
       "    </tr>\n",
       "  </thead>\n",
       "  <tbody>\n",
       "    <tr>\n",
       "      <th>0</th>\n",
       "      <td>AdaBoostClassifier</td>\n",
       "      <td>0.58</td>\n",
       "      <td>0.08</td>\n",
       "      <td>0.74</td>\n",
       "      <td>1.00</td>\n",
       "      <td>0.58</td>\n",
       "    </tr>\n",
       "    <tr>\n",
       "      <th>1</th>\n",
       "      <td>ExtraTreesClassifier</td>\n",
       "      <td>0.96</td>\n",
       "      <td>0.49</td>\n",
       "      <td>0.97</td>\n",
       "      <td>0.96</td>\n",
       "      <td>0.97</td>\n",
       "    </tr>\n",
       "    <tr>\n",
       "      <th>2</th>\n",
       "      <td>XGBClassifier</td>\n",
       "      <td>0.49</td>\n",
       "      <td>0.42</td>\n",
       "      <td>0.62</td>\n",
       "      <td>0.72</td>\n",
       "      <td>0.55</td>\n",
       "    </tr>\n",
       "    <tr>\n",
       "      <th>3</th>\n",
       "      <td>LGBMClassifier</td>\n",
       "      <td>0.81</td>\n",
       "      <td>0.49</td>\n",
       "      <td>0.83</td>\n",
       "      <td>0.83</td>\n",
       "      <td>0.84</td>\n",
       "    </tr>\n",
       "    <tr>\n",
       "      <th>4</th>\n",
       "      <td>KNeighborsClassifier</td>\n",
       "      <td>0.79</td>\n",
       "      <td>0.50</td>\n",
       "      <td>0.82</td>\n",
       "      <td>0.80</td>\n",
       "      <td>0.83</td>\n",
       "    </tr>\n",
       "    <tr>\n",
       "      <th>5</th>\n",
       "      <td>Random Forest Classifier</td>\n",
       "      <td>0.58</td>\n",
       "      <td>0.03</td>\n",
       "      <td>0.74</td>\n",
       "      <td>1.00</td>\n",
       "      <td>0.58</td>\n",
       "    </tr>\n",
       "  </tbody>\n",
       "</table>\n",
       "</div>"
      ],
      "text/plain": [
       "                      Model  Accuracy  Ecart_type  f1_score  recall_score  \\\n",
       "0        AdaBoostClassifier      0.58        0.08      0.74          1.00   \n",
       "1      ExtraTreesClassifier      0.96        0.49      0.97          0.96   \n",
       "2             XGBClassifier      0.49        0.42      0.62          0.72   \n",
       "3            LGBMClassifier      0.81        0.49      0.83          0.83   \n",
       "4      KNeighborsClassifier      0.79        0.50      0.82          0.80   \n",
       "5  Random Forest Classifier      0.58        0.03      0.74          1.00   \n",
       "\n",
       "   precision_score  \n",
       "0             0.58  \n",
       "1             0.97  \n",
       "2             0.55  \n",
       "3             0.84  \n",
       "4             0.83  \n",
       "5             0.58  "
      ]
     },
     "execution_count": 5,
     "metadata": {},
     "output_type": "execute_result"
    }
   ],
   "source": [
    "ada_model = joblib.load('models_saved/best_estimator_ada_model.joblib')\n",
    "et_model = joblib.load('Brouillons/extra_tree_classifier_model.joblib')\n",
    "xgbc_model = joblib.load('models_saved/GBClassifier_model.joblib')\n",
    "lgbm_model = joblib.load('models_saved/LGBMClassifier_model.joblib')\n",
    "knn_model = joblib.load('models_saved/KNeighborsClassifier_model.joblib')\n",
    "rf_model = joblib.load('Brouillons/rf_model.joblib')\n",
    "\n",
    "models = {\n",
    "    'AdaBoostClassifier': ada_model,\n",
    "    'ExtraTreesClassifier': et_model,\n",
    "    'XGBClassifier': xgbc_model,\n",
    "    'LGBMClassifier' : lgbm_model,\n",
    "   'KNeighborsClassifier' : knn_model,\n",
    "   'Random Forest Classifier' : rf_model\n",
    "   }\n",
    "\n",
    "# Liste pour stocker les résultats\n",
    "results = []\n",
    "\n",
    "for name, model in models.items():\n",
    "    results_pred = model.predict(X_test)\n",
    "    \n",
    "    results.append({\n",
    "        'Model': name,\n",
    "        'Accuracy': accuracy_score(y_test, results_pred),\n",
    "        'Ecart_type': np.std(results_pred),\n",
    "        'f1_score': f1_score(y_test, results_pred),\n",
    "        'recall_score' : recall_score(y_test, results_pred),\n",
    "        'precision_score' : precision_score(y_test, results_pred)\n",
    "            })\n",
    "   \n",
    "results_df = pd.DataFrame(results)\n",
    "\n",
    "# Afficher le résultat\n",
    "results_df"
   ]
  },
  {
   "cell_type": "markdown",
   "metadata": {
    "id": "-TPd9vUUFmPZ"
   },
   "source": [
    "### Analyse des résultats"
   ]
  },
  {
   "cell_type": "code",
   "execution_count": 6,
   "metadata": {},
   "outputs": [
    {
     "name": "stdout",
     "output_type": "stream",
     "text": [
      "[LightGBM] [Warning] Unknown parameter: eval_metric\n",
      "[LightGBM] [Warning] Unknown parameter: use_label_encoder\n"
     ]
    }
   ],
   "source": [
    "y_pred_ada = ada_model.predict(X_test)\n",
    "y_pred_et = et_model.predict(X_test)\n",
    "y_pred_xgbc = xgbc_model.predict(X_test)\n",
    "y_pred_lgbm = lgbm_model.predict(X_test)\n",
    "y_pred_knn = knn_model.predict(X_test)\n",
    "y_pred_rf = rf_model.predict(X_test)"
   ]
  },
  {
   "cell_type": "code",
   "execution_count": 8,
   "metadata": {
    "id": "2iAYQnXWFmPZ"
   },
   "outputs": [
    {
     "name": "stdout",
     "output_type": "stream",
     "text": [
      "(91286, 40)\n"
     ]
    },
    {
     "data": {
      "text/html": [
       "<div>\n",
       "<style scoped>\n",
       "    .dataframe tbody tr th:only-of-type {\n",
       "        vertical-align: middle;\n",
       "    }\n",
       "\n",
       "    .dataframe tbody tr th {\n",
       "        vertical-align: top;\n",
       "    }\n",
       "\n",
       "    .dataframe thead th {\n",
       "        text-align: right;\n",
       "    }\n",
       "</style>\n",
       "<table border=\"1\" class=\"dataframe\">\n",
       "  <thead>\n",
       "    <tr style=\"text-align: right;\">\n",
       "      <th></th>\n",
       "      <th>place</th>\n",
       "      <th>catu</th>\n",
       "      <th>sexe</th>\n",
       "      <th>trajet</th>\n",
       "      <th>secu1</th>\n",
       "      <th>locp</th>\n",
       "      <th>catr</th>\n",
       "      <th>circ</th>\n",
       "      <th>nbv</th>\n",
       "      <th>vosp</th>\n",
       "      <th>prof</th>\n",
       "      <th>plan</th>\n",
       "      <th>surf</th>\n",
       "      <th>infra</th>\n",
       "      <th>situ</th>\n",
       "      <th>vma</th>\n",
       "      <th>lum</th>\n",
       "      <th>com</th>\n",
       "      <th>agg</th>\n",
       "      <th>int</th>\n",
       "      <th>atm</th>\n",
       "      <th>col</th>\n",
       "      <th>lat</th>\n",
       "      <th>long</th>\n",
       "      <th>senc</th>\n",
       "      <th>catv</th>\n",
       "      <th>obs</th>\n",
       "      <th>obsm</th>\n",
       "      <th>choc</th>\n",
       "      <th>manv</th>\n",
       "      <th>motor</th>\n",
       "      <th>age_group</th>\n",
       "      <th>h_group</th>\n",
       "      <th>weekday</th>\n",
       "      <th>gravite</th>\n",
       "      <th>pred_ada</th>\n",
       "      <th>pred_extrTr</th>\n",
       "      <th>pred_xgb</th>\n",
       "      <th>pred_lgbm</th>\n",
       "      <th>pred_knn</th>\n",
       "    </tr>\n",
       "  </thead>\n",
       "  <tbody>\n",
       "    <tr>\n",
       "      <th>0</th>\n",
       "      <td>1</td>\n",
       "      <td>1</td>\n",
       "      <td>1</td>\n",
       "      <td>5</td>\n",
       "      <td>1</td>\n",
       "      <td>-1</td>\n",
       "      <td>4</td>\n",
       "      <td>2</td>\n",
       "      <td>2</td>\n",
       "      <td>0</td>\n",
       "      <td>1</td>\n",
       "      <td>1</td>\n",
       "      <td>1</td>\n",
       "      <td>0</td>\n",
       "      <td>1</td>\n",
       "      <td>50</td>\n",
       "      <td>1</td>\n",
       "      <td>26198</td>\n",
       "      <td>2</td>\n",
       "      <td>3</td>\n",
       "      <td>1</td>\n",
       "      <td>3</td>\n",
       "      <td>44.56</td>\n",
       "      <td>4.73</td>\n",
       "      <td>1</td>\n",
       "      <td>3</td>\n",
       "      <td>0</td>\n",
       "      <td>2</td>\n",
       "      <td>1</td>\n",
       "      <td>9</td>\n",
       "      <td>1</td>\n",
       "      <td>2</td>\n",
       "      <td>6</td>\n",
       "      <td>2</td>\n",
       "      <td>1</td>\n",
       "      <td>1</td>\n",
       "      <td>1</td>\n",
       "      <td>1</td>\n",
       "      <td>1</td>\n",
       "      <td>1</td>\n",
       "    </tr>\n",
       "    <tr>\n",
       "      <th>1</th>\n",
       "      <td>1</td>\n",
       "      <td>1</td>\n",
       "      <td>1</td>\n",
       "      <td>5</td>\n",
       "      <td>1</td>\n",
       "      <td>-1</td>\n",
       "      <td>4</td>\n",
       "      <td>2</td>\n",
       "      <td>2</td>\n",
       "      <td>0</td>\n",
       "      <td>1</td>\n",
       "      <td>1</td>\n",
       "      <td>1</td>\n",
       "      <td>0</td>\n",
       "      <td>1</td>\n",
       "      <td>50</td>\n",
       "      <td>1</td>\n",
       "      <td>26198</td>\n",
       "      <td>2</td>\n",
       "      <td>3</td>\n",
       "      <td>1</td>\n",
       "      <td>3</td>\n",
       "      <td>44.56</td>\n",
       "      <td>4.73</td>\n",
       "      <td>1</td>\n",
       "      <td>6</td>\n",
       "      <td>0</td>\n",
       "      <td>2</td>\n",
       "      <td>2</td>\n",
       "      <td>1</td>\n",
       "      <td>1</td>\n",
       "      <td>7</td>\n",
       "      <td>6</td>\n",
       "      <td>2</td>\n",
       "      <td>0</td>\n",
       "      <td>1</td>\n",
       "      <td>1</td>\n",
       "      <td>1</td>\n",
       "      <td>1</td>\n",
       "      <td>1</td>\n",
       "    </tr>\n",
       "    <tr>\n",
       "      <th>2</th>\n",
       "      <td>1</td>\n",
       "      <td>1</td>\n",
       "      <td>1</td>\n",
       "      <td>9</td>\n",
       "      <td>1</td>\n",
       "      <td>0</td>\n",
       "      <td>4</td>\n",
       "      <td>2</td>\n",
       "      <td>2</td>\n",
       "      <td>0</td>\n",
       "      <td>1</td>\n",
       "      <td>1</td>\n",
       "      <td>1</td>\n",
       "      <td>0</td>\n",
       "      <td>1</td>\n",
       "      <td>50</td>\n",
       "      <td>1</td>\n",
       "      <td>25204</td>\n",
       "      <td>2</td>\n",
       "      <td>3</td>\n",
       "      <td>1</td>\n",
       "      <td>3</td>\n",
       "      <td>46.93</td>\n",
       "      <td>6.35</td>\n",
       "      <td>2</td>\n",
       "      <td>6</td>\n",
       "      <td>0</td>\n",
       "      <td>2</td>\n",
       "      <td>8</td>\n",
       "      <td>15</td>\n",
       "      <td>1</td>\n",
       "      <td>4</td>\n",
       "      <td>3</td>\n",
       "      <td>3</td>\n",
       "      <td>1</td>\n",
       "      <td>1</td>\n",
       "      <td>1</td>\n",
       "      <td>1</td>\n",
       "      <td>0</td>\n",
       "      <td>1</td>\n",
       "    </tr>\n",
       "    <tr>\n",
       "      <th>3</th>\n",
       "      <td>1</td>\n",
       "      <td>1</td>\n",
       "      <td>1</td>\n",
       "      <td>4</td>\n",
       "      <td>1</td>\n",
       "      <td>0</td>\n",
       "      <td>4</td>\n",
       "      <td>2</td>\n",
       "      <td>2</td>\n",
       "      <td>0</td>\n",
       "      <td>1</td>\n",
       "      <td>1</td>\n",
       "      <td>1</td>\n",
       "      <td>0</td>\n",
       "      <td>1</td>\n",
       "      <td>50</td>\n",
       "      <td>1</td>\n",
       "      <td>25204</td>\n",
       "      <td>2</td>\n",
       "      <td>3</td>\n",
       "      <td>1</td>\n",
       "      <td>3</td>\n",
       "      <td>46.93</td>\n",
       "      <td>6.35</td>\n",
       "      <td>2</td>\n",
       "      <td>5</td>\n",
       "      <td>0</td>\n",
       "      <td>2</td>\n",
       "      <td>1</td>\n",
       "      <td>1</td>\n",
       "      <td>1</td>\n",
       "      <td>6</td>\n",
       "      <td>3</td>\n",
       "      <td>3</td>\n",
       "      <td>0</td>\n",
       "      <td>1</td>\n",
       "      <td>1</td>\n",
       "      <td>0</td>\n",
       "      <td>1</td>\n",
       "      <td>1</td>\n",
       "    </tr>\n",
       "    <tr>\n",
       "      <th>4</th>\n",
       "      <td>1</td>\n",
       "      <td>1</td>\n",
       "      <td>1</td>\n",
       "      <td>0</td>\n",
       "      <td>1</td>\n",
       "      <td>-1</td>\n",
       "      <td>3</td>\n",
       "      <td>-1</td>\n",
       "      <td>2</td>\n",
       "      <td>0</td>\n",
       "      <td>1</td>\n",
       "      <td>1</td>\n",
       "      <td>1</td>\n",
       "      <td>5</td>\n",
       "      <td>1</td>\n",
       "      <td>50</td>\n",
       "      <td>1</td>\n",
       "      <td>22360</td>\n",
       "      <td>2</td>\n",
       "      <td>6</td>\n",
       "      <td>1</td>\n",
       "      <td>2</td>\n",
       "      <td>48.49</td>\n",
       "      <td>-2.76</td>\n",
       "      <td>2</td>\n",
       "      <td>6</td>\n",
       "      <td>0</td>\n",
       "      <td>2</td>\n",
       "      <td>1</td>\n",
       "      <td>2</td>\n",
       "      <td>1</td>\n",
       "      <td>3</td>\n",
       "      <td>6</td>\n",
       "      <td>3</td>\n",
       "      <td>0</td>\n",
       "      <td>1</td>\n",
       "      <td>1</td>\n",
       "      <td>1</td>\n",
       "      <td>1</td>\n",
       "      <td>1</td>\n",
       "    </tr>\n",
       "  </tbody>\n",
       "</table>\n",
       "</div>"
      ],
      "text/plain": [
       "   place  catu  sexe  trajet  secu1  locp  catr  circ  nbv  vosp  prof  plan  \\\n",
       "0      1     1     1       5      1    -1     4     2    2     0     1     1   \n",
       "1      1     1     1       5      1    -1     4     2    2     0     1     1   \n",
       "2      1     1     1       9      1     0     4     2    2     0     1     1   \n",
       "3      1     1     1       4      1     0     4     2    2     0     1     1   \n",
       "4      1     1     1       0      1    -1     3    -1    2     0     1     1   \n",
       "\n",
       "   surf  infra  situ  vma  lum    com  agg  int  atm  col   lat  long  senc  \\\n",
       "0     1      0     1   50    1  26198    2    3    1    3 44.56  4.73     1   \n",
       "1     1      0     1   50    1  26198    2    3    1    3 44.56  4.73     1   \n",
       "2     1      0     1   50    1  25204    2    3    1    3 46.93  6.35     2   \n",
       "3     1      0     1   50    1  25204    2    3    1    3 46.93  6.35     2   \n",
       "4     1      5     1   50    1  22360    2    6    1    2 48.49 -2.76     2   \n",
       "\n",
       "   catv  obs  obsm  choc  manv  motor  age_group  h_group  weekday  gravite  \\\n",
       "0     3    0     2     1     9      1          2        6        2        1   \n",
       "1     6    0     2     2     1      1          7        6        2        0   \n",
       "2     6    0     2     8    15      1          4        3        3        1   \n",
       "3     5    0     2     1     1      1          6        3        3        0   \n",
       "4     6    0     2     1     2      1          3        6        3        0   \n",
       "\n",
       "   pred_ada  pred_extrTr  pred_xgb  pred_lgbm  pred_knn  \n",
       "0         1            1         1          1         1  \n",
       "1         1            1         1          1         1  \n",
       "2         1            1         1          0         1  \n",
       "3         1            1         0          1         1  \n",
       "4         1            1         1          1         1  "
      ]
     },
     "execution_count": 8,
     "metadata": {},
     "output_type": "execute_result"
    }
   ],
   "source": [
    "# création d'un df pour ajouter les prédictions au dataset\n",
    "#df_filtered = df.copy()\n",
    "df_filtered = df.iloc[:len(y_test)]\n",
    "\n",
    "df_filtered['gravite'] = df['grav']\n",
    "df_filtered = df_filtered.drop(['grav'], axis=1)\n",
    "\n",
    "df_filtered['pred_ada'] = y_pred_ada\n",
    "df_filtered['pred_extrTr'] = y_pred_et\n",
    "df_filtered['pred_xgb'] = y_pred_xgbc\n",
    "df_filtered['pred_lgbm'] = y_pred_lgbm\n",
    "df_filtered['pred_knn'] = y_pred_knn\n",
    "print(df_filtered.shape)\n",
    "df_filtered.head()"
   ]
  },
  {
   "cell_type": "code",
   "execution_count": 15,
   "metadata": {},
   "outputs": [
    {
     "data": {
      "text/html": [
       "<div>\n",
       "<style scoped>\n",
       "    .dataframe tbody tr th:only-of-type {\n",
       "        vertical-align: middle;\n",
       "    }\n",
       "\n",
       "    .dataframe tbody tr th {\n",
       "        vertical-align: top;\n",
       "    }\n",
       "\n",
       "    .dataframe thead th {\n",
       "        text-align: right;\n",
       "    }\n",
       "</style>\n",
       "<table border=\"1\" class=\"dataframe\">\n",
       "  <thead>\n",
       "    <tr style=\"text-align: right;\">\n",
       "      <th></th>\n",
       "      <th>Num_Acc</th>\n",
       "      <th>id_usager</th>\n",
       "      <th>id_vehicule</th>\n",
       "      <th>num_veh</th>\n",
       "      <th>place</th>\n",
       "      <th>catu</th>\n",
       "      <th>grav</th>\n",
       "      <th>sexe</th>\n",
       "      <th>an_nais</th>\n",
       "      <th>trajet</th>\n",
       "      <th>secu1</th>\n",
       "      <th>secu2</th>\n",
       "      <th>secu3</th>\n",
       "      <th>locp</th>\n",
       "      <th>actp</th>\n",
       "      <th>etatp</th>\n",
       "      <th>catr</th>\n",
       "      <th>voie</th>\n",
       "      <th>v1</th>\n",
       "      <th>v2</th>\n",
       "      <th>circ</th>\n",
       "      <th>nbv</th>\n",
       "      <th>vosp</th>\n",
       "      <th>prof</th>\n",
       "      <th>pr</th>\n",
       "      <th>pr1</th>\n",
       "      <th>plan</th>\n",
       "      <th>lartpc</th>\n",
       "      <th>larrout</th>\n",
       "      <th>surf</th>\n",
       "      <th>infra</th>\n",
       "      <th>situ</th>\n",
       "      <th>vma</th>\n",
       "      <th>Accident_Id</th>\n",
       "      <th>jour</th>\n",
       "      <th>mois</th>\n",
       "      <th>an</th>\n",
       "      <th>hrmn</th>\n",
       "      <th>lum</th>\n",
       "      <th>dep</th>\n",
       "      <th>com</th>\n",
       "      <th>agg</th>\n",
       "      <th>int</th>\n",
       "      <th>atm</th>\n",
       "      <th>col</th>\n",
       "      <th>adr</th>\n",
       "      <th>lat</th>\n",
       "      <th>long</th>\n",
       "      <th>senc</th>\n",
       "      <th>catv</th>\n",
       "      <th>obs</th>\n",
       "      <th>obsm</th>\n",
       "      <th>choc</th>\n",
       "      <th>manv</th>\n",
       "      <th>motor</th>\n",
       "      <th>occutc</th>\n",
       "    </tr>\n",
       "  </thead>\n",
       "  <tbody>\n",
       "    <tr>\n",
       "      <th>0</th>\n",
       "      <td>202200000001</td>\n",
       "      <td>1 099 700</td>\n",
       "      <td>813 952</td>\n",
       "      <td>A01</td>\n",
       "      <td>1</td>\n",
       "      <td>1</td>\n",
       "      <td>3</td>\n",
       "      <td>1</td>\n",
       "      <td>2008.00</td>\n",
       "      <td>5</td>\n",
       "      <td>2</td>\n",
       "      <td>8</td>\n",
       "      <td>-1</td>\n",
       "      <td>-1</td>\n",
       "      <td>-1</td>\n",
       "      <td>-1</td>\n",
       "      <td>4</td>\n",
       "      <td>TEIL(vieille route du)</td>\n",
       "      <td>0.00</td>\n",
       "      <td>NaN</td>\n",
       "      <td>2</td>\n",
       "      <td>2</td>\n",
       "      <td>0</td>\n",
       "      <td>1</td>\n",
       "      <td>(1)</td>\n",
       "      <td>(1)</td>\n",
       "      <td>1</td>\n",
       "      <td>NaN</td>\n",
       "      <td>-1</td>\n",
       "      <td>1</td>\n",
       "      <td>0</td>\n",
       "      <td>1</td>\n",
       "      <td>50</td>\n",
       "      <td>202200000001.00</td>\n",
       "      <td>19</td>\n",
       "      <td>10</td>\n",
       "      <td>2022</td>\n",
       "      <td>16:15</td>\n",
       "      <td>1</td>\n",
       "      <td>26</td>\n",
       "      <td>26198</td>\n",
       "      <td>2</td>\n",
       "      <td>3</td>\n",
       "      <td>1</td>\n",
       "      <td>3</td>\n",
       "      <td>TEIL(vieille route du)</td>\n",
       "      <td>44,5594200000</td>\n",
       "      <td>4,7257200000</td>\n",
       "      <td>1</td>\n",
       "      <td>2</td>\n",
       "      <td>0</td>\n",
       "      <td>2</td>\n",
       "      <td>1</td>\n",
       "      <td>9</td>\n",
       "      <td>1</td>\n",
       "      <td>NaN</td>\n",
       "    </tr>\n",
       "    <tr>\n",
       "      <th>1</th>\n",
       "      <td>202200000001</td>\n",
       "      <td>1 099 701</td>\n",
       "      <td>813 953</td>\n",
       "      <td>B01</td>\n",
       "      <td>1</td>\n",
       "      <td>1</td>\n",
       "      <td>1</td>\n",
       "      <td>1</td>\n",
       "      <td>1948.00</td>\n",
       "      <td>5</td>\n",
       "      <td>1</td>\n",
       "      <td>8</td>\n",
       "      <td>-1</td>\n",
       "      <td>-1</td>\n",
       "      <td>-1</td>\n",
       "      <td>-1</td>\n",
       "      <td>4</td>\n",
       "      <td>TEIL(vieille route du)</td>\n",
       "      <td>0.00</td>\n",
       "      <td>NaN</td>\n",
       "      <td>2</td>\n",
       "      <td>2</td>\n",
       "      <td>0</td>\n",
       "      <td>1</td>\n",
       "      <td>(1)</td>\n",
       "      <td>(1)</td>\n",
       "      <td>1</td>\n",
       "      <td>NaN</td>\n",
       "      <td>-1</td>\n",
       "      <td>1</td>\n",
       "      <td>0</td>\n",
       "      <td>1</td>\n",
       "      <td>50</td>\n",
       "      <td>202200000001.00</td>\n",
       "      <td>19</td>\n",
       "      <td>10</td>\n",
       "      <td>2022</td>\n",
       "      <td>16:15</td>\n",
       "      <td>1</td>\n",
       "      <td>26</td>\n",
       "      <td>26198</td>\n",
       "      <td>2</td>\n",
       "      <td>3</td>\n",
       "      <td>1</td>\n",
       "      <td>3</td>\n",
       "      <td>TEIL(vieille route du)</td>\n",
       "      <td>44,5594200000</td>\n",
       "      <td>4,7257200000</td>\n",
       "      <td>1</td>\n",
       "      <td>7</td>\n",
       "      <td>0</td>\n",
       "      <td>2</td>\n",
       "      <td>2</td>\n",
       "      <td>1</td>\n",
       "      <td>1</td>\n",
       "      <td>NaN</td>\n",
       "    </tr>\n",
       "    <tr>\n",
       "      <th>2</th>\n",
       "      <td>202200000002</td>\n",
       "      <td>1 099 698</td>\n",
       "      <td>813 950</td>\n",
       "      <td>B01</td>\n",
       "      <td>1</td>\n",
       "      <td>1</td>\n",
       "      <td>4</td>\n",
       "      <td>1</td>\n",
       "      <td>1988.00</td>\n",
       "      <td>9</td>\n",
       "      <td>1</td>\n",
       "      <td>0</td>\n",
       "      <td>-1</td>\n",
       "      <td>0</td>\n",
       "      <td>0</td>\n",
       "      <td>-1</td>\n",
       "      <td>4</td>\n",
       "      <td>NaN</td>\n",
       "      <td>0.00</td>\n",
       "      <td>NaN</td>\n",
       "      <td>2</td>\n",
       "      <td>2</td>\n",
       "      <td>0</td>\n",
       "      <td>1</td>\n",
       "      <td>(1)</td>\n",
       "      <td>(1)</td>\n",
       "      <td>1</td>\n",
       "      <td>NaN</td>\n",
       "      <td>-1</td>\n",
       "      <td>1</td>\n",
       "      <td>0</td>\n",
       "      <td>1</td>\n",
       "      <td>50</td>\n",
       "      <td>202200000002.00</td>\n",
       "      <td>20</td>\n",
       "      <td>10</td>\n",
       "      <td>2022</td>\n",
       "      <td>08:34</td>\n",
       "      <td>1</td>\n",
       "      <td>25</td>\n",
       "      <td>25204</td>\n",
       "      <td>2</td>\n",
       "      <td>3</td>\n",
       "      <td>1</td>\n",
       "      <td>3</td>\n",
       "      <td>Miranda</td>\n",
       "      <td>46,9258100000</td>\n",
       "      <td>6,3462000000</td>\n",
       "      <td>2</td>\n",
       "      <td>7</td>\n",
       "      <td>0</td>\n",
       "      <td>2</td>\n",
       "      <td>8</td>\n",
       "      <td>15</td>\n",
       "      <td>1</td>\n",
       "      <td>NaN</td>\n",
       "    </tr>\n",
       "    <tr>\n",
       "      <th>3</th>\n",
       "      <td>202200000002</td>\n",
       "      <td>1 099 699</td>\n",
       "      <td>813 951</td>\n",
       "      <td>A01</td>\n",
       "      <td>1</td>\n",
       "      <td>1</td>\n",
       "      <td>1</td>\n",
       "      <td>1</td>\n",
       "      <td>1970.00</td>\n",
       "      <td>4</td>\n",
       "      <td>1</td>\n",
       "      <td>0</td>\n",
       "      <td>-1</td>\n",
       "      <td>0</td>\n",
       "      <td>0</td>\n",
       "      <td>-1</td>\n",
       "      <td>4</td>\n",
       "      <td>NaN</td>\n",
       "      <td>0.00</td>\n",
       "      <td>NaN</td>\n",
       "      <td>2</td>\n",
       "      <td>2</td>\n",
       "      <td>0</td>\n",
       "      <td>1</td>\n",
       "      <td>(1)</td>\n",
       "      <td>(1)</td>\n",
       "      <td>1</td>\n",
       "      <td>NaN</td>\n",
       "      <td>-1</td>\n",
       "      <td>1</td>\n",
       "      <td>0</td>\n",
       "      <td>1</td>\n",
       "      <td>50</td>\n",
       "      <td>202200000002.00</td>\n",
       "      <td>20</td>\n",
       "      <td>10</td>\n",
       "      <td>2022</td>\n",
       "      <td>08:34</td>\n",
       "      <td>1</td>\n",
       "      <td>25</td>\n",
       "      <td>25204</td>\n",
       "      <td>2</td>\n",
       "      <td>3</td>\n",
       "      <td>1</td>\n",
       "      <td>3</td>\n",
       "      <td>Miranda</td>\n",
       "      <td>46,9258100000</td>\n",
       "      <td>6,3462000000</td>\n",
       "      <td>2</td>\n",
       "      <td>10</td>\n",
       "      <td>0</td>\n",
       "      <td>2</td>\n",
       "      <td>1</td>\n",
       "      <td>1</td>\n",
       "      <td>1</td>\n",
       "      <td>NaN</td>\n",
       "    </tr>\n",
       "    <tr>\n",
       "      <th>4</th>\n",
       "      <td>202200000003</td>\n",
       "      <td>1 099 696</td>\n",
       "      <td>813 948</td>\n",
       "      <td>A01</td>\n",
       "      <td>1</td>\n",
       "      <td>1</td>\n",
       "      <td>1</td>\n",
       "      <td>1</td>\n",
       "      <td>2002.00</td>\n",
       "      <td>0</td>\n",
       "      <td>1</td>\n",
       "      <td>0</td>\n",
       "      <td>-1</td>\n",
       "      <td>-1</td>\n",
       "      <td>-1</td>\n",
       "      <td>-1</td>\n",
       "      <td>3</td>\n",
       "      <td>ROND POINT DE BREZILLET</td>\n",
       "      <td>0.00</td>\n",
       "      <td>NaN</td>\n",
       "      <td>-1</td>\n",
       "      <td>2</td>\n",
       "      <td>0</td>\n",
       "      <td>1</td>\n",
       "      <td>0</td>\n",
       "      <td>0</td>\n",
       "      <td>1</td>\n",
       "      <td>NaN</td>\n",
       "      <td>-1</td>\n",
       "      <td>1</td>\n",
       "      <td>5</td>\n",
       "      <td>1</td>\n",
       "      <td>50</td>\n",
       "      <td>202200000003.00</td>\n",
       "      <td>20</td>\n",
       "      <td>10</td>\n",
       "      <td>2022</td>\n",
       "      <td>17:15</td>\n",
       "      <td>1</td>\n",
       "      <td>22</td>\n",
       "      <td>22360</td>\n",
       "      <td>2</td>\n",
       "      <td>6</td>\n",
       "      <td>1</td>\n",
       "      <td>2</td>\n",
       "      <td>ROND POINT DE BREZILLET</td>\n",
       "      <td>48,4931620000</td>\n",
       "      <td>-2,7604390000</td>\n",
       "      <td>2</td>\n",
       "      <td>7</td>\n",
       "      <td>0</td>\n",
       "      <td>2</td>\n",
       "      <td>1</td>\n",
       "      <td>2</td>\n",
       "      <td>1</td>\n",
       "      <td>NaN</td>\n",
       "    </tr>\n",
       "  </tbody>\n",
       "</table>\n",
       "</div>"
      ],
      "text/plain": [
       "        Num_Acc  id_usager id_vehicule num_veh  place  catu  grav  sexe  \\\n",
       "0  202200000001  1 099 700     813 952     A01      1     1     3     1   \n",
       "1  202200000001  1 099 701     813 953     B01      1     1     1     1   \n",
       "2  202200000002  1 099 698     813 950     B01      1     1     4     1   \n",
       "3  202200000002  1 099 699     813 951     A01      1     1     1     1   \n",
       "4  202200000003  1 099 696     813 948     A01      1     1     1     1   \n",
       "\n",
       "   an_nais  trajet  secu1  secu2  secu3  locp actp  etatp  catr  \\\n",
       "0  2008.00       5      2      8     -1    -1   -1     -1     4   \n",
       "1  1948.00       5      1      8     -1    -1   -1     -1     4   \n",
       "2  1988.00       9      1      0     -1     0    0     -1     4   \n",
       "3  1970.00       4      1      0     -1     0    0     -1     4   \n",
       "4  2002.00       0      1      0     -1    -1   -1     -1     3   \n",
       "\n",
       "                      voie   v1   v2  circ nbv  vosp  prof   pr  pr1  plan  \\\n",
       "0   TEIL(vieille route du) 0.00  NaN     2   2     0     1  (1)  (1)     1   \n",
       "1   TEIL(vieille route du) 0.00  NaN     2   2     0     1  (1)  (1)     1   \n",
       "2                      NaN 0.00  NaN     2   2     0     1  (1)  (1)     1   \n",
       "3                      NaN 0.00  NaN     2   2     0     1  (1)  (1)     1   \n",
       "4  ROND POINT DE BREZILLET 0.00  NaN    -1   2     0     1    0    0     1   \n",
       "\n",
       "  lartpc larrout  surf  infra  situ  vma     Accident_Id  jour  mois    an  \\\n",
       "0    NaN      -1     1      0     1   50 202200000001.00    19    10  2022   \n",
       "1    NaN      -1     1      0     1   50 202200000001.00    19    10  2022   \n",
       "2    NaN      -1     1      0     1   50 202200000002.00    20    10  2022   \n",
       "3    NaN      -1     1      0     1   50 202200000002.00    20    10  2022   \n",
       "4    NaN      -1     1      5     1   50 202200000003.00    20    10  2022   \n",
       "\n",
       "    hrmn  lum dep    com  agg  int  atm  col                      adr  \\\n",
       "0  16:15    1  26  26198    2    3    1    3   TEIL(vieille route du)   \n",
       "1  16:15    1  26  26198    2    3    1    3   TEIL(vieille route du)   \n",
       "2  08:34    1  25  25204    2    3    1    3                  Miranda   \n",
       "3  08:34    1  25  25204    2    3    1    3                  Miranda   \n",
       "4  17:15    1  22  22360    2    6    1    2  ROND POINT DE BREZILLET   \n",
       "\n",
       "             lat            long  senc  catv  obs  obsm  choc  manv  motor  \\\n",
       "0  44,5594200000    4,7257200000     1     2    0     2     1     9      1   \n",
       "1  44,5594200000    4,7257200000     1     7    0     2     2     1      1   \n",
       "2  46,9258100000    6,3462000000     2     7    0     2     8    15      1   \n",
       "3  46,9258100000    6,3462000000     2    10    0     2     1     1      1   \n",
       "4  48,4931620000   -2,7604390000     2     7    0     2     1     2      1   \n",
       "\n",
       "   occutc  \n",
       "0     NaN  \n",
       "1     NaN  \n",
       "2     NaN  \n",
       "3     NaN  \n",
       "4     NaN  "
      ]
     },
     "execution_count": 15,
     "metadata": {},
     "output_type": "execute_result"
    }
   ],
   "source": [
    "df_bis = pd.read_csv(\"dataset/dataset_analyse.csv\")\n",
    "df_bis.head()"
   ]
  },
  {
   "cell_type": "code",
   "execution_count": 21,
   "metadata": {},
   "outputs": [
    {
     "name": "stdout",
     "output_type": "stream",
     "text": [
      "(91286, 40)\n",
      "(109087, 58)\n",
      "an\n",
      "2022    109085\n",
      "2021         1\n",
      "2019         1\n",
      "Name: count, dtype: int64\n",
      "an\n",
      "2019    132977\n",
      "2021    129248\n",
      "2022    126662\n",
      "2020    105295\n",
      "Name: count, dtype: int64\n"
     ]
    },
    {
     "data": {
      "text/html": [
       "<div>\n",
       "<style scoped>\n",
       "    .dataframe tbody tr th:only-of-type {\n",
       "        vertical-align: middle;\n",
       "    }\n",
       "\n",
       "    .dataframe tbody tr th {\n",
       "        vertical-align: top;\n",
       "    }\n",
       "\n",
       "    .dataframe thead th {\n",
       "        text-align: right;\n",
       "    }\n",
       "</style>\n",
       "<table border=\"1\" class=\"dataframe\">\n",
       "  <thead>\n",
       "    <tr style=\"text-align: right;\">\n",
       "      <th></th>\n",
       "      <th>catu</th>\n",
       "      <th>sexe</th>\n",
       "      <th>catr</th>\n",
       "      <th>circ</th>\n",
       "      <th>vosp</th>\n",
       "      <th>prof</th>\n",
       "      <th>plan</th>\n",
       "      <th>surf</th>\n",
       "      <th>infra</th>\n",
       "      <th>situ</th>\n",
       "      <th>vma</th>\n",
       "      <th>lum</th>\n",
       "      <th>com</th>\n",
       "      <th>agg</th>\n",
       "      <th>int</th>\n",
       "      <th>atm</th>\n",
       "      <th>col</th>\n",
       "      <th>lat</th>\n",
       "      <th>long</th>\n",
       "      <th>senc</th>\n",
       "      <th>obs</th>\n",
       "      <th>obsm</th>\n",
       "      <th>choc</th>\n",
       "      <th>manv</th>\n",
       "      <th>motor</th>\n",
       "      <th>age_group</th>\n",
       "      <th>h_group</th>\n",
       "      <th>weekday</th>\n",
       "      <th>gravite</th>\n",
       "      <th>pred_ada</th>\n",
       "      <th>pred_extrTr</th>\n",
       "      <th>pred_xgb</th>\n",
       "      <th>pred_lgbm</th>\n",
       "      <th>pred_knn</th>\n",
       "      <th>Num_Acc</th>\n",
       "      <th>id_usager</th>\n",
       "      <th>id_vehicule</th>\n",
       "      <th>num_veh</th>\n",
       "      <th>place</th>\n",
       "      <th>grav</th>\n",
       "      <th>an_nais</th>\n",
       "      <th>trajet</th>\n",
       "      <th>secu1</th>\n",
       "      <th>secu2</th>\n",
       "      <th>secu3</th>\n",
       "      <th>locp</th>\n",
       "      <th>actp</th>\n",
       "      <th>etatp</th>\n",
       "      <th>voie</th>\n",
       "      <th>v1</th>\n",
       "      <th>nbv</th>\n",
       "      <th>Accident_Id</th>\n",
       "      <th>jour</th>\n",
       "      <th>mois</th>\n",
       "      <th>an</th>\n",
       "      <th>hrmn</th>\n",
       "      <th>adr</th>\n",
       "      <th>catv</th>\n",
       "    </tr>\n",
       "  </thead>\n",
       "  <tbody>\n",
       "    <tr>\n",
       "      <th>0</th>\n",
       "      <td>1</td>\n",
       "      <td>1</td>\n",
       "      <td>4</td>\n",
       "      <td>2</td>\n",
       "      <td>0</td>\n",
       "      <td>1</td>\n",
       "      <td>1</td>\n",
       "      <td>1</td>\n",
       "      <td>0</td>\n",
       "      <td>1</td>\n",
       "      <td>50</td>\n",
       "      <td>1</td>\n",
       "      <td>26198</td>\n",
       "      <td>2</td>\n",
       "      <td>3</td>\n",
       "      <td>1</td>\n",
       "      <td>3</td>\n",
       "      <td>44.56</td>\n",
       "      <td>4.73</td>\n",
       "      <td>1</td>\n",
       "      <td>0</td>\n",
       "      <td>2</td>\n",
       "      <td>1</td>\n",
       "      <td>9</td>\n",
       "      <td>1</td>\n",
       "      <td>2</td>\n",
       "      <td>6</td>\n",
       "      <td>2</td>\n",
       "      <td>1</td>\n",
       "      <td>1</td>\n",
       "      <td>1</td>\n",
       "      <td>1</td>\n",
       "      <td>1</td>\n",
       "      <td>1</td>\n",
       "      <td>202200000001</td>\n",
       "      <td>1 099 700</td>\n",
       "      <td>813 952</td>\n",
       "      <td>A01</td>\n",
       "      <td>1</td>\n",
       "      <td>3</td>\n",
       "      <td>2008.00</td>\n",
       "      <td>5</td>\n",
       "      <td>2</td>\n",
       "      <td>8</td>\n",
       "      <td>-1</td>\n",
       "      <td>-1</td>\n",
       "      <td>-1</td>\n",
       "      <td>-1</td>\n",
       "      <td>TEIL(vieille route du)</td>\n",
       "      <td>0.00</td>\n",
       "      <td>2</td>\n",
       "      <td>202200000001.00</td>\n",
       "      <td>19</td>\n",
       "      <td>10</td>\n",
       "      <td>2022</td>\n",
       "      <td>16:15</td>\n",
       "      <td>TEIL(vieille route du)</td>\n",
       "      <td>2</td>\n",
       "    </tr>\n",
       "    <tr>\n",
       "      <th>1</th>\n",
       "      <td>1</td>\n",
       "      <td>1</td>\n",
       "      <td>4</td>\n",
       "      <td>2</td>\n",
       "      <td>0</td>\n",
       "      <td>1</td>\n",
       "      <td>1</td>\n",
       "      <td>1</td>\n",
       "      <td>0</td>\n",
       "      <td>1</td>\n",
       "      <td>50</td>\n",
       "      <td>1</td>\n",
       "      <td>26198</td>\n",
       "      <td>2</td>\n",
       "      <td>3</td>\n",
       "      <td>1</td>\n",
       "      <td>3</td>\n",
       "      <td>44.56</td>\n",
       "      <td>4.73</td>\n",
       "      <td>1</td>\n",
       "      <td>0</td>\n",
       "      <td>2</td>\n",
       "      <td>2</td>\n",
       "      <td>1</td>\n",
       "      <td>1</td>\n",
       "      <td>7</td>\n",
       "      <td>6</td>\n",
       "      <td>2</td>\n",
       "      <td>0</td>\n",
       "      <td>1</td>\n",
       "      <td>1</td>\n",
       "      <td>1</td>\n",
       "      <td>1</td>\n",
       "      <td>1</td>\n",
       "      <td>202200000001</td>\n",
       "      <td>1 099 701</td>\n",
       "      <td>813 953</td>\n",
       "      <td>B01</td>\n",
       "      <td>1</td>\n",
       "      <td>1</td>\n",
       "      <td>1948.00</td>\n",
       "      <td>5</td>\n",
       "      <td>1</td>\n",
       "      <td>8</td>\n",
       "      <td>-1</td>\n",
       "      <td>-1</td>\n",
       "      <td>-1</td>\n",
       "      <td>-1</td>\n",
       "      <td>TEIL(vieille route du)</td>\n",
       "      <td>0.00</td>\n",
       "      <td>2</td>\n",
       "      <td>202200000001.00</td>\n",
       "      <td>19</td>\n",
       "      <td>10</td>\n",
       "      <td>2022</td>\n",
       "      <td>16:15</td>\n",
       "      <td>TEIL(vieille route du)</td>\n",
       "      <td>7</td>\n",
       "    </tr>\n",
       "    <tr>\n",
       "      <th>2</th>\n",
       "      <td>1</td>\n",
       "      <td>1</td>\n",
       "      <td>4</td>\n",
       "      <td>2</td>\n",
       "      <td>0</td>\n",
       "      <td>1</td>\n",
       "      <td>1</td>\n",
       "      <td>1</td>\n",
       "      <td>0</td>\n",
       "      <td>1</td>\n",
       "      <td>50</td>\n",
       "      <td>1</td>\n",
       "      <td>25204</td>\n",
       "      <td>2</td>\n",
       "      <td>3</td>\n",
       "      <td>1</td>\n",
       "      <td>3</td>\n",
       "      <td>46.93</td>\n",
       "      <td>6.35</td>\n",
       "      <td>2</td>\n",
       "      <td>0</td>\n",
       "      <td>2</td>\n",
       "      <td>8</td>\n",
       "      <td>15</td>\n",
       "      <td>1</td>\n",
       "      <td>4</td>\n",
       "      <td>3</td>\n",
       "      <td>3</td>\n",
       "      <td>1</td>\n",
       "      <td>1</td>\n",
       "      <td>1</td>\n",
       "      <td>1</td>\n",
       "      <td>0</td>\n",
       "      <td>1</td>\n",
       "      <td>202200000002</td>\n",
       "      <td>1 099 698</td>\n",
       "      <td>813 950</td>\n",
       "      <td>B01</td>\n",
       "      <td>1</td>\n",
       "      <td>4</td>\n",
       "      <td>1988.00</td>\n",
       "      <td>9</td>\n",
       "      <td>1</td>\n",
       "      <td>0</td>\n",
       "      <td>-1</td>\n",
       "      <td>0</td>\n",
       "      <td>0</td>\n",
       "      <td>-1</td>\n",
       "      <td>NaN</td>\n",
       "      <td>0.00</td>\n",
       "      <td>2</td>\n",
       "      <td>202200000002.00</td>\n",
       "      <td>20</td>\n",
       "      <td>10</td>\n",
       "      <td>2022</td>\n",
       "      <td>08:34</td>\n",
       "      <td>Miranda</td>\n",
       "      <td>7</td>\n",
       "    </tr>\n",
       "    <tr>\n",
       "      <th>3</th>\n",
       "      <td>1</td>\n",
       "      <td>1</td>\n",
       "      <td>4</td>\n",
       "      <td>2</td>\n",
       "      <td>0</td>\n",
       "      <td>1</td>\n",
       "      <td>1</td>\n",
       "      <td>1</td>\n",
       "      <td>0</td>\n",
       "      <td>1</td>\n",
       "      <td>50</td>\n",
       "      <td>1</td>\n",
       "      <td>25204</td>\n",
       "      <td>2</td>\n",
       "      <td>3</td>\n",
       "      <td>1</td>\n",
       "      <td>3</td>\n",
       "      <td>46.93</td>\n",
       "      <td>6.35</td>\n",
       "      <td>2</td>\n",
       "      <td>0</td>\n",
       "      <td>2</td>\n",
       "      <td>1</td>\n",
       "      <td>1</td>\n",
       "      <td>1</td>\n",
       "      <td>6</td>\n",
       "      <td>3</td>\n",
       "      <td>3</td>\n",
       "      <td>0</td>\n",
       "      <td>1</td>\n",
       "      <td>1</td>\n",
       "      <td>0</td>\n",
       "      <td>1</td>\n",
       "      <td>1</td>\n",
       "      <td>202200000002</td>\n",
       "      <td>1 099 699</td>\n",
       "      <td>813 951</td>\n",
       "      <td>A01</td>\n",
       "      <td>1</td>\n",
       "      <td>1</td>\n",
       "      <td>1970.00</td>\n",
       "      <td>4</td>\n",
       "      <td>1</td>\n",
       "      <td>0</td>\n",
       "      <td>-1</td>\n",
       "      <td>0</td>\n",
       "      <td>0</td>\n",
       "      <td>-1</td>\n",
       "      <td>NaN</td>\n",
       "      <td>0.00</td>\n",
       "      <td>2</td>\n",
       "      <td>202200000002.00</td>\n",
       "      <td>20</td>\n",
       "      <td>10</td>\n",
       "      <td>2022</td>\n",
       "      <td>08:34</td>\n",
       "      <td>Miranda</td>\n",
       "      <td>10</td>\n",
       "    </tr>\n",
       "    <tr>\n",
       "      <th>4</th>\n",
       "      <td>1</td>\n",
       "      <td>1</td>\n",
       "      <td>3</td>\n",
       "      <td>-1</td>\n",
       "      <td>0</td>\n",
       "      <td>1</td>\n",
       "      <td>1</td>\n",
       "      <td>1</td>\n",
       "      <td>5</td>\n",
       "      <td>1</td>\n",
       "      <td>50</td>\n",
       "      <td>1</td>\n",
       "      <td>22360</td>\n",
       "      <td>2</td>\n",
       "      <td>6</td>\n",
       "      <td>1</td>\n",
       "      <td>2</td>\n",
       "      <td>48.49</td>\n",
       "      <td>-2.76</td>\n",
       "      <td>2</td>\n",
       "      <td>0</td>\n",
       "      <td>2</td>\n",
       "      <td>1</td>\n",
       "      <td>2</td>\n",
       "      <td>1</td>\n",
       "      <td>3</td>\n",
       "      <td>6</td>\n",
       "      <td>3</td>\n",
       "      <td>0</td>\n",
       "      <td>1</td>\n",
       "      <td>1</td>\n",
       "      <td>1</td>\n",
       "      <td>1</td>\n",
       "      <td>1</td>\n",
       "      <td>202200000003</td>\n",
       "      <td>1 099 696</td>\n",
       "      <td>813 948</td>\n",
       "      <td>A01</td>\n",
       "      <td>1</td>\n",
       "      <td>1</td>\n",
       "      <td>2002.00</td>\n",
       "      <td>0</td>\n",
       "      <td>1</td>\n",
       "      <td>0</td>\n",
       "      <td>-1</td>\n",
       "      <td>-1</td>\n",
       "      <td>-1</td>\n",
       "      <td>-1</td>\n",
       "      <td>ROND POINT DE BREZILLET</td>\n",
       "      <td>0.00</td>\n",
       "      <td>2</td>\n",
       "      <td>202200000003.00</td>\n",
       "      <td>20</td>\n",
       "      <td>10</td>\n",
       "      <td>2022</td>\n",
       "      <td>17:15</td>\n",
       "      <td>ROND POINT DE BREZILLET</td>\n",
       "      <td>7</td>\n",
       "    </tr>\n",
       "  </tbody>\n",
       "</table>\n",
       "</div>"
      ],
      "text/plain": [
       "   catu  sexe  catr  circ  vosp  prof  plan  surf  infra  situ  vma  lum  \\\n",
       "0     1     1     4     2     0     1     1     1      0     1   50    1   \n",
       "1     1     1     4     2     0     1     1     1      0     1   50    1   \n",
       "2     1     1     4     2     0     1     1     1      0     1   50    1   \n",
       "3     1     1     4     2     0     1     1     1      0     1   50    1   \n",
       "4     1     1     3    -1     0     1     1     1      5     1   50    1   \n",
       "\n",
       "     com  agg  int  atm  col   lat  long  senc  obs  obsm  choc  manv  motor  \\\n",
       "0  26198    2    3    1    3 44.56  4.73     1    0     2     1     9      1   \n",
       "1  26198    2    3    1    3 44.56  4.73     1    0     2     2     1      1   \n",
       "2  25204    2    3    1    3 46.93  6.35     2    0     2     8    15      1   \n",
       "3  25204    2    3    1    3 46.93  6.35     2    0     2     1     1      1   \n",
       "4  22360    2    6    1    2 48.49 -2.76     2    0     2     1     2      1   \n",
       "\n",
       "   age_group  h_group  weekday  gravite  pred_ada  pred_extrTr  pred_xgb  \\\n",
       "0          2        6        2        1         1            1         1   \n",
       "1          7        6        2        0         1            1         1   \n",
       "2          4        3        3        1         1            1         1   \n",
       "3          6        3        3        0         1            1         0   \n",
       "4          3        6        3        0         1            1         1   \n",
       "\n",
       "   pred_lgbm  pred_knn       Num_Acc  id_usager id_vehicule num_veh  place  \\\n",
       "0          1         1  202200000001  1 099 700     813 952     A01      1   \n",
       "1          1         1  202200000001  1 099 701     813 953     B01      1   \n",
       "2          0         1  202200000002  1 099 698     813 950     B01      1   \n",
       "3          1         1  202200000002  1 099 699     813 951     A01      1   \n",
       "4          1         1  202200000003  1 099 696     813 948     A01      1   \n",
       "\n",
       "   grav  an_nais  trajet  secu1  secu2  secu3  locp actp  etatp  \\\n",
       "0     3  2008.00       5      2      8     -1    -1   -1     -1   \n",
       "1     1  1948.00       5      1      8     -1    -1   -1     -1   \n",
       "2     4  1988.00       9      1      0     -1     0    0     -1   \n",
       "3     1  1970.00       4      1      0     -1     0    0     -1   \n",
       "4     1  2002.00       0      1      0     -1    -1   -1     -1   \n",
       "\n",
       "                      voie   v1 nbv     Accident_Id  jour  mois    an   hrmn  \\\n",
       "0   TEIL(vieille route du) 0.00   2 202200000001.00    19    10  2022  16:15   \n",
       "1   TEIL(vieille route du) 0.00   2 202200000001.00    19    10  2022  16:15   \n",
       "2                      NaN 0.00   2 202200000002.00    20    10  2022  08:34   \n",
       "3                      NaN 0.00   2 202200000002.00    20    10  2022  08:34   \n",
       "4  ROND POINT DE BREZILLET 0.00   2 202200000003.00    20    10  2022  17:15   \n",
       "\n",
       "                       adr  catv  \n",
       "0   TEIL(vieille route du)     2  \n",
       "1   TEIL(vieille route du)     7  \n",
       "2                  Miranda     7  \n",
       "3                  Miranda    10  \n",
       "4  ROND POINT DE BREZILLET     7  "
      ]
     },
     "execution_count": 21,
     "metadata": {},
     "output_type": "execute_result"
    }
   ],
   "source": [
    "#df_filtered = df.iloc[:len(y_test)]\n",
    "#df_filtered\n",
    "\n",
    "df_bis[\"lat\"] = [str(value) for value in df_bis[\"lat\"]]\n",
    "df_bis[\"lat\"] = [value.replace(',', '.') for value in df_bis[\"lat\"]]\n",
    "df_bis[\"lat\"] = df_bis[\"lat\"].astype(float)\n",
    "df_bis[\"long\"] = [str(value) for value in df_bis[\"long\"]]\n",
    "df_bis[\"long\"] = [value.replace(',', '.') for value in df_bis[\"long\"]]\n",
    "df_bis[\"long\"] = df_bis[\"long\"].astype(float)\n",
    "\n",
    "\n",
    "df_temp = pd.merge(df_filtered.drop(['nbv', 'trajet','locp', 'catv',\"secu1\", 'place'], axis=1), \n",
    "                   df_bis.drop(['com', 'dep','lartpc','larrout','occutc', 'pr', 'pr1','v2'], axis=1), \n",
    "                   on=[ 'circ', 'catr','lat', 'long', 'sexe', 'catu', 'vosp', 'prof', 'plan', 'surf', 'infra',\n",
    "                        'situ','vma','lum','agg', 'choc', 'int', 'atm', 'col', 'senc', 'obs', \n",
    "                        'obsm', 'manv', 'motor'], how='left' \n",
    "                    )\n",
    "print(df_filtered.shape)\n",
    "print(df_temp.shape)\n",
    "print(df_temp.an.value_counts())\n",
    "print(df_bis.an.value_counts())\n",
    "df_temp.head()\n",
    "\n",
    "\n",
    "\n",
    "#df_temp.to_csv('dataset/dataset_merge.csv', index=False)"
   ]
  },
  {
   "cell_type": "code",
   "execution_count": 13,
   "metadata": {},
   "outputs": [
    {
     "data": {
      "image/png": "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",
      "text/plain": [
       "<Figure size 1000x600 with 1 Axes>"
      ]
     },
     "metadata": {},
     "output_type": "display_data"
    }
   ],
   "source": [
    "features = X_train.columns\n",
    "\n",
    "importances = ada_model.feature_importances_\n",
    "indices = np.argsort(importances)\n",
    "\n",
    "plt.figure(figsize=(10, 6))\n",
    "plt.title(\"Importance des Variables\")\n",
    "plt.barh(range(len(indices)), importances[indices], align=\"center\")\n",
    "plt.yticks(range(len(indices)), [features[i] for i in indices])\n",
    "plt.xlabel('Importance Relative')\n",
    "plt.show()"
   ]
  },
  {
   "cell_type": "code",
   "execution_count": 19,
   "metadata": {
    "id": "aUncnZMlFmPZ"
   },
   "outputs": [
    {
     "data": {
      "text/plain": [
       "13.503115496858213"
      ]
     },
     "execution_count": 19,
     "metadata": {},
     "output_type": "execute_result"
    }
   ],
   "source": [
    "# création d'un df qui affiche toutes les prédictions qui ne sont pas identiques au réel\n",
    "df_mismatch_ada = df_temp[df_temp['grav'] != df_temp['pred_ada']]\n",
    "df_mismatch_ada.shape\n",
    "\n",
    "len(df_mismatch_ada)/len(df.grav)*100"
   ]
  },
  {
   "cell_type": "code",
   "execution_count": null,
   "metadata": {},
   "outputs": [],
   "source": [
    "# création d'un df qui affiche toutes les prédictions qui ne sont pas identiques au réel\n",
    "df_mismatch_ada = df_filtered[df_filtered['gravite'] != df_filtered['pred_ada']]\n",
    "df_mismatch_ada.shape\n",
    "\n",
    "len(df_mismatch_ada)/len(df.grav)*100"
   ]
  },
  {
   "cell_type": "code",
   "execution_count": 10,
   "metadata": {
    "id": "nDxsxTFVFmPZ"
   },
   "outputs": [
    {
     "data": {
      "text/plain": [
       "9.776569360337227"
      ]
     },
     "execution_count": 10,
     "metadata": {},
     "output_type": "execute_result"
    }
   ],
   "source": [
    "# création d'un df qui affiche toutes les prédictions qui ne sont pas identiques au réel\n",
    "df_mismatch_et = df_filtered[df_filtered['gravite'] != df_filtered['pred_extrTr']]\n",
    "df_mismatch_et.shape\n",
    "\n",
    "\n",
    "len(df_mismatch_et)/len(df.grav)*100"
   ]
  },
  {
   "cell_type": "code",
   "execution_count": 11,
   "metadata": {},
   "outputs": [
    {
     "data": {
      "text/plain": [
       "9.106584170997397"
      ]
     },
     "execution_count": 11,
     "metadata": {},
     "output_type": "execute_result"
    }
   ],
   "source": [
    "# création d'un df qui affiche toutes les prédictions qui ne sont pas identiques au réel\n",
    "df_mismatch_xgb = df_filtered[df_filtered['gravite'] != df_filtered['pred_xgb']]\n",
    "df_mismatch_xgb.head()\n",
    "\n",
    "len(df_mismatch_xgb)/len(df.grav)*100"
   ]
  },
  {
   "cell_type": "code",
   "execution_count": 12,
   "metadata": {},
   "outputs": [
    {
     "data": {
      "text/plain": [
       "9.77503571209479"
      ]
     },
     "execution_count": 12,
     "metadata": {},
     "output_type": "execute_result"
    }
   ],
   "source": [
    "# création d'un df qui affiche toutes les prédictions qui ne sont pas identiques au réel\n",
    "df_mismatch_lgbm = df_filtered[df_filtered['gravite'] != df_filtered['pred_lgbm']]\n",
    "df_mismatch_lgbm.head()\n",
    "\n",
    "len(df_mismatch_lgbm)/len(df.grav)*100"
   ]
  },
  {
   "cell_type": "code",
   "execution_count": 13,
   "metadata": {},
   "outputs": [
    {
     "data": {
      "text/plain": [
       "9.836600734398415"
      ]
     },
     "execution_count": 13,
     "metadata": {},
     "output_type": "execute_result"
    }
   ],
   "source": [
    "# création d'un df qui affiche toutes les prédictions qui ne sont pas identiques au réel\n",
    "df_mismatch_knn = df_filtered[df_filtered['gravite'] != df_filtered['pred_knn']]\n",
    "df_mismatch_knn.head()\n",
    "\n",
    "len(df_mismatch_knn)/len(df.grav)*100"
   ]
  }
 ],
 "metadata": {
  "colab": {
   "provenance": []
  },
  "kernelspec": {
   "display_name": "Python 3 (ipykernel)",
   "language": "python",
   "name": "python3"
  },
  "language_info": {
   "codemirror_mode": {
    "name": "ipython",
    "version": 3
   },
   "file_extension": ".py",
   "mimetype": "text/x-python",
   "name": "python",
   "nbconvert_exporter": "python",
   "pygments_lexer": "ipython3",
   "version": "3.10.14"
  }
 },
 "nbformat": 4,
 "nbformat_minor": 4
}
