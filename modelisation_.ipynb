{
 "cells": [
  {
   "cell_type": "markdown",
   "metadata": {
    "id": "NxzRd3c1FmPT"
   },
   "source": [
    "Projet : Accident de la route\n",
    "==============\n",
    "\n",
    "## Etape 3 : Modélisation\n",
    "\n",
    "### Import des données"
   ]
  },
  {
   "cell_type": "code",
   "execution_count": 56,
   "metadata": {
    "id": "XEzjmg7_FmPU"
   },
   "outputs": [],
   "source": [
    "# import des librairies\n",
    "import pandas as pd\n",
    "pd.set_option('display.max_columns', None)\n",
    "pd.options.display.max_info_columns\n",
    "\n",
    "import numpy as np\n",
    "import matplotlib.pyplot as plt\n",
    "import seaborn as sns\n",
    "\n",
    "import lazypredict\n",
    "from lazypredict.supervised import LazyClassifier\n",
    "\n",
    "import sklearn\n",
    "from sklearn.model_selection import GridSearchCV, KFold, cross_val_score\n",
    "\n",
    "from sklearn.preprocessing import StandardScaler\n",
    "from xgboost import XGBClassifier\n",
    "from sklearn.tree import DecisionTreeClassifier\n",
    "from sklearn.ensemble import AdaBoostClassifier,ExtraTreesClassifier, RandomForestClassifier\n",
    "from lightgbm import LGBMClassifier\n",
    "from sklearn.metrics import confusion_matrix,classification_report, f1_score, accuracy_score, recall_score, precision_score\n",
    "from sklearn.neighbors import KNeighborsClassifier\n",
    "\n",
    "import sys\n",
    "import joblib"
   ]
  },
  {
   "cell_type": "code",
   "execution_count": 60,
   "metadata": {
    "id": "nXJWdtuWFmPV",
    "outputId": "bcffbaf7-cb0b-44d5-fde0-4b9a882f92c4"
   },
   "outputs": [
    {
     "name": "stdout",
     "output_type": "stream",
     "text": [
      "Version de Python: 3.10.14 (main, May 30 2024, 01:08:26) [GCC 11.4.0]\n",
      "Version de pandas: 2.2.2\n",
      "Version de scikit-learn: 1.5.0\n",
      "Version de pandas: 1.26.4\n"
     ]
    }
   ],
   "source": [
    "# Version des librairies\n",
    "print(\"Version de Python:\", sys.version)\n",
    "print(\"Version de pandas:\", pd.__version__)\n",
    "print(\"Version de scikit-learn:\", sklearn.__version__)\n",
    "print(\"Version de pandas:\", np.__version__)"
   ]
  },
  {
   "cell_type": "code",
   "execution_count": 3,
   "metadata": {},
   "outputs": [
    {
     "data": {
      "text/html": [
       "<div>\n",
       "<style scoped>\n",
       "    .dataframe tbody tr th:only-of-type {\n",
       "        vertical-align: middle;\n",
       "    }\n",
       "\n",
       "    .dataframe tbody tr th {\n",
       "        vertical-align: top;\n",
       "    }\n",
       "\n",
       "    .dataframe thead th {\n",
       "        text-align: right;\n",
       "    }\n",
       "</style>\n",
       "<table border=\"1\" class=\"dataframe\">\n",
       "  <thead>\n",
       "    <tr style=\"text-align: right;\">\n",
       "      <th></th>\n",
       "      <th>place</th>\n",
       "      <th>catu</th>\n",
       "      <th>grav</th>\n",
       "      <th>sexe</th>\n",
       "      <th>trajet</th>\n",
       "      <th>secu1</th>\n",
       "      <th>locp</th>\n",
       "      <th>catr</th>\n",
       "      <th>circ</th>\n",
       "      <th>nbv</th>\n",
       "      <th>vosp</th>\n",
       "      <th>prof</th>\n",
       "      <th>plan</th>\n",
       "      <th>surf</th>\n",
       "      <th>infra</th>\n",
       "      <th>situ</th>\n",
       "      <th>vma</th>\n",
       "      <th>lum</th>\n",
       "      <th>com</th>\n",
       "      <th>agg</th>\n",
       "      <th>int</th>\n",
       "      <th>atm</th>\n",
       "      <th>col</th>\n",
       "      <th>lat</th>\n",
       "      <th>long</th>\n",
       "      <th>senc</th>\n",
       "      <th>catv</th>\n",
       "      <th>obs</th>\n",
       "      <th>obsm</th>\n",
       "      <th>choc</th>\n",
       "      <th>manv</th>\n",
       "      <th>motor</th>\n",
       "      <th>age_group</th>\n",
       "      <th>h_group</th>\n",
       "      <th>weekday</th>\n",
       "      <th>index</th>\n",
       "    </tr>\n",
       "  </thead>\n",
       "  <tbody>\n",
       "    <tr>\n",
       "      <th>0</th>\n",
       "      <td>1</td>\n",
       "      <td>1</td>\n",
       "      <td>1</td>\n",
       "      <td>2</td>\n",
       "      <td>5</td>\n",
       "      <td>1</td>\n",
       "      <td>0</td>\n",
       "      <td>4</td>\n",
       "      <td>-1</td>\n",
       "      <td>2</td>\n",
       "      <td>0</td>\n",
       "      <td>1</td>\n",
       "      <td>1</td>\n",
       "      <td>1</td>\n",
       "      <td>0</td>\n",
       "      <td>1</td>\n",
       "      <td>50</td>\n",
       "      <td>5</td>\n",
       "      <td>66136</td>\n",
       "      <td>2</td>\n",
       "      <td>2</td>\n",
       "      <td>1</td>\n",
       "      <td>3</td>\n",
       "      <td>42.70</td>\n",
       "      <td>2.89</td>\n",
       "      <td>1</td>\n",
       "      <td>6</td>\n",
       "      <td>0</td>\n",
       "      <td>2</td>\n",
       "      <td>7</td>\n",
       "      <td>1</td>\n",
       "      <td>1</td>\n",
       "      <td>4</td>\n",
       "      <td>2</td>\n",
       "      <td>5</td>\n",
       "      <td>422246</td>\n",
       "    </tr>\n",
       "    <tr>\n",
       "      <th>1</th>\n",
       "      <td>5</td>\n",
       "      <td>2</td>\n",
       "      <td>1</td>\n",
       "      <td>2</td>\n",
       "      <td>0</td>\n",
       "      <td>1</td>\n",
       "      <td>-1</td>\n",
       "      <td>7</td>\n",
       "      <td>2</td>\n",
       "      <td>4</td>\n",
       "      <td>0</td>\n",
       "      <td>2</td>\n",
       "      <td>1</td>\n",
       "      <td>1</td>\n",
       "      <td>0</td>\n",
       "      <td>1</td>\n",
       "      <td>50</td>\n",
       "      <td>5</td>\n",
       "      <td>13215</td>\n",
       "      <td>2</td>\n",
       "      <td>1</td>\n",
       "      <td>1</td>\n",
       "      <td>3</td>\n",
       "      <td>43.37</td>\n",
       "      <td>5.35</td>\n",
       "      <td>0</td>\n",
       "      <td>3</td>\n",
       "      <td>0</td>\n",
       "      <td>2</td>\n",
       "      <td>7</td>\n",
       "      <td>1</td>\n",
       "      <td>1</td>\n",
       "      <td>6</td>\n",
       "      <td>1</td>\n",
       "      <td>2</td>\n",
       "      <td>176315</td>\n",
       "    </tr>\n",
       "    <tr>\n",
       "      <th>2</th>\n",
       "      <td>1</td>\n",
       "      <td>1</td>\n",
       "      <td>1</td>\n",
       "      <td>1</td>\n",
       "      <td>4</td>\n",
       "      <td>1</td>\n",
       "      <td>-1</td>\n",
       "      <td>1</td>\n",
       "      <td>1</td>\n",
       "      <td>2</td>\n",
       "      <td>0</td>\n",
       "      <td>1</td>\n",
       "      <td>3</td>\n",
       "      <td>1</td>\n",
       "      <td>0</td>\n",
       "      <td>1</td>\n",
       "      <td>80</td>\n",
       "      <td>1</td>\n",
       "      <td>69283</td>\n",
       "      <td>1</td>\n",
       "      <td>1</td>\n",
       "      <td>1</td>\n",
       "      <td>5</td>\n",
       "      <td>45.67</td>\n",
       "      <td>4.94</td>\n",
       "      <td>2</td>\n",
       "      <td>5</td>\n",
       "      <td>0</td>\n",
       "      <td>2</td>\n",
       "      <td>1</td>\n",
       "      <td>13</td>\n",
       "      <td>1</td>\n",
       "      <td>4</td>\n",
       "      <td>6</td>\n",
       "      <td>1</td>\n",
       "      <td>236564</td>\n",
       "    </tr>\n",
       "    <tr>\n",
       "      <th>3</th>\n",
       "      <td>1</td>\n",
       "      <td>1</td>\n",
       "      <td>0</td>\n",
       "      <td>2</td>\n",
       "      <td>9</td>\n",
       "      <td>1</td>\n",
       "      <td>0</td>\n",
       "      <td>1</td>\n",
       "      <td>3</td>\n",
       "      <td>4</td>\n",
       "      <td>0</td>\n",
       "      <td>1</td>\n",
       "      <td>1</td>\n",
       "      <td>2</td>\n",
       "      <td>0</td>\n",
       "      <td>1</td>\n",
       "      <td>130</td>\n",
       "      <td>3</td>\n",
       "      <td>87014</td>\n",
       "      <td>1</td>\n",
       "      <td>1</td>\n",
       "      <td>2</td>\n",
       "      <td>5</td>\n",
       "      <td>46.09</td>\n",
       "      <td>1.36</td>\n",
       "      <td>2</td>\n",
       "      <td>6</td>\n",
       "      <td>1</td>\n",
       "      <td>0</td>\n",
       "      <td>3</td>\n",
       "      <td>2</td>\n",
       "      <td>1</td>\n",
       "      <td>7</td>\n",
       "      <td>7</td>\n",
       "      <td>6</td>\n",
       "      <td>262438</td>\n",
       "    </tr>\n",
       "    <tr>\n",
       "      <th>4</th>\n",
       "      <td>1</td>\n",
       "      <td>1</td>\n",
       "      <td>1</td>\n",
       "      <td>1</td>\n",
       "      <td>5</td>\n",
       "      <td>1</td>\n",
       "      <td>0</td>\n",
       "      <td>1</td>\n",
       "      <td>3</td>\n",
       "      <td>1</td>\n",
       "      <td>0</td>\n",
       "      <td>1</td>\n",
       "      <td>1</td>\n",
       "      <td>1</td>\n",
       "      <td>8</td>\n",
       "      <td>1</td>\n",
       "      <td>70</td>\n",
       "      <td>1</td>\n",
       "      <td>67462</td>\n",
       "      <td>1</td>\n",
       "      <td>1</td>\n",
       "      <td>1</td>\n",
       "      <td>2</td>\n",
       "      <td>48.29</td>\n",
       "      <td>7.46</td>\n",
       "      <td>1</td>\n",
       "      <td>3</td>\n",
       "      <td>4</td>\n",
       "      <td>2</td>\n",
       "      <td>1</td>\n",
       "      <td>1</td>\n",
       "      <td>1</td>\n",
       "      <td>3</td>\n",
       "      <td>6</td>\n",
       "      <td>5</td>\n",
       "      <td>182769</td>\n",
       "    </tr>\n",
       "  </tbody>\n",
       "</table>\n",
       "</div>"
      ],
      "text/plain": [
       "   place  catu  grav  sexe  trajet  secu1  locp  catr  circ  nbv  vosp  prof  \\\n",
       "0      1     1     1     2       5      1     0     4    -1    2     0     1   \n",
       "1      5     2     1     2       0      1    -1     7     2    4     0     2   \n",
       "2      1     1     1     1       4      1    -1     1     1    2     0     1   \n",
       "3      1     1     0     2       9      1     0     1     3    4     0     1   \n",
       "4      1     1     1     1       5      1     0     1     3    1     0     1   \n",
       "\n",
       "   plan  surf  infra  situ  vma  lum    com  agg  int  atm  col   lat  long  \\\n",
       "0     1     1      0     1   50    5  66136    2    2    1    3 42.70  2.89   \n",
       "1     1     1      0     1   50    5  13215    2    1    1    3 43.37  5.35   \n",
       "2     3     1      0     1   80    1  69283    1    1    1    5 45.67  4.94   \n",
       "3     1     2      0     1  130    3  87014    1    1    2    5 46.09  1.36   \n",
       "4     1     1      8     1   70    1  67462    1    1    1    2 48.29  7.46   \n",
       "\n",
       "   senc  catv  obs  obsm  choc  manv  motor  age_group  h_group  weekday  \\\n",
       "0     1     6    0     2     7     1      1          4        2        5   \n",
       "1     0     3    0     2     7     1      1          6        1        2   \n",
       "2     2     5    0     2     1    13      1          4        6        1   \n",
       "3     2     6    1     0     3     2      1          7        7        6   \n",
       "4     1     3    4     2     1     1      1          3        6        5   \n",
       "\n",
       "    index  \n",
       "0  422246  \n",
       "1  176315  \n",
       "2  236564  \n",
       "3  262438  \n",
       "4  182769  "
      ]
     },
     "execution_count": 3,
     "metadata": {},
     "output_type": "execute_result"
    }
   ],
   "source": [
    "# import des datasets\n",
    "df_train = pd.read_csv(\"dataset/df_train.csv\")\n",
    "df_train.head()\n",
    "\n",
    "df_test = pd.read_csv(\"dataset/df_test.csv\")\n",
    "df_test.head()"
   ]
  },
  {
   "cell_type": "markdown",
   "metadata": {
    "id": "LtgAHbTmFmPW"
   },
   "source": [
    "### Séparation des données"
   ]
  },
  {
   "cell_type": "code",
   "execution_count": 4,
   "metadata": {},
   "outputs": [],
   "source": [
    "X_train = df_train.drop([\"grav\",\"index\"], axis=1)\n",
    "y_train = df_train.grav\n",
    "\n",
    "X_test = df_test.drop([\"grav\",\"index\"], axis=1)\n",
    "y_test = df_test.grav"
   ]
  },
  {
   "cell_type": "markdown",
   "metadata": {
    "id": "hIXnsKh5FmPW"
   },
   "source": [
    "### Aperçu  de la performance relative des différents modèles de classification"
   ]
  },
  {
   "cell_type": "code",
   "execution_count": 5,
   "metadata": {
    "id": "BXUEUN0xFmPW"
   },
   "outputs": [],
   "source": [
    "#models_list = [AdaBoostClassifier, XGBClassifier, LGBMClassifier, KNeighborsClassifier, ExtraTreesClassifier]"
   ]
  },
  {
   "cell_type": "code",
   "execution_count": 5,
   "metadata": {
    "id": "47oXwoL4FmPX",
    "outputId": "9061fc50-dc67-4535-d169-9437494c5693"
   },
   "outputs": [
    {
     "name": "stderr",
     "output_type": "stream",
     "text": [
      " 97%|█████████▋| 30/31 [4:06:20<14:37, 877.39s/it]   "
     ]
    },
    {
     "name": "stdout",
     "output_type": "stream",
     "text": [
      "[LightGBM] [Info] Number of positive: 212781, number of negative: 152361\n",
      "[LightGBM] [Info] Auto-choosing row-wise multi-threading, the overhead of testing was 0.020035 seconds.\n",
      "You can set `force_row_wise=true` to remove the overhead.\n",
      "And if memory is not enough, you can set `force_col_wise=true`.\n",
      "[LightGBM] [Info] Total Bins 1070\n",
      "[LightGBM] [Info] Number of data points in the train set: 365142, number of used features: 34\n",
      "[LightGBM] [Info] [binary:BoostFromScore]: pavg=0.582735 -> initscore=0.334011\n",
      "[LightGBM] [Info] Start training from score 0.334011\n"
     ]
    },
    {
     "name": "stderr",
     "output_type": "stream",
     "text": [
      "100%|██████████| 31/31 [4:06:22<00:00, 476.84s/it]"
     ]
    },
    {
     "name": "stdout",
     "output_type": "stream",
     "text": [
      "                               Accuracy  Balanced Accuracy  ROC AUC  F1 Score  \\\n",
      "Model                                                                           \n",
      "RandomForestClassifier             0.81               0.81     0.81      0.82   \n",
      "XGBClassifier                      0.81               0.81     0.81      0.81   \n",
      "ExtraTreesClassifier               0.81               0.81     0.81      0.81   \n",
      "LGBMClassifier                     0.81               0.80     0.80      0.81   \n",
      "BaggingClassifier                  0.79               0.79     0.79      0.79   \n",
      "SVC                                0.79               0.79     0.79      0.79   \n",
      "AdaBoostClassifier                 0.79               0.79     0.79      0.79   \n",
      "NuSVC                              0.79               0.79     0.79      0.79   \n",
      "KNeighborsClassifier               0.75               0.75     0.75      0.75   \n",
      "QuadraticDiscriminantAnalysis      0.73               0.75     0.75      0.73   \n",
      "LinearDiscriminantAnalysis         0.74               0.74     0.74      0.74   \n",
      "RidgeClassifierCV                  0.74               0.74     0.74      0.74   \n",
      "RidgeClassifier                    0.74               0.74     0.74      0.74   \n",
      "LinearSVC                          0.74               0.74     0.74      0.74   \n",
      "LogisticRegression                 0.74               0.74     0.74      0.74   \n",
      "CalibratedClassifierCV             0.74               0.74     0.74      0.74   \n",
      "DecisionTreeClassifier             0.74               0.74     0.74      0.74   \n",
      "SGDClassifier                      0.74               0.73     0.73      0.74   \n",
      "ExtraTreeClassifier                0.73               0.72     0.72      0.73   \n",
      "GaussianNB                         0.67               0.70     0.70      0.67   \n",
      "NearestCentroid                    0.68               0.70     0.70      0.68   \n",
      "BernoulliNB                        0.66               0.66     0.66      0.67   \n",
      "Perceptron                         0.63               0.63     0.63      0.63   \n",
      "PassiveAggressiveClassifier        0.59               0.58     0.58      0.59   \n",
      "DummyClassifier                    0.58               0.50     0.50      0.43   \n",
      "\n",
      "                               Time Taken  \n",
      "Model                                      \n",
      "RandomForestClassifier              60.79  \n",
      "XGBClassifier                        1.37  \n",
      "ExtraTreesClassifier                73.58  \n",
      "LGBMClassifier                       1.96  \n",
      "BaggingClassifier                   47.47  \n",
      "SVC                               6191.65  \n",
      "AdaBoostClassifier                  24.33  \n",
      "NuSVC                             8257.96  \n",
      "KNeighborsClassifier                89.09  \n",
      "QuadraticDiscriminantAnalysis        1.19  \n",
      "LinearDiscriminantAnalysis           1.82  \n",
      "RidgeClassifierCV                    1.21  \n",
      "RidgeClassifier                      0.53  \n",
      "LinearSVC                            2.04  \n",
      "LogisticRegression                   1.10  \n",
      "CalibratedClassifierCV               8.16  \n",
      "DecisionTreeClassifier               8.29  \n",
      "SGDClassifier                        1.89  \n",
      "ExtraTreeClassifier                  1.16  \n",
      "GaussianNB                           0.69  \n",
      "NearestCentroid                      0.59  \n",
      "BernoulliNB                          1.56  \n",
      "Perceptron                           0.93  \n",
      "PassiveAggressiveClassifier          0.93  \n",
      "DummyClassifier                      0.47  \n"
     ]
    },
    {
     "name": "stderr",
     "output_type": "stream",
     "text": [
      "\n"
     ]
    }
   ],
   "source": [
    "# Initialiser LazyClassifier\n",
    "clf = LazyClassifier(verbose=0, \n",
    "                     ignore_warnings=True, \n",
    "                     custom_metric=None,\n",
    "                     predictions=True\n",
    "                     #, classifiers=models_list\n",
    "                     )\n",
    "\n",
    "# Entrainer et évaluer les modèles\n",
    "models_train, predictions_train = clf.fit(X_train, X_test, y_train, y_test)\n",
    "\n",
    "# Afficher les résultats\n",
    "print(models_train)"
   ]
  },
  {
   "cell_type": "code",
   "execution_count": 6,
   "metadata": {
    "id": "-8LgDu9GFmPX",
    "outputId": "3ac1d50a-4d47-4cdb-9ba1-767d18ce7ed6"
   },
   "outputs": [
    {
     "data": {
      "text/html": [
       "<div>\n",
       "<style scoped>\n",
       "    .dataframe tbody tr th:only-of-type {\n",
       "        vertical-align: middle;\n",
       "    }\n",
       "\n",
       "    .dataframe tbody tr th {\n",
       "        vertical-align: top;\n",
       "    }\n",
       "\n",
       "    .dataframe thead th {\n",
       "        text-align: right;\n",
       "    }\n",
       "</style>\n",
       "<table border=\"1\" class=\"dataframe\">\n",
       "  <thead>\n",
       "    <tr style=\"text-align: right;\">\n",
       "      <th></th>\n",
       "      <th>Accuracy</th>\n",
       "      <th>Balanced Accuracy</th>\n",
       "      <th>ROC AUC</th>\n",
       "      <th>F1 Score</th>\n",
       "      <th>Time Taken</th>\n",
       "    </tr>\n",
       "    <tr>\n",
       "      <th>Model</th>\n",
       "      <th></th>\n",
       "      <th></th>\n",
       "      <th></th>\n",
       "      <th></th>\n",
       "      <th></th>\n",
       "    </tr>\n",
       "  </thead>\n",
       "  <tbody>\n",
       "    <tr>\n",
       "      <th>RandomForestClassifier</th>\n",
       "      <td>0.81</td>\n",
       "      <td>0.81</td>\n",
       "      <td>0.81</td>\n",
       "      <td>0.82</td>\n",
       "      <td>60.79</td>\n",
       "    </tr>\n",
       "    <tr>\n",
       "      <th>XGBClassifier</th>\n",
       "      <td>0.81</td>\n",
       "      <td>0.81</td>\n",
       "      <td>0.81</td>\n",
       "      <td>0.81</td>\n",
       "      <td>1.37</td>\n",
       "    </tr>\n",
       "    <tr>\n",
       "      <th>ExtraTreesClassifier</th>\n",
       "      <td>0.81</td>\n",
       "      <td>0.81</td>\n",
       "      <td>0.81</td>\n",
       "      <td>0.81</td>\n",
       "      <td>73.58</td>\n",
       "    </tr>\n",
       "    <tr>\n",
       "      <th>LGBMClassifier</th>\n",
       "      <td>0.81</td>\n",
       "      <td>0.80</td>\n",
       "      <td>0.80</td>\n",
       "      <td>0.81</td>\n",
       "      <td>1.96</td>\n",
       "    </tr>\n",
       "    <tr>\n",
       "      <th>BaggingClassifier</th>\n",
       "      <td>0.79</td>\n",
       "      <td>0.79</td>\n",
       "      <td>0.79</td>\n",
       "      <td>0.79</td>\n",
       "      <td>47.47</td>\n",
       "    </tr>\n",
       "    <tr>\n",
       "      <th>SVC</th>\n",
       "      <td>0.79</td>\n",
       "      <td>0.79</td>\n",
       "      <td>0.79</td>\n",
       "      <td>0.79</td>\n",
       "      <td>6191.65</td>\n",
       "    </tr>\n",
       "    <tr>\n",
       "      <th>AdaBoostClassifier</th>\n",
       "      <td>0.79</td>\n",
       "      <td>0.79</td>\n",
       "      <td>0.79</td>\n",
       "      <td>0.79</td>\n",
       "      <td>24.33</td>\n",
       "    </tr>\n",
       "    <tr>\n",
       "      <th>NuSVC</th>\n",
       "      <td>0.79</td>\n",
       "      <td>0.79</td>\n",
       "      <td>0.79</td>\n",
       "      <td>0.79</td>\n",
       "      <td>8257.96</td>\n",
       "    </tr>\n",
       "    <tr>\n",
       "      <th>KNeighborsClassifier</th>\n",
       "      <td>0.75</td>\n",
       "      <td>0.75</td>\n",
       "      <td>0.75</td>\n",
       "      <td>0.75</td>\n",
       "      <td>89.09</td>\n",
       "    </tr>\n",
       "    <tr>\n",
       "      <th>QuadraticDiscriminantAnalysis</th>\n",
       "      <td>0.73</td>\n",
       "      <td>0.75</td>\n",
       "      <td>0.75</td>\n",
       "      <td>0.73</td>\n",
       "      <td>1.19</td>\n",
       "    </tr>\n",
       "    <tr>\n",
       "      <th>LinearDiscriminantAnalysis</th>\n",
       "      <td>0.74</td>\n",
       "      <td>0.74</td>\n",
       "      <td>0.74</td>\n",
       "      <td>0.74</td>\n",
       "      <td>1.82</td>\n",
       "    </tr>\n",
       "    <tr>\n",
       "      <th>RidgeClassifierCV</th>\n",
       "      <td>0.74</td>\n",
       "      <td>0.74</td>\n",
       "      <td>0.74</td>\n",
       "      <td>0.74</td>\n",
       "      <td>1.21</td>\n",
       "    </tr>\n",
       "    <tr>\n",
       "      <th>RidgeClassifier</th>\n",
       "      <td>0.74</td>\n",
       "      <td>0.74</td>\n",
       "      <td>0.74</td>\n",
       "      <td>0.74</td>\n",
       "      <td>0.53</td>\n",
       "    </tr>\n",
       "    <tr>\n",
       "      <th>LinearSVC</th>\n",
       "      <td>0.74</td>\n",
       "      <td>0.74</td>\n",
       "      <td>0.74</td>\n",
       "      <td>0.74</td>\n",
       "      <td>2.04</td>\n",
       "    </tr>\n",
       "    <tr>\n",
       "      <th>LogisticRegression</th>\n",
       "      <td>0.74</td>\n",
       "      <td>0.74</td>\n",
       "      <td>0.74</td>\n",
       "      <td>0.74</td>\n",
       "      <td>1.10</td>\n",
       "    </tr>\n",
       "    <tr>\n",
       "      <th>CalibratedClassifierCV</th>\n",
       "      <td>0.74</td>\n",
       "      <td>0.74</td>\n",
       "      <td>0.74</td>\n",
       "      <td>0.74</td>\n",
       "      <td>8.16</td>\n",
       "    </tr>\n",
       "    <tr>\n",
       "      <th>DecisionTreeClassifier</th>\n",
       "      <td>0.74</td>\n",
       "      <td>0.74</td>\n",
       "      <td>0.74</td>\n",
       "      <td>0.74</td>\n",
       "      <td>8.29</td>\n",
       "    </tr>\n",
       "    <tr>\n",
       "      <th>SGDClassifier</th>\n",
       "      <td>0.74</td>\n",
       "      <td>0.73</td>\n",
       "      <td>0.73</td>\n",
       "      <td>0.74</td>\n",
       "      <td>1.89</td>\n",
       "    </tr>\n",
       "    <tr>\n",
       "      <th>ExtraTreeClassifier</th>\n",
       "      <td>0.73</td>\n",
       "      <td>0.72</td>\n",
       "      <td>0.72</td>\n",
       "      <td>0.73</td>\n",
       "      <td>1.16</td>\n",
       "    </tr>\n",
       "    <tr>\n",
       "      <th>GaussianNB</th>\n",
       "      <td>0.67</td>\n",
       "      <td>0.70</td>\n",
       "      <td>0.70</td>\n",
       "      <td>0.67</td>\n",
       "      <td>0.69</td>\n",
       "    </tr>\n",
       "    <tr>\n",
       "      <th>NearestCentroid</th>\n",
       "      <td>0.68</td>\n",
       "      <td>0.70</td>\n",
       "      <td>0.70</td>\n",
       "      <td>0.68</td>\n",
       "      <td>0.59</td>\n",
       "    </tr>\n",
       "    <tr>\n",
       "      <th>BernoulliNB</th>\n",
       "      <td>0.66</td>\n",
       "      <td>0.66</td>\n",
       "      <td>0.66</td>\n",
       "      <td>0.67</td>\n",
       "      <td>1.56</td>\n",
       "    </tr>\n",
       "    <tr>\n",
       "      <th>Perceptron</th>\n",
       "      <td>0.63</td>\n",
       "      <td>0.63</td>\n",
       "      <td>0.63</td>\n",
       "      <td>0.63</td>\n",
       "      <td>0.93</td>\n",
       "    </tr>\n",
       "    <tr>\n",
       "      <th>PassiveAggressiveClassifier</th>\n",
       "      <td>0.59</td>\n",
       "      <td>0.58</td>\n",
       "      <td>0.58</td>\n",
       "      <td>0.59</td>\n",
       "      <td>0.93</td>\n",
       "    </tr>\n",
       "    <tr>\n",
       "      <th>DummyClassifier</th>\n",
       "      <td>0.58</td>\n",
       "      <td>0.50</td>\n",
       "      <td>0.50</td>\n",
       "      <td>0.43</td>\n",
       "      <td>0.47</td>\n",
       "    </tr>\n",
       "  </tbody>\n",
       "</table>\n",
       "</div>"
      ],
      "text/plain": [
       "                               Accuracy  Balanced Accuracy  ROC AUC  F1 Score  \\\n",
       "Model                                                                           \n",
       "RandomForestClassifier             0.81               0.81     0.81      0.82   \n",
       "XGBClassifier                      0.81               0.81     0.81      0.81   \n",
       "ExtraTreesClassifier               0.81               0.81     0.81      0.81   \n",
       "LGBMClassifier                     0.81               0.80     0.80      0.81   \n",
       "BaggingClassifier                  0.79               0.79     0.79      0.79   \n",
       "SVC                                0.79               0.79     0.79      0.79   \n",
       "AdaBoostClassifier                 0.79               0.79     0.79      0.79   \n",
       "NuSVC                              0.79               0.79     0.79      0.79   \n",
       "KNeighborsClassifier               0.75               0.75     0.75      0.75   \n",
       "QuadraticDiscriminantAnalysis      0.73               0.75     0.75      0.73   \n",
       "LinearDiscriminantAnalysis         0.74               0.74     0.74      0.74   \n",
       "RidgeClassifierCV                  0.74               0.74     0.74      0.74   \n",
       "RidgeClassifier                    0.74               0.74     0.74      0.74   \n",
       "LinearSVC                          0.74               0.74     0.74      0.74   \n",
       "LogisticRegression                 0.74               0.74     0.74      0.74   \n",
       "CalibratedClassifierCV             0.74               0.74     0.74      0.74   \n",
       "DecisionTreeClassifier             0.74               0.74     0.74      0.74   \n",
       "SGDClassifier                      0.74               0.73     0.73      0.74   \n",
       "ExtraTreeClassifier                0.73               0.72     0.72      0.73   \n",
       "GaussianNB                         0.67               0.70     0.70      0.67   \n",
       "NearestCentroid                    0.68               0.70     0.70      0.68   \n",
       "BernoulliNB                        0.66               0.66     0.66      0.67   \n",
       "Perceptron                         0.63               0.63     0.63      0.63   \n",
       "PassiveAggressiveClassifier        0.59               0.58     0.58      0.59   \n",
       "DummyClassifier                    0.58               0.50     0.50      0.43   \n",
       "\n",
       "                               Time Taken  \n",
       "Model                                      \n",
       "RandomForestClassifier              60.79  \n",
       "XGBClassifier                        1.37  \n",
       "ExtraTreesClassifier                73.58  \n",
       "LGBMClassifier                       1.96  \n",
       "BaggingClassifier                   47.47  \n",
       "SVC                               6191.65  \n",
       "AdaBoostClassifier                  24.33  \n",
       "NuSVC                             8257.96  \n",
       "KNeighborsClassifier                89.09  \n",
       "QuadraticDiscriminantAnalysis        1.19  \n",
       "LinearDiscriminantAnalysis           1.82  \n",
       "RidgeClassifierCV                    1.21  \n",
       "RidgeClassifier                      0.53  \n",
       "LinearSVC                            2.04  \n",
       "LogisticRegression                   1.10  \n",
       "CalibratedClassifierCV               8.16  \n",
       "DecisionTreeClassifier               8.29  \n",
       "SGDClassifier                        1.89  \n",
       "ExtraTreeClassifier                  1.16  \n",
       "GaussianNB                           0.69  \n",
       "NearestCentroid                      0.59  \n",
       "BernoulliNB                          1.56  \n",
       "Perceptron                           0.93  \n",
       "PassiveAggressiveClassifier          0.93  \n",
       "DummyClassifier                      0.47  "
      ]
     },
     "execution_count": 6,
     "metadata": {},
     "output_type": "execute_result"
    }
   ],
   "source": [
    "models_train"
   ]
  },
  {
   "cell_type": "code",
   "execution_count": 7,
   "metadata": {},
   "outputs": [
    {
     "data": {
      "text/plain": [
       "['models_saved/lazy_classifier.joblib']"
      ]
     },
     "execution_count": 7,
     "metadata": {},
     "output_type": "execute_result"
    }
   ],
   "source": [
    "# Sauvegarder les résultats\n",
    "joblib.dump(models_train, 'models_saved/lazy_classifier.joblib')"
   ]
  },
  {
   "cell_type": "markdown",
   "metadata": {
    "id": "6YRS6rPgFmPX"
   },
   "source": [
    "### Modélisation\n",
    "\n",
    "#### Modèle Adaboost"
   ]
  },
  {
   "cell_type": "code",
   "execution_count": 16,
   "metadata": {
    "id": "cgSH-jTNFmPX",
    "outputId": "6fe3050e-d7b8-4c50-b2b5-863cd0c8e3f3"
   },
   "outputs": [
    {
     "name": "stdout",
     "output_type": "stream",
     "text": [
      "Fitting 5 folds for each of 6 candidates, totalling 30 fits\n"
     ]
    },
    {
     "name": "stderr",
     "output_type": "stream",
     "text": [
      "/home/yu/workspace/acc_route/env_acc_route/lib/python3.10/site-packages/sklearn/ensemble/_weight_boosting.py:527: FutureWarning: The SAMME.R algorithm (the default) is deprecated and will be removed in 1.6. Use the SAMME algorithm to circumvent this warning.\n",
      "  warnings.warn(\n",
      "/home/yu/workspace/acc_route/env_acc_route/lib/python3.10/site-packages/sklearn/ensemble/_weight_boosting.py:527: FutureWarning: The SAMME.R algorithm (the default) is deprecated and will be removed in 1.6. Use the SAMME algorithm to circumvent this warning.\n",
      "  warnings.warn(\n",
      "/home/yu/workspace/acc_route/env_acc_route/lib/python3.10/site-packages/sklearn/ensemble/_weight_boosting.py:527: FutureWarning: The SAMME.R algorithm (the default) is deprecated and will be removed in 1.6. Use the SAMME algorithm to circumvent this warning.\n",
      "  warnings.warn(\n",
      "/home/yu/workspace/acc_route/env_acc_route/lib/python3.10/site-packages/sklearn/ensemble/_weight_boosting.py:527: FutureWarning: The SAMME.R algorithm (the default) is deprecated and will be removed in 1.6. Use the SAMME algorithm to circumvent this warning.\n",
      "  warnings.warn(\n",
      "/home/yu/workspace/acc_route/env_acc_route/lib/python3.10/site-packages/sklearn/ensemble/_weight_boosting.py:527: FutureWarning: The SAMME.R algorithm (the default) is deprecated and will be removed in 1.6. Use the SAMME algorithm to circumvent this warning.\n",
      "  warnings.warn(\n",
      "/home/yu/workspace/acc_route/env_acc_route/lib/python3.10/site-packages/sklearn/ensemble/_weight_boosting.py:527: FutureWarning: The SAMME.R algorithm (the default) is deprecated and will be removed in 1.6. Use the SAMME algorithm to circumvent this warning.\n",
      "  warnings.warn(\n",
      "/home/yu/workspace/acc_route/env_acc_route/lib/python3.10/site-packages/sklearn/ensemble/_weight_boosting.py:527: FutureWarning: The SAMME.R algorithm (the default) is deprecated and will be removed in 1.6. Use the SAMME algorithm to circumvent this warning.\n",
      "  warnings.warn(\n",
      "/home/yu/workspace/acc_route/env_acc_route/lib/python3.10/site-packages/sklearn/ensemble/_weight_boosting.py:527: FutureWarning: The SAMME.R algorithm (the default) is deprecated and will be removed in 1.6. Use the SAMME algorithm to circumvent this warning.\n",
      "  warnings.warn(\n",
      "/home/yu/workspace/acc_route/env_acc_route/lib/python3.10/site-packages/sklearn/ensemble/_weight_boosting.py:527: FutureWarning: The SAMME.R algorithm (the default) is deprecated and will be removed in 1.6. Use the SAMME algorithm to circumvent this warning.\n",
      "  warnings.warn(\n",
      "/home/yu/workspace/acc_route/env_acc_route/lib/python3.10/site-packages/sklearn/ensemble/_weight_boosting.py:527: FutureWarning: The SAMME.R algorithm (the default) is deprecated and will be removed in 1.6. Use the SAMME algorithm to circumvent this warning.\n",
      "  warnings.warn(\n",
      "/home/yu/workspace/acc_route/env_acc_route/lib/python3.10/site-packages/sklearn/ensemble/_weight_boosting.py:527: FutureWarning: The SAMME.R algorithm (the default) is deprecated and will be removed in 1.6. Use the SAMME algorithm to circumvent this warning.\n",
      "  warnings.warn(\n",
      "/home/yu/workspace/acc_route/env_acc_route/lib/python3.10/site-packages/sklearn/ensemble/_weight_boosting.py:527: FutureWarning: The SAMME.R algorithm (the default) is deprecated and will be removed in 1.6. Use the SAMME algorithm to circumvent this warning.\n",
      "  warnings.warn(\n"
     ]
    },
    {
     "name": "stdout",
     "output_type": "stream",
     "text": [
      "[CV 1/5] END algorithm=SAMME.R, learning_rate=0.01, n_estimators=600;, score=0.774 total time=13.0min\n"
     ]
    },
    {
     "name": "stderr",
     "output_type": "stream",
     "text": [
      "/home/yu/workspace/acc_route/env_acc_route/lib/python3.10/site-packages/sklearn/ensemble/_weight_boosting.py:527: FutureWarning: The SAMME.R algorithm (the default) is deprecated and will be removed in 1.6. Use the SAMME algorithm to circumvent this warning.\n",
      "  warnings.warn(\n"
     ]
    },
    {
     "name": "stdout",
     "output_type": "stream",
     "text": [
      "[CV 3/5] END algorithm=SAMME.R, learning_rate=0.01, n_estimators=600;, score=0.776 total time=13.3min\n",
      "[CV 4/5] END algorithm=SAMME.R, learning_rate=0.01, n_estimators=600;, score=0.773 total time=13.3min\n"
     ]
    },
    {
     "name": "stderr",
     "output_type": "stream",
     "text": [
      "/home/yu/workspace/acc_route/env_acc_route/lib/python3.10/site-packages/sklearn/ensemble/_weight_boosting.py:527: FutureWarning: The SAMME.R algorithm (the default) is deprecated and will be removed in 1.6. Use the SAMME algorithm to circumvent this warning.\n",
      "  warnings.warn(\n",
      "/home/yu/workspace/acc_route/env_acc_route/lib/python3.10/site-packages/sklearn/ensemble/_weight_boosting.py:527: FutureWarning: The SAMME.R algorithm (the default) is deprecated and will be removed in 1.6. Use the SAMME algorithm to circumvent this warning.\n",
      "  warnings.warn(\n"
     ]
    },
    {
     "name": "stdout",
     "output_type": "stream",
     "text": [
      "[CV 2/5] END algorithm=SAMME.R, learning_rate=0.01, n_estimators=600;, score=0.775 total time=13.3min\n"
     ]
    },
    {
     "name": "stderr",
     "output_type": "stream",
     "text": [
      "/home/yu/workspace/acc_route/env_acc_route/lib/python3.10/site-packages/sklearn/ensemble/_weight_boosting.py:527: FutureWarning: The SAMME.R algorithm (the default) is deprecated and will be removed in 1.6. Use the SAMME algorithm to circumvent this warning.\n",
      "  warnings.warn(\n"
     ]
    },
    {
     "name": "stdout",
     "output_type": "stream",
     "text": [
      "[CV 5/5] END algorithm=SAMME.R, learning_rate=0.01, n_estimators=600;, score=0.773 total time=13.4min\n"
     ]
    },
    {
     "name": "stderr",
     "output_type": "stream",
     "text": [
      "/home/yu/workspace/acc_route/env_acc_route/lib/python3.10/site-packages/sklearn/ensemble/_weight_boosting.py:527: FutureWarning: The SAMME.R algorithm (the default) is deprecated and will be removed in 1.6. Use the SAMME algorithm to circumvent this warning.\n",
      "  warnings.warn(\n"
     ]
    },
    {
     "name": "stdout",
     "output_type": "stream",
     "text": [
      "[CV 1/5] END algorithm=SAMME.R, learning_rate=0.01, n_estimators=700;, score=0.775 total time=15.2min\n",
      "[CV 5/5] END algorithm=SAMME.R, learning_rate=0.01, n_estimators=700;, score=0.772 total time=15.2min\n"
     ]
    },
    {
     "name": "stderr",
     "output_type": "stream",
     "text": [
      "/home/yu/workspace/acc_route/env_acc_route/lib/python3.10/site-packages/sklearn/ensemble/_weight_boosting.py:527: FutureWarning: The SAMME.R algorithm (the default) is deprecated and will be removed in 1.6. Use the SAMME algorithm to circumvent this warning.\n",
      "  warnings.warn(\n",
      "/home/yu/workspace/acc_route/env_acc_route/lib/python3.10/site-packages/sklearn/ensemble/_weight_boosting.py:527: FutureWarning: The SAMME.R algorithm (the default) is deprecated and will be removed in 1.6. Use the SAMME algorithm to circumvent this warning.\n",
      "  warnings.warn(\n"
     ]
    },
    {
     "name": "stdout",
     "output_type": "stream",
     "text": [
      "[CV 4/5] END algorithm=SAMME.R, learning_rate=0.01, n_estimators=700;, score=0.774 total time=15.2min\n"
     ]
    },
    {
     "name": "stderr",
     "output_type": "stream",
     "text": [
      "/home/yu/workspace/acc_route/env_acc_route/lib/python3.10/site-packages/sklearn/ensemble/_weight_boosting.py:527: FutureWarning: The SAMME.R algorithm (the default) is deprecated and will be removed in 1.6. Use the SAMME algorithm to circumvent this warning.\n",
      "  warnings.warn(\n"
     ]
    },
    {
     "name": "stdout",
     "output_type": "stream",
     "text": [
      "[CV 2/5] END algorithm=SAMME.R, learning_rate=0.01, n_estimators=700;, score=0.775 total time=15.3min\n"
     ]
    },
    {
     "name": "stderr",
     "output_type": "stream",
     "text": [
      "/home/yu/workspace/acc_route/env_acc_route/lib/python3.10/site-packages/sklearn/ensemble/_weight_boosting.py:527: FutureWarning: The SAMME.R algorithm (the default) is deprecated and will be removed in 1.6. Use the SAMME algorithm to circumvent this warning.\n",
      "  warnings.warn(\n"
     ]
    },
    {
     "name": "stdout",
     "output_type": "stream",
     "text": [
      "[CV 3/5] END algorithm=SAMME.R, learning_rate=0.01, n_estimators=700;, score=0.776 total time=15.6min\n"
     ]
    },
    {
     "name": "stderr",
     "output_type": "stream",
     "text": [
      "/home/yu/workspace/acc_route/env_acc_route/lib/python3.10/site-packages/sklearn/ensemble/_weight_boosting.py:527: FutureWarning: The SAMME.R algorithm (the default) is deprecated and will be removed in 1.6. Use the SAMME algorithm to circumvent this warning.\n",
      "  warnings.warn(\n"
     ]
    },
    {
     "name": "stdout",
     "output_type": "stream",
     "text": [
      "[CV 1/5] END algorithm=SAMME.R, learning_rate=0.01, n_estimators=800;, score=0.782 total time=17.4min\n"
     ]
    },
    {
     "name": "stderr",
     "output_type": "stream",
     "text": [
      "/home/yu/workspace/acc_route/env_acc_route/lib/python3.10/site-packages/sklearn/ensemble/_weight_boosting.py:527: FutureWarning: The SAMME.R algorithm (the default) is deprecated and will be removed in 1.6. Use the SAMME algorithm to circumvent this warning.\n",
      "  warnings.warn(\n"
     ]
    },
    {
     "name": "stdout",
     "output_type": "stream",
     "text": [
      "[CV 2/5] END algorithm=SAMME.R, learning_rate=0.01, n_estimators=800;, score=0.783 total time=17.9min\n"
     ]
    },
    {
     "name": "stderr",
     "output_type": "stream",
     "text": [
      "/home/yu/workspace/acc_route/env_acc_route/lib/python3.10/site-packages/sklearn/ensemble/_weight_boosting.py:527: FutureWarning: The SAMME.R algorithm (the default) is deprecated and will be removed in 1.6. Use the SAMME algorithm to circumvent this warning.\n",
      "  warnings.warn(\n"
     ]
    },
    {
     "name": "stdout",
     "output_type": "stream",
     "text": [
      "[CV 2/5] END algorithm=SAMME.R, learning_rate=0.1, n_estimators=600;, score=0.811 total time=13.1min\n"
     ]
    },
    {
     "name": "stderr",
     "output_type": "stream",
     "text": [
      "/home/yu/workspace/acc_route/env_acc_route/lib/python3.10/site-packages/sklearn/ensemble/_weight_boosting.py:527: FutureWarning: The SAMME.R algorithm (the default) is deprecated and will be removed in 1.6. Use the SAMME algorithm to circumvent this warning.\n",
      "  warnings.warn(\n"
     ]
    },
    {
     "name": "stdout",
     "output_type": "stream",
     "text": [
      "[CV 1/5] END algorithm=SAMME.R, learning_rate=0.1, n_estimators=600;, score=0.809 total time=13.6min\n"
     ]
    },
    {
     "name": "stderr",
     "output_type": "stream",
     "text": [
      "/home/yu/workspace/acc_route/env_acc_route/lib/python3.10/site-packages/sklearn/ensemble/_weight_boosting.py:527: FutureWarning: The SAMME.R algorithm (the default) is deprecated and will be removed in 1.6. Use the SAMME algorithm to circumvent this warning.\n",
      "  warnings.warn(\n"
     ]
    },
    {
     "name": "stdout",
     "output_type": "stream",
     "text": [
      "[CV 3/5] END algorithm=SAMME.R, learning_rate=0.1, n_estimators=600;, score=0.812 total time=13.2min\n"
     ]
    },
    {
     "name": "stderr",
     "output_type": "stream",
     "text": [
      "/home/yu/workspace/acc_route/env_acc_route/lib/python3.10/site-packages/sklearn/ensemble/_weight_boosting.py:527: FutureWarning: The SAMME.R algorithm (the default) is deprecated and will be removed in 1.6. Use the SAMME algorithm to circumvent this warning.\n",
      "  warnings.warn(\n"
     ]
    },
    {
     "name": "stdout",
     "output_type": "stream",
     "text": [
      "[CV 5/5] END algorithm=SAMME.R, learning_rate=0.1, n_estimators=600;, score=0.809 total time=13.2min\n"
     ]
    },
    {
     "name": "stderr",
     "output_type": "stream",
     "text": [
      "/home/yu/workspace/acc_route/env_acc_route/lib/python3.10/site-packages/sklearn/ensemble/_weight_boosting.py:527: FutureWarning: The SAMME.R algorithm (the default) is deprecated and will be removed in 1.6. Use the SAMME algorithm to circumvent this warning.\n",
      "  warnings.warn(\n"
     ]
    },
    {
     "name": "stdout",
     "output_type": "stream",
     "text": [
      "[CV 4/5] END algorithm=SAMME.R, learning_rate=0.1, n_estimators=600;, score=0.808 total time=13.6min\n"
     ]
    },
    {
     "name": "stderr",
     "output_type": "stream",
     "text": [
      "/home/yu/workspace/acc_route/env_acc_route/lib/python3.10/site-packages/sklearn/ensemble/_weight_boosting.py:527: FutureWarning: The SAMME.R algorithm (the default) is deprecated and will be removed in 1.6. Use the SAMME algorithm to circumvent this warning.\n",
      "  warnings.warn(\n"
     ]
    },
    {
     "name": "stdout",
     "output_type": "stream",
     "text": [
      "[CV 3/5] END algorithm=SAMME.R, learning_rate=0.01, n_estimators=800;, score=0.784 total time=17.5min\n"
     ]
    },
    {
     "name": "stderr",
     "output_type": "stream",
     "text": [
      "/home/yu/workspace/acc_route/env_acc_route/lib/python3.10/site-packages/sklearn/ensemble/_weight_boosting.py:527: FutureWarning: The SAMME.R algorithm (the default) is deprecated and will be removed in 1.6. Use the SAMME algorithm to circumvent this warning.\n",
      "  warnings.warn(\n"
     ]
    },
    {
     "name": "stdout",
     "output_type": "stream",
     "text": [
      "[CV 4/5] END algorithm=SAMME.R, learning_rate=0.01, n_estimators=800;, score=0.781 total time=17.7min\n",
      "[CV 1/5] END algorithm=SAMME.R, learning_rate=0.1, n_estimators=700;, score=0.811 total time=15.9min\n",
      "[CV 5/5] END algorithm=SAMME.R, learning_rate=0.01, n_estimators=800;, score=0.780 total time=18.0min\n",
      "[CV 2/5] END algorithm=SAMME.R, learning_rate=0.1, n_estimators=700;, score=0.812 total time=16.0min\n",
      "[CV 3/5] END algorithm=SAMME.R, learning_rate=0.1, n_estimators=700;, score=0.813 total time=15.1min\n",
      "[CV 4/5] END algorithm=SAMME.R, learning_rate=0.1, n_estimators=700;, score=0.810 total time=15.3min\n",
      "[CV 5/5] END algorithm=SAMME.R, learning_rate=0.1, n_estimators=700;, score=0.810 total time=11.3min\n",
      "[CV 1/5] END algorithm=SAMME.R, learning_rate=0.1, n_estimators=800;, score=0.812 total time=12.3min\n",
      "[CV 2/5] END algorithm=SAMME.R, learning_rate=0.1, n_estimators=800;, score=0.813 total time=11.4min\n",
      "[CV 3/5] END algorithm=SAMME.R, learning_rate=0.1, n_estimators=800;, score=0.814 total time=11.4min\n",
      "[CV 4/5] END algorithm=SAMME.R, learning_rate=0.1, n_estimators=800;, score=0.811 total time=11.1min\n",
      "[CV 5/5] END algorithm=SAMME.R, learning_rate=0.1, n_estimators=800;, score=0.812 total time= 9.9min\n",
      "Meilleurs paramètres trouvés: {'algorithm': 'SAMME.R', 'learning_rate': 0.1, 'n_estimators': 800}\n",
      "Meilleur score de validation croisée: 0.812535601304711\n",
      "[0.025   0.035   0.0275  0.01625 0.01625 0.04    0.02125 0.0025  0.\n",
      " 0.01    0.      0.      0.00375 0.00375 0.0025  0.02    0.0075  0.005\n",
      " 0.00625 0.      0.      0.045   0.045   0.01375 0.      0.1125  0.035\n",
      " 0.28625 0.05625 0.12    0.01125 0.01375 0.01875 0.     ]\n",
      "Adaboost Classifier Accuracy: 0.79\n",
      "Adaboost Classifier f1-score: 0.81\n",
      "\n",
      "Classification Report:\n",
      "              precision    recall  f1-score   support\n",
      "\n",
      "           0       0.73      0.79      0.76     38091\n",
      "           1       0.84      0.79      0.81     53195\n",
      "\n",
      "    accuracy                           0.79     91286\n",
      "   macro avg       0.79      0.79      0.79     91286\n",
      "weighted avg       0.79      0.79      0.79     91286\n",
      "\n"
     ]
    }
   ],
   "source": [
    "# model adaboost\n",
    "\n",
    "scaler = StandardScaler()\n",
    "\n",
    "X_train_scaled = scaler.fit_transform(X_train)\n",
    "X_test_scaled = scaler.transform(X_test)\n",
    "\n",
    "\n",
    "hp_ada = {\n",
    "    'n_estimators': [600, 700, 800],        # Nombre de classificateurs faibles\n",
    "    'learning_rate': [0.01, 0.1],     # Taux d'apprentissage : ajuste la contribution de chaque classificateur faible à la prédiction finale\n",
    "    'algorithm': ['SAMME.R']      # Algorithme utilisé: 'SAMME.R'\n",
    "}\n",
    "\n",
    "dtc = DecisionTreeClassifier(random_state=42, max_depth=1)\n",
    "\n",
    "gs_ada= GridSearchCV(estimator=AdaBoostClassifier(random_state=42, estimator=dtc),\n",
    "                     param_grid=hp_ada,\n",
    "                           cv = 5,  # Nombre de folds pour la validation croisée\n",
    "                           verbose = 3, # Affiche le degré de détail des calculs\n",
    "                           refit=True, # réentraine le modèle avec toutes les données\n",
    "                           scoring=\"f1\",\n",
    "                           n_jobs = -1)  # Utiliser etous les cours du CPU\n",
    "\n",
    "gs_ada.fit(X_train_scaled, y_train)\n",
    "\n",
    "best_hp_ada = gs_ada.best_params_\n",
    "best_score_ada = gs_ada.best_score_\n",
    "best_estimator_ada = gs_ada.best_estimator_\n",
    "\n",
    "print(\"Meilleurs paramètres trouvés:\", best_hp_ada)\n",
    "print(\"Meilleur score de validation croisée:\", best_score_ada)\n",
    "\n",
    "y_pred_ada = best_estimator_ada.predict(X_test_scaled)\n",
    "\n",
    "importances_model_ada = best_estimator_ada.feature_importances_\n",
    "print(importances_model_ada)\n",
    "\n",
    "# Évaluer le modèle\n",
    "accuracy_ada = accuracy_score(y_test, y_pred_ada)\n",
    "f1_ada = f1_score(y_test, y_pred_ada, average='binary') \n",
    "report_ada = classification_report(y_test, y_pred_ada)\n",
    "\n",
    "# Afficher les résultats\n",
    "print(f\"Adaboost Classifier Accuracy: {accuracy_ada:.2f}\")\n",
    "print(f\"Adaboost Classifier f1-score: {f1_ada:.2f}\")\n",
    "print(\"\\nClassification Report:\")\n",
    "print(report_ada)"
   ]
  },
  {
   "cell_type": "markdown",
   "metadata": {},
   "source": [
    "##### Matrice de confusion"
   ]
  },
  {
   "cell_type": "code",
   "execution_count": 17,
   "metadata": {},
   "outputs": [
    {
     "name": "stdout",
     "output_type": "stream",
     "text": [
      "Matrice de confusion :\n",
      " [[30135  7956]\n",
      " [11165 42030]]\n"
     ]
    },
    {
     "data": {
      "image/png": "[encoded data removed]",
      "text/plain": [
       "<Figure size 800x600 with 2 Axes>"
      ]
     },
     "metadata": {},
     "output_type": "display_data"
    }
   ],
   "source": [
    "cm_ada = confusion_matrix(y_test, y_pred_ada)\n",
    "print(\"Matrice de confusion :\\n\", cm_ada)\n",
    "\n",
    "row_sums_ada = cm_ada.sum(axis = 1)\n",
    "cm_percent_ada = (cm_ada.T / row_sums_ada).T * 100\n",
    "\n",
    "plt.figure(figsize=(8, 6))\n",
    "sns.heatmap(cm_percent_ada, annot = True, fmt = \".2f\", cmap = \"Blues\")\n",
    "plt.xlabel('Classe prédite')\n",
    "plt.ylabel('Classe réelle')\n",
    "plt.title('Matrice de confusion avec pourcentages')\n",
    "plt.show();"
   ]
  },
  {
   "cell_type": "markdown",
   "metadata": {},
   "source": [
    "##### Importances features"
   ]
  },
  {
   "cell_type": "code",
   "execution_count": 52,
   "metadata": {},
   "outputs": [
    {
     "data": {
      "image/png": "[encoded data removed]",
      "text/plain": [
       "<Figure size 1000x600 with 1 Axes>"
      ]
     },
     "metadata": {},
     "output_type": "display_data"
    }
   ],
   "source": [
    "features = X_train.columns\n",
    "\n",
    "importances_ada = best_estimator_ada.feature_importances_\n",
    "indices_ada = np.argsort(importances_ada)\n",
    "\n",
    "plt.figure(figsize=(10, 6))\n",
    "plt.title(\"Importance des Variables\")\n",
    "plt.barh(range(len(indices_ada)), importances_ada[indices_ada], align=\"center\")\n",
    "plt.yticks(range(len(indices_ada)), [features[i] for i in indices_ada])\n",
    "plt.xlabel('Importance Relative')\n",
    "plt.show()"
   ]
  },
  {
   "cell_type": "markdown",
   "metadata": {
    "id": "46sJ5acXFmPX"
   },
   "source": [
    "##### Sauvegarde du modèle"
   ]
  },
  {
   "cell_type": "code",
   "execution_count": 9,
   "metadata": {
    "id": "0ID01wkqFmPX"
   },
   "outputs": [
    {
     "data": {
      "text/plain": [
       "['models_saved/best_estimator_ada_model.joblib']"
      ]
     },
     "execution_count": 9,
     "metadata": {},
     "output_type": "execute_result"
    }
   ],
   "source": [
    "# Sauvegarder le modèle\n",
    "joblib.dump(best_estimator_ada, 'models_saved/best_estimator_ada_model.joblib')"
   ]
  },
  {
   "cell_type": "markdown",
   "metadata": {},
   "source": [
    "#### Modèle Random Forest Classifier"
   ]
  },
  {
   "cell_type": "code",
   "execution_count": 20,
   "metadata": {},
   "outputs": [
    {
     "name": "stdout",
     "output_type": "stream",
     "text": [
      "Meilleurs paramètres trouvés: <bound method BaseEstimator.get_params of RandomForestClassifier(random_state=42)>\n",
      "[0.03990293 0.03134351 0.0152261  0.02369087 0.01351158 0.02224427\n",
      " 0.01666631 0.01396233 0.01945496 0.00625401 0.01019532 0.00980528\n",
      " 0.0084554  0.01072554 0.00773937 0.02331236 0.01247187 0.05587568\n",
      " 0.01158316 0.01604782 0.01177034 0.04759401 0.06056232 0.06067711\n",
      " 0.01901507 0.16498982 0.03188728 0.04883438 0.03652321 0.03702645\n",
      " 0.01856679 0.03529952 0.02835758 0.03042748]\n",
      " \n",
      "Random Forest Classifier Accuracy: 0.81\n",
      "Random Forest Classifier f1-score: 0.84\n",
      "\n",
      "Classification Report:\n",
      "              precision    recall  f1-score   support\n",
      "\n",
      "           0       0.77      0.80      0.78     38091\n",
      "           1       0.85      0.83      0.84     53195\n",
      "\n",
      "    accuracy                           0.81     91286\n",
      "   macro avg       0.81      0.81      0.81     91286\n",
      "weighted avg       0.82      0.81      0.82     91286\n",
      "\n"
     ]
    }
   ],
   "source": [
    "scaler = StandardScaler()\n",
    "\n",
    "X_train_scaled = scaler.fit_transform(X_train)\n",
    "X_test_scaled = scaler.transform(X_test)\n",
    "\n",
    "\n",
    "# model baseline\n",
    "model = RandomForestClassifier(random_state=42).fit(X_train_scaled, y_train)\n",
    "y_pred_rf_1 = model.predict(X_test_scaled)\n",
    "\n",
    "best_hp_rf_1 = model.get_params\n",
    "print(\"Meilleurs paramètres trouvés:\", best_hp_rf_1)\n",
    "\n",
    "importances_model = model.feature_importances_\n",
    "print(importances_model)\n",
    "\n",
    "# Évaluer le modèle\n",
    "accuracy_rf = accuracy_score(y_test, y_pred_rf_1)\n",
    "report_rf = classification_report(y_test, y_pred_rf_1)\n",
    "f1_rf = f1_score(y_test, y_pred_rf_1, average='binary') \n",
    "\n",
    "# Afficher les résultats\n",
    "print(\" \")\n",
    "print(f\"Random Forest Classifier Accuracy: {accuracy_rf:.2f}\")\n",
    "print(f\"Random Forest Classifier f1-score: {f1_rf:.2f}\")\n",
    "print(\"\\nClassification Report:\")\n",
    "print(report_rf)"
   ]
  },
  {
   "cell_type": "markdown",
   "metadata": {},
   "source": [
    "##### Matrice de confusion"
   ]
  },
  {
   "cell_type": "code",
   "execution_count": 21,
   "metadata": {},
   "outputs": [
    {
     "name": "stdout",
     "output_type": "stream",
     "text": [
      "Matrice de confusion :\n",
      " [[30439  7652]\n",
      " [ 9267 43928]]\n"
     ]
    },
    {
     "data": {
      "image/png": "[encoded data removed]",
      "text/plain": [
       "<Figure size 800x600 with 2 Axes>"
      ]
     },
     "metadata": {},
     "output_type": "display_data"
    }
   ],
   "source": [
    "cm_rf_1 = confusion_matrix(y_test, y_pred_rf_1)\n",
    "print(\"Matrice de confusion :\\n\", cm_rf_1)\n",
    "\n",
    "row_sums_rf_1 = cm_rf_1.sum(axis = 1)\n",
    "cm_percent_rf_1 = (cm_rf_1.T / row_sums_rf_1).T * 100\n",
    "\n",
    "plt.figure(figsize=(8, 6))\n",
    "sns.heatmap(cm_percent_rf_1, annot = True, fmt = \".2f\", cmap = \"Blues\")\n",
    "plt.xlabel('Classe prédite')\n",
    "plt.ylabel('Classe réelle')\n",
    "plt.title('Matrice de confusion avec pourcentages')\n",
    "plt.show();"
   ]
  },
  {
   "cell_type": "markdown",
   "metadata": {},
   "source": [
    "##### Importances features"
   ]
  },
  {
   "cell_type": "code",
   "execution_count": 53,
   "metadata": {},
   "outputs": [
    {
     "data": {
      "image/png": "[encoded data removed]",
      "text/plain": [
       "<Figure size 1000x600 with 1 Axes>"
      ]
     },
     "metadata": {},
     "output_type": "display_data"
    }
   ],
   "source": [
    "features = X_train.columns\n",
    "\n",
    "importances_rf = model.feature_importances_\n",
    "indices_rf = np.argsort(importances_rf)\n",
    "\n",
    "plt.figure(figsize=(10, 6))\n",
    "plt.title(\"Importance des Variables\")\n",
    "plt.barh(range(len(indices_rf)), importances_rf[indices_rf], align=\"center\")\n",
    "plt.yticks(range(len(indices_rf)), [features[i] for i in indices_rf])\n",
    "plt.xlabel('Importance Relative')\n",
    "plt.show()"
   ]
  },
  {
   "cell_type": "markdown",
   "metadata": {},
   "source": [
    "##### Sauvegarde du modèle"
   ]
  },
  {
   "cell_type": "code",
   "execution_count": 71,
   "metadata": {},
   "outputs": [
    {
     "data": {
      "text/plain": [
       "['Brouillons/rf_model.joblib']"
      ]
     },
     "execution_count": 71,
     "metadata": {},
     "output_type": "execute_result"
    }
   ],
   "source": [
    "# Sauvegarder les résultats\n",
    "joblib.dump(model, 'Brouillons/rf_model.joblib')"
   ]
  },
  {
   "cell_type": "markdown",
   "metadata": {
    "id": "qzU1cpjdFmPX"
   },
   "source": [
    "#### Modèle ExtraTreesClassifier"
   ]
  },
  {
   "cell_type": "code",
   "execution_count": 22,
   "metadata": {
    "id": "sniY5XHgFmPX",
    "outputId": "b11050b6-65ce-493e-d5b1-cc0c6e52a9b0"
   },
   "outputs": [
    {
     "name": "stdout",
     "output_type": "stream",
     "text": [
      "[0.03747898 0.03403328 0.01579587 0.02914137 0.01380268 0.02313793\n",
      " 0.02079351 0.01843637 0.02245456 0.00853018 0.01467489 0.01370111\n",
      " 0.01347632 0.0139844  0.01086324 0.02299184 0.01576031 0.03639061\n",
      " 0.02013592 0.01996659 0.01467812 0.04826908 0.03511369 0.03482993\n",
      " 0.02542915 0.16399483 0.03675406 0.03746342 0.03840043 0.03735182\n",
      " 0.02293935 0.03771612 0.03030456 0.03120547]\n",
      " \n",
      "Extra Trees Classifier Accuracy: 0.81\n",
      "Extra Trees Classifier f1-score: 0.83\n",
      "\n",
      "Classification Report:\n",
      "              precision    recall  f1-score   support\n",
      "\n",
      "           0       0.76      0.79      0.78     38091\n",
      "           1       0.85      0.82      0.83     53195\n",
      "\n",
      "    accuracy                           0.81     91286\n",
      "   macro avg       0.80      0.81      0.80     91286\n",
      "weighted avg       0.81      0.81      0.81     91286\n",
      "\n"
     ]
    }
   ],
   "source": [
    "# ExtraTreesClassifier\n",
    "\n",
    "scaler = StandardScaler()\n",
    "\n",
    "X_train_scaled = scaler.fit_transform(X_train)\n",
    "X_test_scaled = scaler.transform(X_test)\n",
    "\n",
    "# Initialiser et entraîner le modèle ExtraTreesClassifier\n",
    "et_clf = ExtraTreesClassifier(n_estimators=100, random_state=42)\n",
    "et_clf.fit(X_train_scaled, y_train)\n",
    "\n",
    "# Prédire les valeurs pour l'ensemble de test\n",
    "y_pred_extrTr = et_clf.predict(X_test_scaled)\n",
    "\n",
    "# Importances des variables\n",
    "importances_model_et = et_clf.feature_importances_\n",
    "print(importances_model_et)\n",
    "\n",
    "# Évaluer le modèle\n",
    "accuracy_et = accuracy_score(y_test, y_pred_extrTr)\n",
    "report_et = classification_report(y_test, y_pred_extrTr)\n",
    "f1_et = f1_score(y_test, y_pred_extrTr, average='binary') \n",
    "\n",
    "# Afficher les résultats\n",
    "print(\" \")\n",
    "print(f\"Extra Trees Classifier Accuracy: {accuracy_et:.2f}\")\n",
    "print(f\"Extra Trees Classifier f1-score: {f1_et:.2f}\")\n",
    "print(\"\\nClassification Report:\")\n",
    "print(report_et)"
   ]
  },
  {
   "cell_type": "markdown",
   "metadata": {},
   "source": [
    "##### Matrice de confusion"
   ]
  },
  {
   "cell_type": "code",
   "execution_count": 23,
   "metadata": {},
   "outputs": [
    {
     "name": "stdout",
     "output_type": "stream",
     "text": [
      "Matrice de confusion :\n",
      " [[30054  8037]\n",
      " [ 9360 43835]]\n"
     ]
    },
    {
     "data": {
      "image/png": "[encoded data removed]",
      "text/plain": [
       "<Figure size 800x600 with 2 Axes>"
      ]
     },
     "metadata": {},
     "output_type": "display_data"
    }
   ],
   "source": [
    "cm_et = confusion_matrix(y_test, y_pred_extrTr)\n",
    "print(\"Matrice de confusion :\\n\", cm_et)\n",
    "\n",
    "row_sums_et = cm_et.sum(axis = 1)\n",
    "cm_percent_et = (cm_et.T / row_sums_et).T * 100\n",
    "\n",
    "plt.figure(figsize=(8, 6))\n",
    "sns.heatmap(cm_percent_et, annot = True, fmt = \".2f\", cmap = \"Blues\")\n",
    "plt.xlabel('Classe prédite')\n",
    "plt.ylabel('Classe réelle')\n",
    "plt.title('Matrice de confusion avec pourcentages')\n",
    "plt.show();"
   ]
  },
  {
   "cell_type": "markdown",
   "metadata": {},
   "source": [
    "##### Importances features"
   ]
  },
  {
   "cell_type": "code",
   "execution_count": 61,
   "metadata": {},
   "outputs": [
    {
     "data": {
      "image/png": "[encoded data removed]",
      "text/plain": [
       "<Figure size 1000x600 with 1 Axes>"
      ]
     },
     "metadata": {},
     "output_type": "display_data"
    }
   ],
   "source": [
    "features = X_train.columns\n",
    "\n",
    "importances_et = et_clf.feature_importances_\n",
    "indices_et = np.argsort(importances_et)\n",
    "\n",
    "plt.figure(figsize=(10, 6))\n",
    "plt.title(\"Importance des Variables\")\n",
    "plt.barh(range(len(indices_et)), importances_et[indices_et], align=\"center\")\n",
    "plt.yticks(range(len(indices_et)), [features[i] for i in indices_et])\n",
    "plt.xlabel('Importance Relative')\n",
    "plt.show()"
   ]
  },
  {
   "cell_type": "markdown",
   "metadata": {},
   "source": [
    "##### Sauvegarde du modèle"
   ]
  },
  {
   "cell_type": "code",
   "execution_count": 24,
   "metadata": {},
   "outputs": [
    {
     "data": {
      "text/plain": [
       "['Brouillons/extra_tree_classifier_model.joblib']"
      ]
     },
     "execution_count": 24,
     "metadata": {},
     "output_type": "execute_result"
    }
   ],
   "source": [
    "# Sauvegarder le modèle\n",
    "joblib.dump(et_clf, 'Brouillons/extra_tree_classifier_model.joblib')"
   ]
  },
  {
   "cell_type": "markdown",
   "metadata": {
    "id": "crdCkOKmFmPY"
   },
   "source": [
    "#### Modèle XGBClassifier"
   ]
  },
  {
   "cell_type": "code",
   "execution_count": 25,
   "metadata": {
    "id": "w2BmyMIvFmPY",
    "outputId": "f8632590-fae6-4694-fe5b-d9fdfdd60a9a"
   },
   "outputs": [
    {
     "name": "stdout",
     "output_type": "stream",
     "text": [
      "[0.16691127 0.07198627 0.05264178 0.0067758  0.01524472 0.01524029\n",
      " 0.00639255 0.00349256 0.00353986 0.00520963 0.00273695 0.0037683\n",
      " 0.00518285 0.00311679 0.00599474 0.01371715 0.0039551  0.00591151\n",
      " 0.10173599 0.00702923 0.00321262 0.03087499 0.00550285 0.00444891\n",
      " 0.00311148 0.25405744 0.09501792 0.0525703  0.01112387 0.016412\n",
      " 0.00560066 0.00569687 0.00844243 0.00334434]\n",
      " \n",
      "XGB Classifier Accuracy: 0.81\n",
      "XGB Classifier f1-score: 0.84\n",
      "\n",
      "Classification Report:\n",
      "              precision    recall  f1-score   support\n",
      "\n",
      "           0       0.77      0.79      0.78     38091\n",
      "           1       0.84      0.83      0.84     53195\n",
      "\n",
      "    accuracy                           0.81     91286\n",
      "   macro avg       0.81      0.81      0.81     91286\n",
      "weighted avg       0.81      0.81      0.81     91286\n",
      "\n"
     ]
    }
   ],
   "source": [
    "# XGBClassifier\n",
    "\n",
    "# Initialiser et entraîner le modèle XGBClassifier\n",
    "xgb_clf = XGBClassifier(use_label_encoder=False)\n",
    "xgb_clf.fit(X_train, y_train)\n",
    "\n",
    "# Prédire les valeurs pour l'ensemble de test\n",
    "y_pred_xgb = xgb_clf.predict(X_test)\n",
    "\n",
    "# Importances des variables\n",
    "importances_model_xgb = xgb_clf.feature_importances_\n",
    "print(importances_model_xgb)\n",
    "\n",
    "# Évaluer le modèle\n",
    "accuracy_xgb = accuracy_score(y_test, y_pred_xgb)\n",
    "report_xgb = classification_report(y_test, y_pred_xgb)\n",
    "f1_xgb = f1_score(y_test, y_pred_xgb, average='binary') \n",
    "\n",
    "# Afficher les résultats\n",
    "print(\" \")\n",
    "print(f\"XGB Classifier Accuracy: {accuracy_xgb:.2f}\")\n",
    "print(f\"XGB Classifier f1-score: {f1_xgb:.2f}\")\n",
    "print(\"\\nClassification Report:\")\n",
    "print(report_xgb)"
   ]
  },
  {
   "cell_type": "markdown",
   "metadata": {},
   "source": [
    "##### Matrice de confusion"
   ]
  },
  {
   "cell_type": "code",
   "execution_count": 26,
   "metadata": {},
   "outputs": [
    {
     "name": "stdout",
     "output_type": "stream",
     "text": [
      "Matrice de confusion :\n",
      " [[29941  8150]\n",
      " [ 8851 44344]]\n"
     ]
    },
    {
     "data": {
      "image/png": "[encoded data removed]",
      "text/plain": [
       "<Figure size 800x600 with 2 Axes>"
      ]
     },
     "metadata": {},
     "output_type": "display_data"
    }
   ],
   "source": [
    "cm_xgb = confusion_matrix(y_test, y_pred_xgb)\n",
    "print(\"Matrice de confusion :\\n\", cm_xgb)\n",
    "\n",
    "row_sums_xgb = cm_xgb.sum(axis = 1)\n",
    "cm_percent_xgb = (cm_xgb.T / row_sums_xgb).T * 100\n",
    "\n",
    "plt.figure(figsize=(8, 6))\n",
    "sns.heatmap(cm_percent_xgb, annot = True, fmt = \".2f\", cmap = \"Blues\")\n",
    "plt.xlabel('Classe prédite')\n",
    "plt.ylabel('Classe réelle')\n",
    "plt.title('Matrice de confusion avec pourcentages')\n",
    "plt.show();"
   ]
  },
  {
   "cell_type": "markdown",
   "metadata": {},
   "source": [
    "##### Importances features"
   ]
  },
  {
   "cell_type": "code",
   "execution_count": 62,
   "metadata": {},
   "outputs": [
    {
     "data": {
      "image/png": "[encoded data removed]",
      "text/plain": [
       "<Figure size 1000x600 with 1 Axes>"
      ]
     },
     "metadata": {},
     "output_type": "display_data"
    }
   ],
   "source": [
    "features = X_train.columns\n",
    "\n",
    "importances_xgb = xgb_clf.feature_importances_\n",
    "indices_xgb = np.argsort(importances_xgb)\n",
    "\n",
    "plt.figure(figsize=(10, 6))\n",
    "plt.title(\"Importance des Variables\")\n",
    "plt.barh(range(len(indices_xgb)), importances_xgb[indices_xgb], align=\"center\")\n",
    "plt.yticks(range(len(indices_xgb)), [features[i] for i in indices_xgb])\n",
    "plt.xlabel('Importance Relative')\n",
    "plt.show()"
   ]
  },
  {
   "cell_type": "markdown",
   "metadata": {},
   "source": [
    "##### Sauvegarde du modèle"
   ]
  },
  {
   "cell_type": "code",
   "execution_count": 27,
   "metadata": {},
   "outputs": [
    {
     "data": {
      "text/plain": [
       "['models_saved/GBClassifier_model.joblib']"
      ]
     },
     "execution_count": 27,
     "metadata": {},
     "output_type": "execute_result"
    }
   ],
   "source": [
    "# Sauvegarder le modèle\n",
    "joblib.dump(xgb_clf, 'models_saved/GBClassifier_model.joblib')"
   ]
  },
  {
   "cell_type": "markdown",
   "metadata": {
    "id": "srC9xJjwFmPY"
   },
   "source": [
    "#### Modèle LGBMClassifier"
   ]
  },
  {
   "cell_type": "code",
   "execution_count": 28,
   "metadata": {
    "id": "iueD1w-TFmPY",
    "outputId": "7649e790-3075-4496-f5bf-9f14a76659eb"
   },
   "outputs": [
    {
     "name": "stdout",
     "output_type": "stream",
     "text": [
      "[LightGBM] [Warning] Unknown parameter: eval_metric\n",
      "[LightGBM] [Warning] Unknown parameter: use_label_encoder\n",
      "[LightGBM] [Warning] Unknown parameter: eval_metric\n",
      "[LightGBM] [Warning] Unknown parameter: use_label_encoder\n",
      "[LightGBM] [Info] Number of positive: 212781, number of negative: 152361\n",
      "[LightGBM] [Info] Auto-choosing row-wise multi-threading, the overhead of testing was 0.046199 seconds.\n",
      "You can set `force_row_wise=true` to remove the overhead.\n",
      "And if memory is not enough, you can set `force_col_wise=true`.\n",
      "[LightGBM] [Info] Total Bins 1058\n",
      "[LightGBM] [Info] Number of data points in the train set: 365142, number of used features: 34\n",
      "[LightGBM] [Info] [binary:BoostFromScore]: pavg=0.582735 -> initscore=0.334011\n",
      "[LightGBM] [Info] Start training from score 0.334011\n",
      "[LightGBM] [Warning] Unknown parameter: eval_metric\n",
      "[LightGBM] [Warning] Unknown parameter: use_label_encoder\n",
      "[133  92  75  54  26  83  74  15  21  19   6  23  34   8  56  89  25 120\n",
      "  31  75   5 313 113 117   7 231 120 320 237 223  47 104  74  30]\n",
      " \n",
      "LGBM Classifier Accuracy: 0.81\n",
      "LGBM Classifier f1-score: 0.84\n",
      "\n",
      "Classification Report:\n",
      "              precision    recall  f1-score   support\n",
      "\n",
      "           0       0.77      0.78      0.77     38091\n",
      "           1       0.84      0.83      0.84     53195\n",
      "\n",
      "    accuracy                           0.81     91286\n",
      "   macro avg       0.80      0.81      0.80     91286\n",
      "weighted avg       0.81      0.81      0.81     91286\n",
      "\n"
     ]
    }
   ],
   "source": [
    "# LGBMClassifier\n",
    "\n",
    "# Initialiser et entraîner le modèle LightGBM\n",
    "lig_clf = LGBMClassifier(use_label_encoder=False, eval_metric='logloss')\n",
    "lig_clf.fit(X_train, y_train)\n",
    "\n",
    "# Prédire les valeurs pour l'ensemble de test\n",
    "y_pred_lgbm = lig_clf.predict(X_test)\n",
    "\n",
    "# Importances des variables\n",
    "importances_model_lgbm = lig_clf.feature_importances_\n",
    "print(importances_model_lgbm)\n",
    "\n",
    "# Évaluer le modèle\n",
    "accuracy_lgbm = accuracy_score(y_test, y_pred_lgbm)\n",
    "report_lgbm = classification_report(y_test, y_pred_lgbm)\n",
    "f1_lgbm = f1_score(y_test, y_pred_lgbm, average='binary') \n",
    "\n",
    "# Afficher les résultats\n",
    "print(\" \")\n",
    "print(f\"LGBM Classifier Accuracy: {accuracy_lgbm:.2f}\")\n",
    "print(f\"LGBM Classifier f1-score: {f1_lgbm:.2f}\")\n",
    "print(\"\\nClassification Report:\")\n",
    "print(report_lgbm)"
   ]
  },
  {
   "cell_type": "markdown",
   "metadata": {},
   "source": [
    "##### Matrice de confusion"
   ]
  },
  {
   "cell_type": "code",
   "execution_count": 29,
   "metadata": {},
   "outputs": [
    {
     "name": "stdout",
     "output_type": "stream",
     "text": [
      "Matrice de confusion :\n",
      " [[29677  8414]\n",
      " [ 8981 44214]]\n"
     ]
    },
    {
     "data": {
      "image/png": "[encoded data removed]",
      "text/plain": [
       "<Figure size 800x600 with 2 Axes>"
      ]
     },
     "metadata": {},
     "output_type": "display_data"
    }
   ],
   "source": [
    "cm_lgbm = confusion_matrix(y_test, y_pred_lgbm)\n",
    "print(\"Matrice de confusion :\\n\", cm_lgbm)\n",
    "\n",
    "row_sums_lgbm = cm_lgbm.sum(axis = 1)\n",
    "cm_percent_lgbm = (cm_lgbm.T / row_sums_lgbm).T * 100\n",
    "\n",
    "plt.figure(figsize=(8, 6))\n",
    "sns.heatmap(cm_percent_lgbm, annot = True, fmt = \".2f\", cmap = \"Blues\")\n",
    "plt.xlabel('Classe prédite')\n",
    "plt.ylabel('Classe réelle')\n",
    "plt.title('Matrice de confusion avec pourcentages')\n",
    "plt.show();"
   ]
  },
  {
   "cell_type": "markdown",
   "metadata": {},
   "source": [
    "##### Importances features"
   ]
  },
  {
   "cell_type": "code",
   "execution_count": 64,
   "metadata": {},
   "outputs": [
    {
     "data": {
      "image/png": "[encoded data removed]",
      "text/plain": [
       "<Figure size 1000x600 with 1 Axes>"
      ]
     },
     "metadata": {},
     "output_type": "display_data"
    }
   ],
   "source": [
    "features = X_train.columns\n",
    "\n",
    "importances_lgbm = lig_clf.feature_importances_\n",
    "indices_lgbm = np.argsort(importances_lgbm)\n",
    "\n",
    "plt.figure(figsize=(10, 6))\n",
    "plt.title(\"Importance des Variables\")\n",
    "plt.barh(range(len(indices_lgbm)), importances_lgbm[indices_lgbm], align=\"center\")\n",
    "plt.yticks(range(len(indices_lgbm)), [features[i] for i in indices_lgbm])\n",
    "plt.xlabel('Importance Relative')\n",
    "plt.show()"
   ]
  },
  {
   "cell_type": "markdown",
   "metadata": {},
   "source": [
    "##### Sauvegarde du modèle"
   ]
  },
  {
   "cell_type": "code",
   "execution_count": 30,
   "metadata": {},
   "outputs": [
    {
     "data": {
      "text/plain": [
       "['models_saved/LGBMClassifier_model.joblib']"
      ]
     },
     "execution_count": 30,
     "metadata": {},
     "output_type": "execute_result"
    }
   ],
   "source": [
    "# Sauvegarder le modèle\n",
    "joblib.dump(lig_clf, 'models_saved/LGBMClassifier_model.joblib')"
   ]
  },
  {
   "cell_type": "markdown",
   "metadata": {
    "id": "W6gTqBv6FmPY"
   },
   "source": [
    "#### Modèle KNeighborsClassifier"
   ]
  },
  {
   "cell_type": "code",
   "execution_count": 32,
   "metadata": {
    "id": "rMuRq4E9FmPY",
    "outputId": "1c86528e-c813-40b4-bfc4-c616649c7811"
   },
   "outputs": [
    {
     "name": "stdout",
     "output_type": "stream",
     "text": [
      " \n",
      "KNeighbors Classifier Accuracy: 0.65\n",
      "KNeighbors Classifier f1-score: 0.69\n",
      "\n",
      "Classification Report:\n",
      "              precision    recall  f1-score   support\n",
      "\n",
      "           0       0.58      0.62      0.60     38091\n",
      "           1       0.71      0.67      0.69     53195\n",
      "\n",
      "    accuracy                           0.65     91286\n",
      "   macro avg       0.64      0.65      0.64     91286\n",
      "weighted avg       0.66      0.65      0.65     91286\n",
      "\n"
     ]
    }
   ],
   "source": [
    "# KNeighborsClassifier\n",
    "\n",
    "# Initialiser et entraîner le modèle KNeighborsClassifier\n",
    "knn_clf = KNeighborsClassifier(n_neighbors=3)\n",
    "knn_clf.fit(X_train, y_train)\n",
    "\n",
    "# Prédire les valeurs pour l'ensemble de test\n",
    "y_pred_knn = knn_clf.predict(X_test)\n",
    "\n",
    "# Évaluer le modèle\n",
    "accuracy_knn = accuracy_score(y_test, y_pred_knn)\n",
    "report_knn = classification_report(y_test, y_pred_knn)\n",
    "f1_knn = f1_score(y_test, y_pred_knn, average='binary')\n",
    "\n",
    "# Afficher les résultats\n",
    "print(\" \")\n",
    "print(f\"KNeighbors Classifier Accuracy: {accuracy_knn:.2f}\")\n",
    "print(f\"KNeighbors Classifier f1-score: {f1_knn:.2f}\")\n",
    "print(\"\\nClassification Report:\")\n",
    "print(report_knn)"
   ]
  },
  {
   "cell_type": "markdown",
   "metadata": {},
   "source": [
    "##### Matrice de confusion"
   ]
  },
  {
   "cell_type": "code",
   "execution_count": 33,
   "metadata": {},
   "outputs": [
    {
     "name": "stdout",
     "output_type": "stream",
     "text": [
      "Matrice de confusion :\n",
      " [[23679 14412]\n",
      " [17492 35703]]\n"
     ]
    },
    {
     "data": {
      "image/png": "[encoded data removed]",
      "text/plain": [
       "<Figure size 800x600 with 2 Axes>"
      ]
     },
     "metadata": {},
     "output_type": "display_data"
    }
   ],
   "source": [
    "cm_knn = confusion_matrix(y_test, y_pred_knn)\n",
    "print(\"Matrice de confusion :\\n\", cm_knn)\n",
    "\n",
    "row_sums_knn = cm_knn.sum(axis = 1)\n",
    "cm_percent_knn = (cm_knn.T / row_sums_knn).T * 100\n",
    "\n",
    "plt.figure(figsize=(8, 6))\n",
    "sns.heatmap(cm_percent_knn, annot = True, fmt = \".2f\", cmap = \"Blues\")\n",
    "plt.xlabel('Classe prédite')\n",
    "plt.ylabel('Classe réelle')\n",
    "plt.title('Matrice de confusion avec pourcentages')\n",
    "plt.show();"
   ]
  },
  {
   "cell_type": "markdown",
   "metadata": {},
   "source": [
    "##### Sauvegarde du modèle"
   ]
  },
  {
   "cell_type": "code",
   "execution_count": 34,
   "metadata": {},
   "outputs": [
    {
     "data": {
      "text/plain": [
       "['models_saved/KNeighborsClassifier_model.joblib']"
      ]
     },
     "execution_count": 34,
     "metadata": {},
     "output_type": "execute_result"
    }
   ],
   "source": [
    "# Sauvegarder le modèle\n",
    "joblib.dump(knn_clf, 'models_saved/KNeighborsClassifier_model.joblib')"
   ]
  },
  {
   "cell_type": "markdown",
   "metadata": {
    "id": "4nqebVYLFmPY"
   },
   "source": [
    "### Cross Validation"
   ]
  },
  {
   "cell_type": "code",
   "execution_count": 35,
   "metadata": {
    "id": "zRPNONVxFmPY",
    "outputId": "a7fcc331-19a6-4a92-8c50-7f9b90d47ae1"
   },
   "outputs": [
    {
     "name": "stdout",
     "output_type": "stream",
     "text": [
      "Scores de validation croisée :  [0.81195142 0.81292363 0.81064797 0.81361943 0.81194884]\n",
      "Score moyen :  0.812218259092267\n",
      "Ecart type  :  0.0010070192798797518\n"
     ]
    }
   ],
   "source": [
    "# Cross validation - XGBClassifier - KFold = 5\n",
    "\n",
    "# Initialisation du modèle\n",
    "model_xgbc = XGBClassifier()\n",
    "\n",
    "# Configuration de la validation croisée K-Fold\n",
    "kf_xgbc = KFold(n_splits=5, shuffle=True, random_state=42)\n",
    "\n",
    "# Évaluation du modèle avec la validation croisée\n",
    "scores_xgbc = cross_val_score(model_xgbc, X_train, y_train, cv=kf_xgbc)\n",
    "std_score_xgbc = np.std(scores_xgbc)    # Écart-type des scores\n",
    "print(\"Scores de validation croisée : \", scores_xgbc)\n",
    "print(\"Score moyen : \", scores_xgbc.mean())\n",
    "print(\"Ecart type  : \", std_score_xgbc)"
   ]
  },
  {
   "cell_type": "code",
   "execution_count": 34,
   "metadata": {
    "id": "yaH59jcmFmPY",
    "outputId": "e6b9428f-38e5-493f-a138-1d7c23b0b7b7"
   },
   "outputs": [
    {
     "name": "stdout",
     "output_type": "stream",
     "text": [
      "Scores de validation croisée :  [0.78783165 0.78836842 0.78789738 0.78666813 0.78867284]\n",
      "Score moyen :  0.787887683414686\n",
      "Ecart type moyen :  0.0006838318929365241\n"
     ]
    }
   ],
   "source": [
    "# Cross validation - AdaBoostClassifier\n",
    "\n",
    "# Initialisation du modèle\n",
    "model_ada = AdaBoostClassifier()\n",
    "\n",
    "# Configuration de la validation croisée K-Fold\n",
    "kf_ada = KFold(n_splits=5, shuffle=True, random_state=42)\n",
    "\n",
    "# Évaluation du modèle avec la validation croisée\n",
    "scores_ada = cross_val_score(model_ada, X_train, y_train, cv=kf_ada)\n",
    "std_score_ada = np.std(scores_ada)    # Écart-type des scores\n",
    "print(\"Scores de validation croisée : \", scores_ada)\n",
    "print(\"Score moyen : \", scores_ada.mean())\n",
    "print(\"Ecart type moyen : \", std_score_ada)"
   ]
  },
  {
   "cell_type": "code",
   "execution_count": 36,
   "metadata": {
    "id": "pwtOS23vFmPY",
    "outputId": "aa935c5c-dfc7-4214-cbbb-555ef6b78d9a"
   },
   "outputs": [
    {
     "name": "stdout",
     "output_type": "stream",
     "text": [
      "Scores de validation croisée :  [0.80643306 0.80617289 0.80482829 0.80855288 0.80775867]\n",
      "Score moyen :  0.8067491575670946\n",
      "Ecart type moyen :  0.0012957076829876002\n"
     ]
    }
   ],
   "source": [
    "# Cross validation - ExtraTreesClassifier\n",
    "\n",
    "# Initialisation du modèle\n",
    "model_et = ExtraTreesClassifier()\n",
    "\n",
    "# Configuration de la validation croisée K-Fold\n",
    "kf_et = KFold(n_splits=5, shuffle=True, random_state=42)\n",
    "\n",
    "# Évaluation du modèle avec la validation croisée\n",
    "scores_et = cross_val_score(model_et, X_train, y_train, cv=kf_et)\n",
    "std_score_et = np.std(scores_et)    # Écart-type des scores\n",
    "print(\"Scores de validation croisée : \", scores_et)\n",
    "print(\"Score moyen : \", scores_et.mean())\n",
    "print(\"Ecart type moyen : \", std_score_et)"
   ]
  },
  {
   "cell_type": "code",
   "execution_count": 37,
   "metadata": {
    "id": "W_bs-vtkFmPY",
    "outputId": "655d6e09-9add-4351-ddac-7faec96a266b"
   },
   "outputs": [
    {
     "name": "stdout",
     "output_type": "stream",
     "text": [
      "[LightGBM] [Info] Number of positive: 169997, number of negative: 122116\n",
      "[LightGBM] [Info] Auto-choosing row-wise multi-threading, the overhead of testing was 0.040439 seconds.\n",
      "You can set `force_row_wise=true` to remove the overhead.\n",
      "And if memory is not enough, you can set `force_col_wise=true`.\n",
      "[LightGBM] [Info] Total Bins 1056\n",
      "[LightGBM] [Info] Number of data points in the train set: 292113, number of used features: 34\n",
      "[LightGBM] [Info] [binary:BoostFromScore]: pavg=0.581956 -> initscore=0.330809\n",
      "[LightGBM] [Info] Start training from score 0.330809\n",
      "[LightGBM] [Info] Number of positive: 170178, number of negative: 121935\n",
      "[LightGBM] [Info] Auto-choosing row-wise multi-threading, the overhead of testing was 0.029369 seconds.\n",
      "You can set `force_row_wise=true` to remove the overhead.\n",
      "And if memory is not enough, you can set `force_col_wise=true`.\n",
      "[LightGBM] [Info] Total Bins 1058\n",
      "[LightGBM] [Info] Number of data points in the train set: 292113, number of used features: 34\n",
      "[LightGBM] [Info] [binary:BoostFromScore]: pavg=0.582576 -> initscore=0.333357\n",
      "[LightGBM] [Info] Start training from score 0.333357\n",
      "[LightGBM] [Info] Number of positive: 170193, number of negative: 121921\n",
      "[LightGBM] [Info] Auto-choosing row-wise multi-threading, the overhead of testing was 0.038150 seconds.\n",
      "You can set `force_row_wise=true` to remove the overhead.\n",
      "And if memory is not enough, you can set `force_col_wise=true`.\n",
      "[LightGBM] [Info] Total Bins 1056\n",
      "[LightGBM] [Info] Number of data points in the train set: 292114, number of used features: 34\n",
      "[LightGBM] [Info] [binary:BoostFromScore]: pavg=0.582625 -> initscore=0.333560\n",
      "[LightGBM] [Info] Start training from score 0.333560\n",
      "[LightGBM] [Info] Number of positive: 170526, number of negative: 121588\n",
      "[LightGBM] [Info] Auto-choosing col-wise multi-threading, the overhead of testing was 0.095348 seconds.\n",
      "You can set `force_col_wise=true` to remove the overhead.\n",
      "[LightGBM] [Info] Total Bins 1057\n",
      "[LightGBM] [Info] Number of data points in the train set: 292114, number of used features: 34\n",
      "[LightGBM] [Info] [binary:BoostFromScore]: pavg=0.583765 -> initscore=0.338249\n",
      "[LightGBM] [Info] Start training from score 0.338249\n",
      "[LightGBM] [Info] Number of positive: 170230, number of negative: 121884\n",
      "[LightGBM] [Info] Auto-choosing row-wise multi-threading, the overhead of testing was 0.040829 seconds.\n",
      "You can set `force_row_wise=true` to remove the overhead.\n",
      "And if memory is not enough, you can set `force_col_wise=true`.\n",
      "[LightGBM] [Info] Total Bins 1058\n",
      "[LightGBM] [Info] Number of data points in the train set: 292114, number of used features: 34\n",
      "[LightGBM] [Info] [binary:BoostFromScore]: pavg=0.582752 -> initscore=0.334081\n",
      "[LightGBM] [Info] Start training from score 0.334081\n",
      "Scores de validation croisée :  [0.80750113 0.80922647 0.80697815 0.81007285 0.80800515]\n",
      "Score moyen :  0.808356748842632\n",
      "Ecart type moyen :  0.0011364568708512185\n"
     ]
    }
   ],
   "source": [
    "# Cross validation - LGBMClassifier\n",
    "\n",
    "# Initialisation du modèle\n",
    "model_lgbm = LGBMClassifier()\n",
    "\n",
    "# Configuration de la validation croisée K-Fold\n",
    "kf_lgbm = KFold(n_splits=5, shuffle=True, random_state=42)\n",
    "\n",
    "# Évaluation du modèle avec la validation croisée\n",
    "scores_lgbm = cross_val_score(model_lgbm, X_train, y_train, cv=kf_lgbm)\n",
    "std_score_lgbm = np.std(scores_lgbm)    # Écart-type des scores\n",
    "print(\"Scores de validation croisée : \", scores_lgbm)\n",
    "print(\"Score moyen : \", scores_lgbm.mean())\n",
    "print(\"Ecart type moyen : \", std_score_lgbm)\n"
   ]
  },
  {
   "cell_type": "markdown",
   "metadata": {
    "id": "NToNRCt1FmPZ"
   },
   "source": [
    "### Comparaison des scores pour chaque modèle"
   ]
  },
  {
   "cell_type": "code",
   "execution_count": 48,
   "metadata": {},
   "outputs": [
    {
     "name": "stdout",
     "output_type": "stream",
     "text": [
      "[LightGBM] [Warning] Unknown parameter: eval_metric\n",
      "[LightGBM] [Warning] Unknown parameter: use_label_encoder\n"
     ]
    },
    {
     "data": {
      "text/html": [
       "<div>\n",
       "<style scoped>\n",
       "    .dataframe tbody tr th:only-of-type {\n",
       "        vertical-align: middle;\n",
       "    }\n",
       "\n",
       "    .dataframe tbody tr th {\n",
       "        vertical-align: top;\n",
       "    }\n",
       "\n",
       "    .dataframe thead th {\n",
       "        text-align: right;\n",
       "    }\n",
       "</style>\n",
       "<table border=\"1\" class=\"dataframe\">\n",
       "  <thead>\n",
       "    <tr style=\"text-align: right;\">\n",
       "      <th></th>\n",
       "      <th>Model</th>\n",
       "      <th>Accuracy</th>\n",
       "      <th>Ecart_type</th>\n",
       "      <th>f1_score</th>\n",
       "      <th>recall_score</th>\n",
       "      <th>precision_score</th>\n",
       "    </tr>\n",
       "  </thead>\n",
       "  <tbody>\n",
       "    <tr>\n",
       "      <th>0</th>\n",
       "      <td>AdaBoostClassifier</td>\n",
       "      <td>0.79</td>\n",
       "      <td>0.50</td>\n",
       "      <td>0.81</td>\n",
       "      <td>0.79</td>\n",
       "      <td>0.84</td>\n",
       "    </tr>\n",
       "    <tr>\n",
       "      <th>1</th>\n",
       "      <td>ExtraTreesClassifier</td>\n",
       "      <td>0.81</td>\n",
       "      <td>0.50</td>\n",
       "      <td>0.83</td>\n",
       "      <td>0.82</td>\n",
       "      <td>0.85</td>\n",
       "    </tr>\n",
       "    <tr>\n",
       "      <th>2</th>\n",
       "      <td>XGBClassifier</td>\n",
       "      <td>0.81</td>\n",
       "      <td>0.49</td>\n",
       "      <td>0.84</td>\n",
       "      <td>0.83</td>\n",
       "      <td>0.84</td>\n",
       "    </tr>\n",
       "    <tr>\n",
       "      <th>3</th>\n",
       "      <td>LGBMClassifier</td>\n",
       "      <td>0.81</td>\n",
       "      <td>0.49</td>\n",
       "      <td>0.84</td>\n",
       "      <td>0.83</td>\n",
       "      <td>0.84</td>\n",
       "    </tr>\n",
       "    <tr>\n",
       "      <th>4</th>\n",
       "      <td>KNeighborsClassifier</td>\n",
       "      <td>0.65</td>\n",
       "      <td>0.50</td>\n",
       "      <td>0.69</td>\n",
       "      <td>0.67</td>\n",
       "      <td>0.71</td>\n",
       "    </tr>\n",
       "    <tr>\n",
       "      <th>5</th>\n",
       "      <td>Random Forest Classifier</td>\n",
       "      <td>0.81</td>\n",
       "      <td>0.50</td>\n",
       "      <td>0.84</td>\n",
       "      <td>0.83</td>\n",
       "      <td>0.85</td>\n",
       "    </tr>\n",
       "  </tbody>\n",
       "</table>\n",
       "</div>"
      ],
      "text/plain": [
       "                      Model  Accuracy  Ecart_type  f1_score  recall_score  \\\n",
       "0        AdaBoostClassifier      0.79        0.50      0.81          0.79   \n",
       "1      ExtraTreesClassifier      0.81        0.50      0.83          0.82   \n",
       "2             XGBClassifier      0.81        0.49      0.84          0.83   \n",
       "3            LGBMClassifier      0.81        0.49      0.84          0.83   \n",
       "4      KNeighborsClassifier      0.65        0.50      0.69          0.67   \n",
       "5  Random Forest Classifier      0.81        0.50      0.84          0.83   \n",
       "\n",
       "   precision_score  \n",
       "0             0.84  \n",
       "1             0.85  \n",
       "2             0.84  \n",
       "3             0.84  \n",
       "4             0.71  \n",
       "5             0.85  "
      ]
     },
     "execution_count": 48,
     "metadata": {},
     "output_type": "execute_result"
    }
   ],
   "source": [
    "ada_model = joblib.load('models_saved/best_estimator_ada_model.joblib')\n",
    "et_model = joblib.load('Brouillons/extra_tree_classifier_model.joblib')\n",
    "xgbc_model = joblib.load('models_saved/GBClassifier_model.joblib')\n",
    "lgbm_model = joblib.load('models_saved/LGBMClassifier_model.joblib')\n",
    "knn_model = joblib.load('models_saved/KNeighborsClassifier_model.joblib')\n",
    "rf_model = joblib.load('Brouillons/rf_model.joblib')\n",
    "\n",
    "models = {\n",
    "    'AdaBoostClassifier': ada_model,\n",
    "    'ExtraTreesClassifier': et_model,\n",
    "    'XGBClassifier': xgbc_model,\n",
    "    'LGBMClassifier' : lgbm_model,\n",
    "   'KNeighborsClassifier' : knn_model,\n",
    "   'Random Forest Classifier' : rf_model\n",
    "   }\n",
    "\n",
    "models = {\n",
    "    'AdaBoostClassifier': ada_model,\n",
    "    'ExtraTreesClassifier': et_model,\n",
    "    'XGBClassifier': xgbc_model,\n",
    "    'LGBMClassifier': lgbm_model,\n",
    "    'KNeighborsClassifier': knn_model,\n",
    "    'Random Forest Classifier': rf_model\n",
    "}\n",
    "\n",
    "# Liste pour stocker les résultats\n",
    "results = []\n",
    "\n",
    "# Boucle sur les modèles\n",
    "for name, model in models.items():\n",
    "    if name in [\"AdaBoostClassifier\", \"Random Forest Classifier\", \"ExtraTreesClassifier\"]:\n",
    "        # Standardisation des données pour ces modèles\n",
    "        scaler = StandardScaler()\n",
    "        X_train_scaled = scaler.fit_transform(X_train)\n",
    "        X_test_scaled = scaler.transform(X_test)\n",
    "        y_pred = model.predict(X_test_scaled)\n",
    "    else:\n",
    "        # Pas de standardisation pour les autres modèles\n",
    "        y_pred = model.predict(X_test)\n",
    "    \n",
    "    # Calcul des métriques\n",
    "    results.append({\n",
    "        'Model': name,\n",
    "        'Accuracy': accuracy_score(y_test, y_pred),\n",
    "        'Ecart_type': np.std(y_pred),\n",
    "        'f1_score': f1_score(y_test, y_pred),\n",
    "        'recall_score': recall_score(y_test, y_pred),\n",
    "        'precision_score': precision_score(y_test, y_pred)\n",
    "    })\n",
    "\n",
    "# Conversion des résultats en DataFrame\n",
    "results_df = pd.DataFrame(results)\n",
    "\n",
    "# Afficher les résultats\n",
    "results_df "
   ]
  },
  {
   "cell_type": "markdown",
   "metadata": {
    "id": "-TPd9vUUFmPZ"
   },
   "source": [
    "### Analyse des résultats"
   ]
  },
  {
   "cell_type": "code",
   "execution_count": 39,
   "metadata": {},
   "outputs": [
    {
     "name": "stdout",
     "output_type": "stream",
     "text": [
      "[LightGBM] [Warning] Unknown parameter: eval_metric\n",
      "[LightGBM] [Warning] Unknown parameter: use_label_encoder\n"
     ]
    }
   ],
   "source": [
    "y_pred_ada = ada_model.predict(X_test)\n",
    "y_pred_et = et_model.predict(X_test)\n",
    "y_pred_xgbc = xgbc_model.predict(X_test)\n",
    "y_pred_lgbm = lgbm_model.predict(X_test)\n",
    "y_pred_knn = knn_model.predict(X_test)\n",
    "y_pred_rf = rf_model.predict(X_test)"
   ]
  },
  {
   "cell_type": "code",
   "execution_count": 49,
   "metadata": {
    "id": "2iAYQnXWFmPZ"
   },
   "outputs": [
    {
     "name": "stdout",
     "output_type": "stream",
     "text": [
      "(91286, 41)\n"
     ]
    },
    {
     "data": {
      "text/html": [
       "<div>\n",
       "<style scoped>\n",
       "    .dataframe tbody tr th:only-of-type {\n",
       "        vertical-align: middle;\n",
       "    }\n",
       "\n",
       "    .dataframe tbody tr th {\n",
       "        vertical-align: top;\n",
       "    }\n",
       "\n",
       "    .dataframe thead th {\n",
       "        text-align: right;\n",
       "    }\n",
       "</style>\n",
       "<table border=\"1\" class=\"dataframe\">\n",
       "  <thead>\n",
       "    <tr style=\"text-align: right;\">\n",
       "      <th></th>\n",
       "      <th>place</th>\n",
       "      <th>catu</th>\n",
       "      <th>sexe</th>\n",
       "      <th>trajet</th>\n",
       "      <th>secu1</th>\n",
       "      <th>locp</th>\n",
       "      <th>catr</th>\n",
       "      <th>circ</th>\n",
       "      <th>nbv</th>\n",
       "      <th>vosp</th>\n",
       "      <th>prof</th>\n",
       "      <th>plan</th>\n",
       "      <th>surf</th>\n",
       "      <th>infra</th>\n",
       "      <th>situ</th>\n",
       "      <th>vma</th>\n",
       "      <th>lum</th>\n",
       "      <th>com</th>\n",
       "      <th>agg</th>\n",
       "      <th>int</th>\n",
       "      <th>atm</th>\n",
       "      <th>col</th>\n",
       "      <th>lat</th>\n",
       "      <th>long</th>\n",
       "      <th>senc</th>\n",
       "      <th>catv</th>\n",
       "      <th>obs</th>\n",
       "      <th>obsm</th>\n",
       "      <th>choc</th>\n",
       "      <th>manv</th>\n",
       "      <th>motor</th>\n",
       "      <th>age_group</th>\n",
       "      <th>h_group</th>\n",
       "      <th>weekday</th>\n",
       "      <th>index</th>\n",
       "      <th>gravite</th>\n",
       "      <th>pred_ada</th>\n",
       "      <th>pred_extrTr</th>\n",
       "      <th>pred_xgb</th>\n",
       "      <th>pred_lgbm</th>\n",
       "      <th>pred_knn</th>\n",
       "    </tr>\n",
       "  </thead>\n",
       "  <tbody>\n",
       "    <tr>\n",
       "      <th>0</th>\n",
       "      <td>1</td>\n",
       "      <td>1</td>\n",
       "      <td>2</td>\n",
       "      <td>5</td>\n",
       "      <td>1</td>\n",
       "      <td>0</td>\n",
       "      <td>4</td>\n",
       "      <td>-1</td>\n",
       "      <td>2</td>\n",
       "      <td>0</td>\n",
       "      <td>1</td>\n",
       "      <td>1</td>\n",
       "      <td>1</td>\n",
       "      <td>0</td>\n",
       "      <td>1</td>\n",
       "      <td>50</td>\n",
       "      <td>5</td>\n",
       "      <td>66136</td>\n",
       "      <td>2</td>\n",
       "      <td>2</td>\n",
       "      <td>1</td>\n",
       "      <td>3</td>\n",
       "      <td>42.70</td>\n",
       "      <td>2.89</td>\n",
       "      <td>1</td>\n",
       "      <td>6</td>\n",
       "      <td>0</td>\n",
       "      <td>2</td>\n",
       "      <td>7</td>\n",
       "      <td>1</td>\n",
       "      <td>1</td>\n",
       "      <td>4</td>\n",
       "      <td>2</td>\n",
       "      <td>5</td>\n",
       "      <td>422246</td>\n",
       "      <td>1</td>\n",
       "      <td>1</td>\n",
       "      <td>1</td>\n",
       "      <td>1</td>\n",
       "      <td>1</td>\n",
       "      <td>1</td>\n",
       "    </tr>\n",
       "    <tr>\n",
       "      <th>1</th>\n",
       "      <td>5</td>\n",
       "      <td>2</td>\n",
       "      <td>2</td>\n",
       "      <td>0</td>\n",
       "      <td>1</td>\n",
       "      <td>-1</td>\n",
       "      <td>7</td>\n",
       "      <td>2</td>\n",
       "      <td>4</td>\n",
       "      <td>0</td>\n",
       "      <td>2</td>\n",
       "      <td>1</td>\n",
       "      <td>1</td>\n",
       "      <td>0</td>\n",
       "      <td>1</td>\n",
       "      <td>50</td>\n",
       "      <td>5</td>\n",
       "      <td>13215</td>\n",
       "      <td>2</td>\n",
       "      <td>1</td>\n",
       "      <td>1</td>\n",
       "      <td>3</td>\n",
       "      <td>43.37</td>\n",
       "      <td>5.35</td>\n",
       "      <td>0</td>\n",
       "      <td>3</td>\n",
       "      <td>0</td>\n",
       "      <td>2</td>\n",
       "      <td>7</td>\n",
       "      <td>1</td>\n",
       "      <td>1</td>\n",
       "      <td>6</td>\n",
       "      <td>1</td>\n",
       "      <td>2</td>\n",
       "      <td>176315</td>\n",
       "      <td>1</td>\n",
       "      <td>1</td>\n",
       "      <td>1</td>\n",
       "      <td>1</td>\n",
       "      <td>1</td>\n",
       "      <td>1</td>\n",
       "    </tr>\n",
       "    <tr>\n",
       "      <th>2</th>\n",
       "      <td>1</td>\n",
       "      <td>1</td>\n",
       "      <td>1</td>\n",
       "      <td>4</td>\n",
       "      <td>1</td>\n",
       "      <td>-1</td>\n",
       "      <td>1</td>\n",
       "      <td>1</td>\n",
       "      <td>2</td>\n",
       "      <td>0</td>\n",
       "      <td>1</td>\n",
       "      <td>3</td>\n",
       "      <td>1</td>\n",
       "      <td>0</td>\n",
       "      <td>1</td>\n",
       "      <td>80</td>\n",
       "      <td>1</td>\n",
       "      <td>69283</td>\n",
       "      <td>1</td>\n",
       "      <td>1</td>\n",
       "      <td>1</td>\n",
       "      <td>5</td>\n",
       "      <td>45.67</td>\n",
       "      <td>4.94</td>\n",
       "      <td>2</td>\n",
       "      <td>5</td>\n",
       "      <td>0</td>\n",
       "      <td>2</td>\n",
       "      <td>1</td>\n",
       "      <td>13</td>\n",
       "      <td>1</td>\n",
       "      <td>4</td>\n",
       "      <td>6</td>\n",
       "      <td>1</td>\n",
       "      <td>236564</td>\n",
       "      <td>1</td>\n",
       "      <td>1</td>\n",
       "      <td>1</td>\n",
       "      <td>1</td>\n",
       "      <td>0</td>\n",
       "      <td>1</td>\n",
       "    </tr>\n",
       "    <tr>\n",
       "      <th>3</th>\n",
       "      <td>1</td>\n",
       "      <td>1</td>\n",
       "      <td>2</td>\n",
       "      <td>9</td>\n",
       "      <td>1</td>\n",
       "      <td>0</td>\n",
       "      <td>1</td>\n",
       "      <td>3</td>\n",
       "      <td>4</td>\n",
       "      <td>0</td>\n",
       "      <td>1</td>\n",
       "      <td>1</td>\n",
       "      <td>2</td>\n",
       "      <td>0</td>\n",
       "      <td>1</td>\n",
       "      <td>130</td>\n",
       "      <td>3</td>\n",
       "      <td>87014</td>\n",
       "      <td>1</td>\n",
       "      <td>1</td>\n",
       "      <td>2</td>\n",
       "      <td>5</td>\n",
       "      <td>46.09</td>\n",
       "      <td>1.36</td>\n",
       "      <td>2</td>\n",
       "      <td>6</td>\n",
       "      <td>1</td>\n",
       "      <td>0</td>\n",
       "      <td>3</td>\n",
       "      <td>2</td>\n",
       "      <td>1</td>\n",
       "      <td>7</td>\n",
       "      <td>7</td>\n",
       "      <td>6</td>\n",
       "      <td>262438</td>\n",
       "      <td>0</td>\n",
       "      <td>1</td>\n",
       "      <td>1</td>\n",
       "      <td>0</td>\n",
       "      <td>1</td>\n",
       "      <td>0</td>\n",
       "    </tr>\n",
       "    <tr>\n",
       "      <th>4</th>\n",
       "      <td>1</td>\n",
       "      <td>1</td>\n",
       "      <td>1</td>\n",
       "      <td>5</td>\n",
       "      <td>1</td>\n",
       "      <td>0</td>\n",
       "      <td>1</td>\n",
       "      <td>3</td>\n",
       "      <td>1</td>\n",
       "      <td>0</td>\n",
       "      <td>1</td>\n",
       "      <td>1</td>\n",
       "      <td>1</td>\n",
       "      <td>8</td>\n",
       "      <td>1</td>\n",
       "      <td>70</td>\n",
       "      <td>1</td>\n",
       "      <td>67462</td>\n",
       "      <td>1</td>\n",
       "      <td>1</td>\n",
       "      <td>1</td>\n",
       "      <td>2</td>\n",
       "      <td>48.29</td>\n",
       "      <td>7.46</td>\n",
       "      <td>1</td>\n",
       "      <td>3</td>\n",
       "      <td>4</td>\n",
       "      <td>2</td>\n",
       "      <td>1</td>\n",
       "      <td>1</td>\n",
       "      <td>1</td>\n",
       "      <td>3</td>\n",
       "      <td>6</td>\n",
       "      <td>5</td>\n",
       "      <td>182769</td>\n",
       "      <td>1</td>\n",
       "      <td>1</td>\n",
       "      <td>1</td>\n",
       "      <td>1</td>\n",
       "      <td>1</td>\n",
       "      <td>0</td>\n",
       "    </tr>\n",
       "  </tbody>\n",
       "</table>\n",
       "</div>"
      ],
      "text/plain": [
       "   place  catu  sexe  trajet  secu1  locp  catr  circ  nbv  vosp  prof  plan  \\\n",
       "0      1     1     2       5      1     0     4    -1    2     0     1     1   \n",
       "1      5     2     2       0      1    -1     7     2    4     0     2     1   \n",
       "2      1     1     1       4      1    -1     1     1    2     0     1     3   \n",
       "3      1     1     2       9      1     0     1     3    4     0     1     1   \n",
       "4      1     1     1       5      1     0     1     3    1     0     1     1   \n",
       "\n",
       "   surf  infra  situ  vma  lum    com  agg  int  atm  col   lat  long  senc  \\\n",
       "0     1      0     1   50    5  66136    2    2    1    3 42.70  2.89     1   \n",
       "1     1      0     1   50    5  13215    2    1    1    3 43.37  5.35     0   \n",
       "2     1      0     1   80    1  69283    1    1    1    5 45.67  4.94     2   \n",
       "3     2      0     1  130    3  87014    1    1    2    5 46.09  1.36     2   \n",
       "4     1      8     1   70    1  67462    1    1    1    2 48.29  7.46     1   \n",
       "\n",
       "   catv  obs  obsm  choc  manv  motor  age_group  h_group  weekday   index  \\\n",
       "0     6    0     2     7     1      1          4        2        5  422246   \n",
       "1     3    0     2     7     1      1          6        1        2  176315   \n",
       "2     5    0     2     1    13      1          4        6        1  236564   \n",
       "3     6    1     0     3     2      1          7        7        6  262438   \n",
       "4     3    4     2     1     1      1          3        6        5  182769   \n",
       "\n",
       "   gravite  pred_ada  pred_extrTr  pred_xgb  pred_lgbm  pred_knn  \n",
       "0        1         1            1         1          1         1  \n",
       "1        1         1            1         1          1         1  \n",
       "2        1         1            1         1          0         1  \n",
       "3        0         1            1         0          1         0  \n",
       "4        1         1            1         1          1         0  "
      ]
     },
     "execution_count": 49,
     "metadata": {},
     "output_type": "execute_result"
    }
   ],
   "source": [
    "# création d'un df pour ajouter les prédictions au dataset\n",
    "\n",
    "df_filtered = df_test.iloc[:len(y_test)]\n",
    "\n",
    "df_filtered['gravite'] = df_test['grav']\n",
    "df_filtered = df_filtered.drop(['grav'], axis=1)\n",
    "\n",
    "df_filtered['pred_ada'] = y_pred_ada\n",
    "df_filtered['pred_extrTr'] = y_pred_et\n",
    "df_filtered['pred_xgb'] = y_pred_xgbc\n",
    "df_filtered['pred_lgbm'] = y_pred_lgbm\n",
    "df_filtered['pred_knn'] = y_pred_knn\n",
    "print(df_filtered.shape)\n",
    "df_filtered.head()"
   ]
  },
  {
   "cell_type": "code",
   "execution_count": 50,
   "metadata": {},
   "outputs": [
    {
     "data": {
      "text/html": [
       "<div>\n",
       "<style scoped>\n",
       "    .dataframe tbody tr th:only-of-type {\n",
       "        vertical-align: middle;\n",
       "    }\n",
       "\n",
       "    .dataframe tbody tr th {\n",
       "        vertical-align: top;\n",
       "    }\n",
       "\n",
       "    .dataframe thead th {\n",
       "        text-align: right;\n",
       "    }\n",
       "</style>\n",
       "<table border=\"1\" class=\"dataframe\">\n",
       "  <thead>\n",
       "    <tr style=\"text-align: right;\">\n",
       "      <th></th>\n",
       "      <th>Num_Acc</th>\n",
       "      <th>id_usager</th>\n",
       "      <th>id_vehicule</th>\n",
       "      <th>num_veh</th>\n",
       "      <th>place</th>\n",
       "      <th>catu</th>\n",
       "      <th>grav</th>\n",
       "      <th>sexe</th>\n",
       "      <th>an_nais</th>\n",
       "      <th>trajet</th>\n",
       "      <th>secu1</th>\n",
       "      <th>secu2</th>\n",
       "      <th>secu3</th>\n",
       "      <th>locp</th>\n",
       "      <th>actp</th>\n",
       "      <th>etatp</th>\n",
       "      <th>catr</th>\n",
       "      <th>voie</th>\n",
       "      <th>v1</th>\n",
       "      <th>v2</th>\n",
       "      <th>circ</th>\n",
       "      <th>nbv</th>\n",
       "      <th>vosp</th>\n",
       "      <th>prof</th>\n",
       "      <th>pr</th>\n",
       "      <th>pr1</th>\n",
       "      <th>plan</th>\n",
       "      <th>lartpc</th>\n",
       "      <th>larrout</th>\n",
       "      <th>surf</th>\n",
       "      <th>infra</th>\n",
       "      <th>situ</th>\n",
       "      <th>vma</th>\n",
       "      <th>Accident_Id</th>\n",
       "      <th>jour</th>\n",
       "      <th>mois</th>\n",
       "      <th>an</th>\n",
       "      <th>hrmn</th>\n",
       "      <th>lum</th>\n",
       "      <th>dep</th>\n",
       "      <th>com</th>\n",
       "      <th>agg</th>\n",
       "      <th>int</th>\n",
       "      <th>atm</th>\n",
       "      <th>col</th>\n",
       "      <th>adr</th>\n",
       "      <th>lat</th>\n",
       "      <th>long</th>\n",
       "      <th>senc</th>\n",
       "      <th>catv</th>\n",
       "      <th>obs</th>\n",
       "      <th>obsm</th>\n",
       "      <th>choc</th>\n",
       "      <th>manv</th>\n",
       "      <th>motor</th>\n",
       "      <th>occutc</th>\n",
       "    </tr>\n",
       "  </thead>\n",
       "  <tbody>\n",
       "    <tr>\n",
       "      <th>0</th>\n",
       "      <td>202200000001</td>\n",
       "      <td>1 099 700</td>\n",
       "      <td>813 952</td>\n",
       "      <td>A01</td>\n",
       "      <td>1</td>\n",
       "      <td>1</td>\n",
       "      <td>3</td>\n",
       "      <td>1</td>\n",
       "      <td>2008.00</td>\n",
       "      <td>5</td>\n",
       "      <td>2</td>\n",
       "      <td>8</td>\n",
       "      <td>-1</td>\n",
       "      <td>-1</td>\n",
       "      <td>-1</td>\n",
       "      <td>-1</td>\n",
       "      <td>4</td>\n",
       "      <td>TEIL(vieille route du)</td>\n",
       "      <td>0.00</td>\n",
       "      <td>NaN</td>\n",
       "      <td>2</td>\n",
       "      <td>2</td>\n",
       "      <td>0</td>\n",
       "      <td>1</td>\n",
       "      <td>(1)</td>\n",
       "      <td>(1)</td>\n",
       "      <td>1</td>\n",
       "      <td>NaN</td>\n",
       "      <td>-1</td>\n",
       "      <td>1</td>\n",
       "      <td>0</td>\n",
       "      <td>1</td>\n",
       "      <td>50</td>\n",
       "      <td>202200000001.00</td>\n",
       "      <td>19</td>\n",
       "      <td>10</td>\n",
       "      <td>2022</td>\n",
       "      <td>16:15</td>\n",
       "      <td>1</td>\n",
       "      <td>26</td>\n",
       "      <td>26198</td>\n",
       "      <td>2</td>\n",
       "      <td>3</td>\n",
       "      <td>1</td>\n",
       "      <td>3</td>\n",
       "      <td>TEIL(vieille route du)</td>\n",
       "      <td>44,5594200000</td>\n",
       "      <td>4,7257200000</td>\n",
       "      <td>1</td>\n",
       "      <td>2</td>\n",
       "      <td>0</td>\n",
       "      <td>2</td>\n",
       "      <td>1</td>\n",
       "      <td>9</td>\n",
       "      <td>1</td>\n",
       "      <td>NaN</td>\n",
       "    </tr>\n",
       "    <tr>\n",
       "      <th>1</th>\n",
       "      <td>202200000001</td>\n",
       "      <td>1 099 701</td>\n",
       "      <td>813 953</td>\n",
       "      <td>B01</td>\n",
       "      <td>1</td>\n",
       "      <td>1</td>\n",
       "      <td>1</td>\n",
       "      <td>1</td>\n",
       "      <td>1948.00</td>\n",
       "      <td>5</td>\n",
       "      <td>1</td>\n",
       "      <td>8</td>\n",
       "      <td>-1</td>\n",
       "      <td>-1</td>\n",
       "      <td>-1</td>\n",
       "      <td>-1</td>\n",
       "      <td>4</td>\n",
       "      <td>TEIL(vieille route du)</td>\n",
       "      <td>0.00</td>\n",
       "      <td>NaN</td>\n",
       "      <td>2</td>\n",
       "      <td>2</td>\n",
       "      <td>0</td>\n",
       "      <td>1</td>\n",
       "      <td>(1)</td>\n",
       "      <td>(1)</td>\n",
       "      <td>1</td>\n",
       "      <td>NaN</td>\n",
       "      <td>-1</td>\n",
       "      <td>1</td>\n",
       "      <td>0</td>\n",
       "      <td>1</td>\n",
       "      <td>50</td>\n",
       "      <td>202200000001.00</td>\n",
       "      <td>19</td>\n",
       "      <td>10</td>\n",
       "      <td>2022</td>\n",
       "      <td>16:15</td>\n",
       "      <td>1</td>\n",
       "      <td>26</td>\n",
       "      <td>26198</td>\n",
       "      <td>2</td>\n",
       "      <td>3</td>\n",
       "      <td>1</td>\n",
       "      <td>3</td>\n",
       "      <td>TEIL(vieille route du)</td>\n",
       "      <td>44,5594200000</td>\n",
       "      <td>4,7257200000</td>\n",
       "      <td>1</td>\n",
       "      <td>7</td>\n",
       "      <td>0</td>\n",
       "      <td>2</td>\n",
       "      <td>2</td>\n",
       "      <td>1</td>\n",
       "      <td>1</td>\n",
       "      <td>NaN</td>\n",
       "    </tr>\n",
       "    <tr>\n",
       "      <th>2</th>\n",
       "      <td>202200000002</td>\n",
       "      <td>1 099 698</td>\n",
       "      <td>813 950</td>\n",
       "      <td>B01</td>\n",
       "      <td>1</td>\n",
       "      <td>1</td>\n",
       "      <td>4</td>\n",
       "      <td>1</td>\n",
       "      <td>1988.00</td>\n",
       "      <td>9</td>\n",
       "      <td>1</td>\n",
       "      <td>0</td>\n",
       "      <td>-1</td>\n",
       "      <td>0</td>\n",
       "      <td>0</td>\n",
       "      <td>-1</td>\n",
       "      <td>4</td>\n",
       "      <td>NaN</td>\n",
       "      <td>0.00</td>\n",
       "      <td>NaN</td>\n",
       "      <td>2</td>\n",
       "      <td>2</td>\n",
       "      <td>0</td>\n",
       "      <td>1</td>\n",
       "      <td>(1)</td>\n",
       "      <td>(1)</td>\n",
       "      <td>1</td>\n",
       "      <td>NaN</td>\n",
       "      <td>-1</td>\n",
       "      <td>1</td>\n",
       "      <td>0</td>\n",
       "      <td>1</td>\n",
       "      <td>50</td>\n",
       "      <td>202200000002.00</td>\n",
       "      <td>20</td>\n",
       "      <td>10</td>\n",
       "      <td>2022</td>\n",
       "      <td>08:34</td>\n",
       "      <td>1</td>\n",
       "      <td>25</td>\n",
       "      <td>25204</td>\n",
       "      <td>2</td>\n",
       "      <td>3</td>\n",
       "      <td>1</td>\n",
       "      <td>3</td>\n",
       "      <td>Miranda</td>\n",
       "      <td>46,9258100000</td>\n",
       "      <td>6,3462000000</td>\n",
       "      <td>2</td>\n",
       "      <td>7</td>\n",
       "      <td>0</td>\n",
       "      <td>2</td>\n",
       "      <td>8</td>\n",
       "      <td>15</td>\n",
       "      <td>1</td>\n",
       "      <td>NaN</td>\n",
       "    </tr>\n",
       "    <tr>\n",
       "      <th>3</th>\n",
       "      <td>202200000002</td>\n",
       "      <td>1 099 699</td>\n",
       "      <td>813 951</td>\n",
       "      <td>A01</td>\n",
       "      <td>1</td>\n",
       "      <td>1</td>\n",
       "      <td>1</td>\n",
       "      <td>1</td>\n",
       "      <td>1970.00</td>\n",
       "      <td>4</td>\n",
       "      <td>1</td>\n",
       "      <td>0</td>\n",
       "      <td>-1</td>\n",
       "      <td>0</td>\n",
       "      <td>0</td>\n",
       "      <td>-1</td>\n",
       "      <td>4</td>\n",
       "      <td>NaN</td>\n",
       "      <td>0.00</td>\n",
       "      <td>NaN</td>\n",
       "      <td>2</td>\n",
       "      <td>2</td>\n",
       "      <td>0</td>\n",
       "      <td>1</td>\n",
       "      <td>(1)</td>\n",
       "      <td>(1)</td>\n",
       "      <td>1</td>\n",
       "      <td>NaN</td>\n",
       "      <td>-1</td>\n",
       "      <td>1</td>\n",
       "      <td>0</td>\n",
       "      <td>1</td>\n",
       "      <td>50</td>\n",
       "      <td>202200000002.00</td>\n",
       "      <td>20</td>\n",
       "      <td>10</td>\n",
       "      <td>2022</td>\n",
       "      <td>08:34</td>\n",
       "      <td>1</td>\n",
       "      <td>25</td>\n",
       "      <td>25204</td>\n",
       "      <td>2</td>\n",
       "      <td>3</td>\n",
       "      <td>1</td>\n",
       "      <td>3</td>\n",
       "      <td>Miranda</td>\n",
       "      <td>46,9258100000</td>\n",
       "      <td>6,3462000000</td>\n",
       "      <td>2</td>\n",
       "      <td>10</td>\n",
       "      <td>0</td>\n",
       "      <td>2</td>\n",
       "      <td>1</td>\n",
       "      <td>1</td>\n",
       "      <td>1</td>\n",
       "      <td>NaN</td>\n",
       "    </tr>\n",
       "    <tr>\n",
       "      <th>4</th>\n",
       "      <td>202200000003</td>\n",
       "      <td>1 099 696</td>\n",
       "      <td>813 948</td>\n",
       "      <td>A01</td>\n",
       "      <td>1</td>\n",
       "      <td>1</td>\n",
       "      <td>1</td>\n",
       "      <td>1</td>\n",
       "      <td>2002.00</td>\n",
       "      <td>0</td>\n",
       "      <td>1</td>\n",
       "      <td>0</td>\n",
       "      <td>-1</td>\n",
       "      <td>-1</td>\n",
       "      <td>-1</td>\n",
       "      <td>-1</td>\n",
       "      <td>3</td>\n",
       "      <td>ROND POINT DE BREZILLET</td>\n",
       "      <td>0.00</td>\n",
       "      <td>NaN</td>\n",
       "      <td>-1</td>\n",
       "      <td>2</td>\n",
       "      <td>0</td>\n",
       "      <td>1</td>\n",
       "      <td>0</td>\n",
       "      <td>0</td>\n",
       "      <td>1</td>\n",
       "      <td>NaN</td>\n",
       "      <td>-1</td>\n",
       "      <td>1</td>\n",
       "      <td>5</td>\n",
       "      <td>1</td>\n",
       "      <td>50</td>\n",
       "      <td>202200000003.00</td>\n",
       "      <td>20</td>\n",
       "      <td>10</td>\n",
       "      <td>2022</td>\n",
       "      <td>17:15</td>\n",
       "      <td>1</td>\n",
       "      <td>22</td>\n",
       "      <td>22360</td>\n",
       "      <td>2</td>\n",
       "      <td>6</td>\n",
       "      <td>1</td>\n",
       "      <td>2</td>\n",
       "      <td>ROND POINT DE BREZILLET</td>\n",
       "      <td>48,4931620000</td>\n",
       "      <td>-2,7604390000</td>\n",
       "      <td>2</td>\n",
       "      <td>7</td>\n",
       "      <td>0</td>\n",
       "      <td>2</td>\n",
       "      <td>1</td>\n",
       "      <td>2</td>\n",
       "      <td>1</td>\n",
       "      <td>NaN</td>\n",
       "    </tr>\n",
       "  </tbody>\n",
       "</table>\n",
       "</div>"
      ],
      "text/plain": [
       "        Num_Acc  id_usager id_vehicule num_veh  place  catu  grav  sexe  \\\n",
       "0  202200000001  1 099 700     813 952     A01      1     1     3     1   \n",
       "1  202200000001  1 099 701     813 953     B01      1     1     1     1   \n",
       "2  202200000002  1 099 698     813 950     B01      1     1     4     1   \n",
       "3  202200000002  1 099 699     813 951     A01      1     1     1     1   \n",
       "4  202200000003  1 099 696     813 948     A01      1     1     1     1   \n",
       "\n",
       "   an_nais  trajet  secu1  secu2  secu3  locp actp  etatp  catr  \\\n",
       "0  2008.00       5      2      8     -1    -1   -1     -1     4   \n",
       "1  1948.00       5      1      8     -1    -1   -1     -1     4   \n",
       "2  1988.00       9      1      0     -1     0    0     -1     4   \n",
       "3  1970.00       4      1      0     -1     0    0     -1     4   \n",
       "4  2002.00       0      1      0     -1    -1   -1     -1     3   \n",
       "\n",
       "                      voie   v1   v2  circ nbv  vosp  prof   pr  pr1  plan  \\\n",
       "0   TEIL(vieille route du) 0.00  NaN     2   2     0     1  (1)  (1)     1   \n",
       "1   TEIL(vieille route du) 0.00  NaN     2   2     0     1  (1)  (1)     1   \n",
       "2                      NaN 0.00  NaN     2   2     0     1  (1)  (1)     1   \n",
       "3                      NaN 0.00  NaN     2   2     0     1  (1)  (1)     1   \n",
       "4  ROND POINT DE BREZILLET 0.00  NaN    -1   2     0     1    0    0     1   \n",
       "\n",
       "  lartpc larrout  surf  infra  situ  vma     Accident_Id  jour  mois    an  \\\n",
       "0    NaN      -1     1      0     1   50 202200000001.00    19    10  2022   \n",
       "1    NaN      -1     1      0     1   50 202200000001.00    19    10  2022   \n",
       "2    NaN      -1     1      0     1   50 202200000002.00    20    10  2022   \n",
       "3    NaN      -1     1      0     1   50 202200000002.00    20    10  2022   \n",
       "4    NaN      -1     1      5     1   50 202200000003.00    20    10  2022   \n",
       "\n",
       "    hrmn  lum dep    com  agg  int  atm  col                      adr  \\\n",
       "0  16:15    1  26  26198    2    3    1    3   TEIL(vieille route du)   \n",
       "1  16:15    1  26  26198    2    3    1    3   TEIL(vieille route du)   \n",
       "2  08:34    1  25  25204    2    3    1    3                  Miranda   \n",
       "3  08:34    1  25  25204    2    3    1    3                  Miranda   \n",
       "4  17:15    1  22  22360    2    6    1    2  ROND POINT DE BREZILLET   \n",
       "\n",
       "             lat            long  senc  catv  obs  obsm  choc  manv  motor  \\\n",
       "0  44,5594200000    4,7257200000     1     2    0     2     1     9      1   \n",
       "1  44,5594200000    4,7257200000     1     7    0     2     2     1      1   \n",
       "2  46,9258100000    6,3462000000     2     7    0     2     8    15      1   \n",
       "3  46,9258100000    6,3462000000     2    10    0     2     1     1      1   \n",
       "4  48,4931620000   -2,7604390000     2     7    0     2     1     2      1   \n",
       "\n",
       "   occutc  \n",
       "0     NaN  \n",
       "1     NaN  \n",
       "2     NaN  \n",
       "3     NaN  \n",
       "4     NaN  "
      ]
     },
     "execution_count": 50,
     "metadata": {},
     "output_type": "execute_result"
    }
   ],
   "source": [
    "df_bis = pd.read_csv(\"dataset/dataset_analyse.csv\")\n",
    "df_bis.head()"
   ]
  },
  {
   "cell_type": "code",
   "execution_count": 51,
   "metadata": {},
   "outputs": [
    {
     "name": "stdout",
     "output_type": "stream",
     "text": [
      "(91286, 41)\n",
      "(106324, 59)\n"
     ]
    },
    {
     "data": {
      "text/html": [
       "<div>\n",
       "<style scoped>\n",
       "    .dataframe tbody tr th:only-of-type {\n",
       "        vertical-align: middle;\n",
       "    }\n",
       "\n",
       "    .dataframe tbody tr th {\n",
       "        vertical-align: top;\n",
       "    }\n",
       "\n",
       "    .dataframe thead th {\n",
       "        text-align: right;\n",
       "    }\n",
       "</style>\n",
       "<table border=\"1\" class=\"dataframe\">\n",
       "  <thead>\n",
       "    <tr style=\"text-align: right;\">\n",
       "      <th></th>\n",
       "      <th>catu</th>\n",
       "      <th>sexe</th>\n",
       "      <th>catr</th>\n",
       "      <th>circ</th>\n",
       "      <th>vosp</th>\n",
       "      <th>prof</th>\n",
       "      <th>plan</th>\n",
       "      <th>surf</th>\n",
       "      <th>infra</th>\n",
       "      <th>situ</th>\n",
       "      <th>vma</th>\n",
       "      <th>lum</th>\n",
       "      <th>com</th>\n",
       "      <th>agg</th>\n",
       "      <th>int</th>\n",
       "      <th>atm</th>\n",
       "      <th>col</th>\n",
       "      <th>lat</th>\n",
       "      <th>long</th>\n",
       "      <th>senc</th>\n",
       "      <th>obs</th>\n",
       "      <th>obsm</th>\n",
       "      <th>choc</th>\n",
       "      <th>manv</th>\n",
       "      <th>motor</th>\n",
       "      <th>age_group</th>\n",
       "      <th>h_group</th>\n",
       "      <th>weekday</th>\n",
       "      <th>index</th>\n",
       "      <th>gravite</th>\n",
       "      <th>pred_ada</th>\n",
       "      <th>pred_extrTr</th>\n",
       "      <th>pred_xgb</th>\n",
       "      <th>pred_lgbm</th>\n",
       "      <th>pred_knn</th>\n",
       "      <th>Num_Acc</th>\n",
       "      <th>id_usager</th>\n",
       "      <th>id_vehicule</th>\n",
       "      <th>num_veh</th>\n",
       "      <th>place</th>\n",
       "      <th>grav</th>\n",
       "      <th>an_nais</th>\n",
       "      <th>trajet</th>\n",
       "      <th>secu1</th>\n",
       "      <th>secu2</th>\n",
       "      <th>secu3</th>\n",
       "      <th>locp</th>\n",
       "      <th>actp</th>\n",
       "      <th>etatp</th>\n",
       "      <th>voie</th>\n",
       "      <th>v1</th>\n",
       "      <th>nbv</th>\n",
       "      <th>Accident_Id</th>\n",
       "      <th>jour</th>\n",
       "      <th>mois</th>\n",
       "      <th>an</th>\n",
       "      <th>hrmn</th>\n",
       "      <th>adr</th>\n",
       "      <th>catv</th>\n",
       "    </tr>\n",
       "  </thead>\n",
       "  <tbody>\n",
       "    <tr>\n",
       "      <th>0</th>\n",
       "      <td>1</td>\n",
       "      <td>2</td>\n",
       "      <td>4</td>\n",
       "      <td>-1</td>\n",
       "      <td>0</td>\n",
       "      <td>1</td>\n",
       "      <td>1</td>\n",
       "      <td>1</td>\n",
       "      <td>0</td>\n",
       "      <td>1</td>\n",
       "      <td>50</td>\n",
       "      <td>5</td>\n",
       "      <td>66136</td>\n",
       "      <td>2</td>\n",
       "      <td>2</td>\n",
       "      <td>1</td>\n",
       "      <td>3</td>\n",
       "      <td>42.70</td>\n",
       "      <td>2.89</td>\n",
       "      <td>1</td>\n",
       "      <td>0</td>\n",
       "      <td>2</td>\n",
       "      <td>7</td>\n",
       "      <td>1</td>\n",
       "      <td>1</td>\n",
       "      <td>4</td>\n",
       "      <td>2</td>\n",
       "      <td>5</td>\n",
       "      <td>422246</td>\n",
       "      <td>1</td>\n",
       "      <td>1</td>\n",
       "      <td>1</td>\n",
       "      <td>1</td>\n",
       "      <td>1</td>\n",
       "      <td>1</td>\n",
       "      <td>201900042732</td>\n",
       "      <td>NaN</td>\n",
       "      <td>138 225 775</td>\n",
       "      <td>B01</td>\n",
       "      <td>1</td>\n",
       "      <td>4</td>\n",
       "      <td>1983.00</td>\n",
       "      <td>5</td>\n",
       "      <td>1</td>\n",
       "      <td>8</td>\n",
       "      <td>-1</td>\n",
       "      <td>0</td>\n",
       "      <td>-1</td>\n",
       "      <td>-1</td>\n",
       "      <td>PYRENEES (BOULEVARD DES)</td>\n",
       "      <td>0.00</td>\n",
       "      <td>2</td>\n",
       "      <td>NaN</td>\n",
       "      <td>12</td>\n",
       "      <td>1</td>\n",
       "      <td>2019</td>\n",
       "      <td>05:30</td>\n",
       "      <td>PYRENEES (BOULEVARD DES)</td>\n",
       "      <td>7</td>\n",
       "    </tr>\n",
       "    <tr>\n",
       "      <th>1</th>\n",
       "      <td>2</td>\n",
       "      <td>2</td>\n",
       "      <td>7</td>\n",
       "      <td>2</td>\n",
       "      <td>0</td>\n",
       "      <td>2</td>\n",
       "      <td>1</td>\n",
       "      <td>1</td>\n",
       "      <td>0</td>\n",
       "      <td>1</td>\n",
       "      <td>50</td>\n",
       "      <td>5</td>\n",
       "      <td>13215</td>\n",
       "      <td>2</td>\n",
       "      <td>1</td>\n",
       "      <td>1</td>\n",
       "      <td>3</td>\n",
       "      <td>43.37</td>\n",
       "      <td>5.35</td>\n",
       "      <td>0</td>\n",
       "      <td>0</td>\n",
       "      <td>2</td>\n",
       "      <td>7</td>\n",
       "      <td>1</td>\n",
       "      <td>1</td>\n",
       "      <td>6</td>\n",
       "      <td>1</td>\n",
       "      <td>2</td>\n",
       "      <td>176315</td>\n",
       "      <td>1</td>\n",
       "      <td>1</td>\n",
       "      <td>1</td>\n",
       "      <td>1</td>\n",
       "      <td>1</td>\n",
       "      <td>1</td>\n",
       "      <td>202100029144</td>\n",
       "      <td>197 855</td>\n",
       "      <td>149 652</td>\n",
       "      <td>A01</td>\n",
       "      <td>5</td>\n",
       "      <td>4</td>\n",
       "      <td>1964.00</td>\n",
       "      <td>0</td>\n",
       "      <td>2</td>\n",
       "      <td>0</td>\n",
       "      <td>-1</td>\n",
       "      <td>-1</td>\n",
       "      <td>-1</td>\n",
       "      <td>-1</td>\n",
       "      <td>HENRI BARNIER (BOULEVARD)</td>\n",
       "      <td>0.00</td>\n",
       "      <td>4</td>\n",
       "      <td>NaN</td>\n",
       "      <td>14</td>\n",
       "      <td>7</td>\n",
       "      <td>2021</td>\n",
       "      <td>02:40</td>\n",
       "      <td>HENRI BARNIER (BOULEVARD)</td>\n",
       "      <td>33</td>\n",
       "    </tr>\n",
       "    <tr>\n",
       "      <th>2</th>\n",
       "      <td>1</td>\n",
       "      <td>1</td>\n",
       "      <td>1</td>\n",
       "      <td>1</td>\n",
       "      <td>0</td>\n",
       "      <td>1</td>\n",
       "      <td>3</td>\n",
       "      <td>1</td>\n",
       "      <td>0</td>\n",
       "      <td>1</td>\n",
       "      <td>80</td>\n",
       "      <td>1</td>\n",
       "      <td>69283</td>\n",
       "      <td>1</td>\n",
       "      <td>1</td>\n",
       "      <td>1</td>\n",
       "      <td>5</td>\n",
       "      <td>45.67</td>\n",
       "      <td>4.94</td>\n",
       "      <td>2</td>\n",
       "      <td>0</td>\n",
       "      <td>2</td>\n",
       "      <td>1</td>\n",
       "      <td>13</td>\n",
       "      <td>1</td>\n",
       "      <td>4</td>\n",
       "      <td>6</td>\n",
       "      <td>1</td>\n",
       "      <td>236564</td>\n",
       "      <td>1</td>\n",
       "      <td>1</td>\n",
       "      <td>1</td>\n",
       "      <td>1</td>\n",
       "      <td>0</td>\n",
       "      <td>1</td>\n",
       "      <td>202000001303</td>\n",
       "      <td>NaN</td>\n",
       "      <td>154 739 965</td>\n",
       "      <td>A01</td>\n",
       "      <td>1</td>\n",
       "      <td>4</td>\n",
       "      <td>1987.00</td>\n",
       "      <td>4</td>\n",
       "      <td>1</td>\n",
       "      <td>8</td>\n",
       "      <td>-1</td>\n",
       "      <td>-1</td>\n",
       "      <td>-1</td>\n",
       "      <td>-1</td>\n",
       "      <td>A46S   43.680 A 47.880</td>\n",
       "      <td>0.00</td>\n",
       "      <td>2</td>\n",
       "      <td>NaN</td>\n",
       "      <td>19</td>\n",
       "      <td>5</td>\n",
       "      <td>2020</td>\n",
       "      <td>17:44</td>\n",
       "      <td>A46S   43.680 A 47.880</td>\n",
       "      <td>15</td>\n",
       "    </tr>\n",
       "    <tr>\n",
       "      <th>3</th>\n",
       "      <td>1</td>\n",
       "      <td>2</td>\n",
       "      <td>1</td>\n",
       "      <td>3</td>\n",
       "      <td>0</td>\n",
       "      <td>1</td>\n",
       "      <td>1</td>\n",
       "      <td>2</td>\n",
       "      <td>0</td>\n",
       "      <td>1</td>\n",
       "      <td>130</td>\n",
       "      <td>3</td>\n",
       "      <td>87014</td>\n",
       "      <td>1</td>\n",
       "      <td>1</td>\n",
       "      <td>2</td>\n",
       "      <td>5</td>\n",
       "      <td>46.09</td>\n",
       "      <td>1.36</td>\n",
       "      <td>2</td>\n",
       "      <td>1</td>\n",
       "      <td>0</td>\n",
       "      <td>3</td>\n",
       "      <td>2</td>\n",
       "      <td>1</td>\n",
       "      <td>7</td>\n",
       "      <td>7</td>\n",
       "      <td>6</td>\n",
       "      <td>262438</td>\n",
       "      <td>0</td>\n",
       "      <td>1</td>\n",
       "      <td>1</td>\n",
       "      <td>0</td>\n",
       "      <td>1</td>\n",
       "      <td>0</td>\n",
       "      <td>202000013883</td>\n",
       "      <td>NaN</td>\n",
       "      <td>154 717 872</td>\n",
       "      <td>D01</td>\n",
       "      <td>1</td>\n",
       "      <td>1</td>\n",
       "      <td>1958.00</td>\n",
       "      <td>9</td>\n",
       "      <td>1</td>\n",
       "      <td>-1</td>\n",
       "      <td>-1</td>\n",
       "      <td>0</td>\n",
       "      <td>0</td>\n",
       "      <td>-1</td>\n",
       "      <td>20</td>\n",
       "      <td>-1.00</td>\n",
       "      <td>4</td>\n",
       "      <td>NaN</td>\n",
       "      <td>11</td>\n",
       "      <td>10</td>\n",
       "      <td>2020</td>\n",
       "      <td>21:45</td>\n",
       "      <td>A20 PR151+500</td>\n",
       "      <td>7</td>\n",
       "    </tr>\n",
       "    <tr>\n",
       "      <th>4</th>\n",
       "      <td>1</td>\n",
       "      <td>1</td>\n",
       "      <td>1</td>\n",
       "      <td>3</td>\n",
       "      <td>0</td>\n",
       "      <td>1</td>\n",
       "      <td>1</td>\n",
       "      <td>1</td>\n",
       "      <td>8</td>\n",
       "      <td>1</td>\n",
       "      <td>70</td>\n",
       "      <td>1</td>\n",
       "      <td>67462</td>\n",
       "      <td>1</td>\n",
       "      <td>1</td>\n",
       "      <td>1</td>\n",
       "      <td>2</td>\n",
       "      <td>48.29</td>\n",
       "      <td>7.46</td>\n",
       "      <td>1</td>\n",
       "      <td>4</td>\n",
       "      <td>2</td>\n",
       "      <td>1</td>\n",
       "      <td>1</td>\n",
       "      <td>1</td>\n",
       "      <td>3</td>\n",
       "      <td>6</td>\n",
       "      <td>5</td>\n",
       "      <td>182769</td>\n",
       "      <td>1</td>\n",
       "      <td>1</td>\n",
       "      <td>1</td>\n",
       "      <td>1</td>\n",
       "      <td>1</td>\n",
       "      <td>0</td>\n",
       "      <td>202100032200</td>\n",
       "      <td>190 430</td>\n",
       "      <td>144 208</td>\n",
       "      <td>B01</td>\n",
       "      <td>1</td>\n",
       "      <td>3</td>\n",
       "      <td>1996.00</td>\n",
       "      <td>5</td>\n",
       "      <td>2</td>\n",
       "      <td>6</td>\n",
       "      <td>-1</td>\n",
       "      <td>0</td>\n",
       "      <td>0</td>\n",
       "      <td>-1</td>\n",
       "      <td>35</td>\n",
       "      <td>0.00</td>\n",
       "      <td>1</td>\n",
       "      <td>NaN</td>\n",
       "      <td>26</td>\n",
       "      <td>6</td>\n",
       "      <td>2021</td>\n",
       "      <td>17:00</td>\n",
       "      <td>A35 PK438+500 vers COLMAR</td>\n",
       "      <td>33</td>\n",
       "    </tr>\n",
       "  </tbody>\n",
       "</table>\n",
       "</div>"
      ],
      "text/plain": [
       "   catu  sexe  catr  circ  vosp  prof  plan  surf  infra  situ  vma  lum  \\\n",
       "0     1     2     4    -1     0     1     1     1      0     1   50    5   \n",
       "1     2     2     7     2     0     2     1     1      0     1   50    5   \n",
       "2     1     1     1     1     0     1     3     1      0     1   80    1   \n",
       "3     1     2     1     3     0     1     1     2      0     1  130    3   \n",
       "4     1     1     1     3     0     1     1     1      8     1   70    1   \n",
       "\n",
       "     com  agg  int  atm  col   lat  long  senc  obs  obsm  choc  manv  motor  \\\n",
       "0  66136    2    2    1    3 42.70  2.89     1    0     2     7     1      1   \n",
       "1  13215    2    1    1    3 43.37  5.35     0    0     2     7     1      1   \n",
       "2  69283    1    1    1    5 45.67  4.94     2    0     2     1    13      1   \n",
       "3  87014    1    1    2    5 46.09  1.36     2    1     0     3     2      1   \n",
       "4  67462    1    1    1    2 48.29  7.46     1    4     2     1     1      1   \n",
       "\n",
       "   age_group  h_group  weekday   index  gravite  pred_ada  pred_extrTr  \\\n",
       "0          4        2        5  422246        1         1            1   \n",
       "1          6        1        2  176315        1         1            1   \n",
       "2          4        6        1  236564        1         1            1   \n",
       "3          7        7        6  262438        0         1            1   \n",
       "4          3        6        5  182769        1         1            1   \n",
       "\n",
       "   pred_xgb  pred_lgbm  pred_knn       Num_Acc id_usager  id_vehicule num_veh  \\\n",
       "0         1          1         1  201900042732       NaN  138 225 775     B01   \n",
       "1         1          1         1  202100029144   197 855      149 652     A01   \n",
       "2         1          0         1  202000001303       NaN  154 739 965     A01   \n",
       "3         0          1         0  202000013883       NaN  154 717 872     D01   \n",
       "4         1          1         0  202100032200   190 430      144 208     B01   \n",
       "\n",
       "   place  grav  an_nais  trajet  secu1  secu2  secu3  locp actp  etatp  \\\n",
       "0      1     4  1983.00       5      1      8     -1     0   -1     -1   \n",
       "1      5     4  1964.00       0      2      0     -1    -1   -1     -1   \n",
       "2      1     4  1987.00       4      1      8     -1    -1   -1     -1   \n",
       "3      1     1  1958.00       9      1     -1     -1     0    0     -1   \n",
       "4      1     3  1996.00       5      2      6     -1     0    0     -1   \n",
       "\n",
       "                        voie    v1 nbv  Accident_Id  jour  mois    an   hrmn  \\\n",
       "0   PYRENEES (BOULEVARD DES)  0.00   2          NaN    12     1  2019  05:30   \n",
       "1  HENRI BARNIER (BOULEVARD)  0.00   4          NaN    14     7  2021  02:40   \n",
       "2     A46S   43.680 A 47.880  0.00   2          NaN    19     5  2020  17:44   \n",
       "3                         20 -1.00   4          NaN    11    10  2020  21:45   \n",
       "4                         35  0.00   1          NaN    26     6  2021  17:00   \n",
       "\n",
       "                         adr  catv  \n",
       "0   PYRENEES (BOULEVARD DES)     7  \n",
       "1  HENRI BARNIER (BOULEVARD)    33  \n",
       "2     A46S   43.680 A 47.880    15  \n",
       "3              A20 PR151+500     7  \n",
       "4  A35 PK438+500 vers COLMAR    33  "
      ]
     },
     "execution_count": 51,
     "metadata": {},
     "output_type": "execute_result"
    }
   ],
   "source": [
    "#df_filtered = df.iloc[:len(y_test)]\n",
    "#df_filtered\n",
    "\n",
    "df_bis[\"lat\"] = [str(value) for value in df_bis[\"lat\"]]\n",
    "df_bis[\"lat\"] = [value.replace(',', '.') for value in df_bis[\"lat\"]]\n",
    "df_bis[\"lat\"] = df_bis[\"lat\"].astype(float)\n",
    "df_bis[\"long\"] = [str(value) for value in df_bis[\"long\"]]\n",
    "df_bis[\"long\"] = [value.replace(',', '.') for value in df_bis[\"long\"]]\n",
    "df_bis[\"long\"] = df_bis[\"long\"].astype(float)\n",
    "\n",
    "\n",
    "df_temp = pd.merge(df_filtered.drop(['nbv', 'trajet','locp', 'catv',\"secu1\", 'place'], axis=1), \n",
    "                   df_bis.drop(['com', 'dep','lartpc','larrout','occutc', 'pr', 'pr1','v2'], axis=1), \n",
    "                   on=[ 'circ', 'catr','lat', 'long', 'sexe', 'catu', 'vosp', 'prof', 'plan', 'surf', 'infra',\n",
    "                        'situ','vma','lum','agg', 'choc', 'int', 'atm', 'col', 'senc', 'obs', \n",
    "                        'obsm', 'manv', 'motor'], how='left' \n",
    "                    )\n",
    "print(df_filtered.shape)\n",
    "print(df_temp.shape)\n",
    "df_temp.head()\n",
    "\n",
    "\n",
    "#df_temp.to_csv('dataset/dataset_merge.csv', index=False)"
   ]
  },
  {
   "cell_type": "code",
   "execution_count": 65,
   "metadata": {
    "id": "aUncnZMlFmPZ"
   },
   "outputs": [
    {
     "data": {
      "text/plain": [
       "67.26223079113993"
      ]
     },
     "execution_count": 65,
     "metadata": {},
     "output_type": "execute_result"
    }
   ],
   "source": [
    "# création d'un df qui affiche toutes les prédictions qui ne sont pas identiques au réel\n",
    "df_mismatch_ada = df_temp[df_temp['grav'] != df_temp['pred_ada']]\n",
    "df_mismatch_ada.shape\n",
    "\n",
    "len(df_mismatch_ada)/len(df_test.grav)*100"
   ]
  },
  {
   "cell_type": "code",
   "execution_count": 66,
   "metadata": {},
   "outputs": [
    {
     "data": {
      "text/plain": [
       "41.51019871612295"
      ]
     },
     "execution_count": 66,
     "metadata": {},
     "output_type": "execute_result"
    }
   ],
   "source": [
    "# création d'un df qui affiche toutes les prédictions qui ne sont pas identiques au réel\n",
    "df_mismatch_ada = df_filtered[df_filtered['gravite'] != df_filtered['pred_ada']]\n",
    "df_mismatch_ada.shape\n",
    "\n",
    "len(df_mismatch_ada)/len(df_test.grav)*100"
   ]
  },
  {
   "cell_type": "code",
   "execution_count": 67,
   "metadata": {
    "id": "nDxsxTFVFmPZ"
   },
   "outputs": [
    {
     "data": {
      "text/plain": [
       "41.80159060535022"
      ]
     },
     "execution_count": 67,
     "metadata": {},
     "output_type": "execute_result"
    }
   ],
   "source": [
    "# création d'un df qui affiche toutes les prédictions qui ne sont pas identiques au réel\n",
    "df_mismatch_et = df_filtered[df_filtered['gravite'] != df_filtered['pred_extrTr']]\n",
    "df_mismatch_et.shape\n",
    "\n",
    "\n",
    "len(df_mismatch_et)/len(df_test.grav)*100"
   ]
  },
  {
   "cell_type": "code",
   "execution_count": 68,
   "metadata": {},
   "outputs": [
    {
     "data": {
      "text/plain": [
       "18.623885371250797"
      ]
     },
     "execution_count": 68,
     "metadata": {},
     "output_type": "execute_result"
    }
   ],
   "source": [
    "# création d'un df qui affiche toutes les prédictions qui ne sont pas identiques au réel\n",
    "df_mismatch_xgb = df_filtered[df_filtered['gravite'] != df_filtered['pred_xgb']]\n",
    "df_mismatch_xgb.head()\n",
    "\n",
    "len(df_mismatch_xgb)/len(df_test.grav)*100"
   ]
  },
  {
   "cell_type": "code",
   "execution_count": 69,
   "metadata": {},
   "outputs": [
    {
     "data": {
      "text/plain": [
       "19.055495913940803"
      ]
     },
     "execution_count": 69,
     "metadata": {},
     "output_type": "execute_result"
    }
   ],
   "source": [
    "# création d'un df qui affiche toutes les prédictions qui ne sont pas identiques au réel\n",
    "df_mismatch_lgbm = df_filtered[df_filtered['gravite'] != df_filtered['pred_lgbm']]\n",
    "df_mismatch_lgbm.head()\n",
    "\n",
    "len(df_mismatch_lgbm)/len(df_test.grav)*100"
   ]
  },
  {
   "cell_type": "code",
   "execution_count": 70,
   "metadata": {},
   "outputs": [
    {
     "data": {
      "text/plain": [
       "34.94949937558881"
      ]
     },
     "execution_count": 70,
     "metadata": {},
     "output_type": "execute_result"
    }
   ],
   "source": [
    "# création d'un df qui affiche toutes les prédictions qui ne sont pas identiques au réel\n",
    "df_mismatch_knn = df_filtered[df_filtered['gravite'] != df_filtered['pred_knn']]\n",
    "df_mismatch_knn.head()\n",
    "\n",
    "len(df_mismatch_knn)/len(df_test.grav)*100"
   ]
  },
  {
   "cell_type": "code",
   "execution_count": null,
   "metadata": {},
   "outputs": [],
   "source": []
  }
 ],
 "metadata": {
  "colab": {
   "provenance": []
  },
  "kernelspec": {
   "display_name": "Python 3 (ipykernel)",
   "language": "python",
   "name": "python3"
  },
  "language_info": {
   "codemirror_mode": {
    "name": "ipython",
    "version": 3
   },
   "file_extension": ".py",
   "mimetype": "text/x-python",
   "name": "python",
   "nbconvert_exporter": "python",
   "pygments_lexer": "ipython3",
   "version": "3.10.14"
  }
 },
 "nbformat": 4,
 "nbformat_minor": 4
}
