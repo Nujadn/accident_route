{
 "cells": [
  {
   "cell_type": "code",
   "execution_count": 43,
   "metadata": {},
   "outputs": [],
   "source": [
    "import pandas as pd\n",
    "from sklearn.feature_selection import SelectKBest, f_classif\n",
    "from sklearn.linear_model import LogisticRegression\n",
    "from sklearn.multiclass import OneVsRestClassifier\n",
    "from sklearn.metrics import accuracy_score,classification_report\n",
    "\n",
    "from sklearn.ensemble import RandomForestClassifier, GradientBoostingClassifier\n",
    "from sklearn.neighbors import KNeighborsClassifier"
   ]
  },
  {
   "cell_type": "markdown",
   "metadata": {},
   "source": [
    "## Import des données"
   ]
  },
  {
   "cell_type": "code",
   "execution_count": 44,
   "metadata": {},
   "outputs": [
    {
     "data": {
      "text/html": [
       "<div>\n",
       "<style scoped>\n",
       "    .dataframe tbody tr th:only-of-type {\n",
       "        vertical-align: middle;\n",
       "    }\n",
       "\n",
       "    .dataframe tbody tr th {\n",
       "        vertical-align: top;\n",
       "    }\n",
       "\n",
       "    .dataframe thead th {\n",
       "        text-align: right;\n",
       "    }\n",
       "</style>\n",
       "<table border=\"1\" class=\"dataframe\">\n",
       "  <thead>\n",
       "    <tr style=\"text-align: right;\">\n",
       "      <th></th>\n",
       "      <th>place</th>\n",
       "      <th>catu</th>\n",
       "      <th>grav</th>\n",
       "      <th>sexe</th>\n",
       "      <th>an_nais</th>\n",
       "      <th>trajet</th>\n",
       "      <th>secu1</th>\n",
       "      <th>secu2</th>\n",
       "      <th>secu3</th>\n",
       "      <th>locp</th>\n",
       "      <th>...</th>\n",
       "      <th>senc</th>\n",
       "      <th>catv</th>\n",
       "      <th>obs</th>\n",
       "      <th>obsm</th>\n",
       "      <th>choc</th>\n",
       "      <th>manv</th>\n",
       "      <th>motor</th>\n",
       "      <th>an_acc</th>\n",
       "      <th>heure</th>\n",
       "      <th>minute</th>\n",
       "    </tr>\n",
       "  </thead>\n",
       "  <tbody>\n",
       "    <tr>\n",
       "      <th>0</th>\n",
       "      <td>1</td>\n",
       "      <td>1</td>\n",
       "      <td>3</td>\n",
       "      <td>1</td>\n",
       "      <td>2008.0</td>\n",
       "      <td>5</td>\n",
       "      <td>2</td>\n",
       "      <td>8</td>\n",
       "      <td>-1</td>\n",
       "      <td>-1</td>\n",
       "      <td>...</td>\n",
       "      <td>1</td>\n",
       "      <td>2</td>\n",
       "      <td>0</td>\n",
       "      <td>2</td>\n",
       "      <td>1</td>\n",
       "      <td>9</td>\n",
       "      <td>1</td>\n",
       "      <td>2022</td>\n",
       "      <td>16</td>\n",
       "      <td>15</td>\n",
       "    </tr>\n",
       "    <tr>\n",
       "      <th>1</th>\n",
       "      <td>1</td>\n",
       "      <td>1</td>\n",
       "      <td>1</td>\n",
       "      <td>1</td>\n",
       "      <td>1948.0</td>\n",
       "      <td>5</td>\n",
       "      <td>1</td>\n",
       "      <td>8</td>\n",
       "      <td>-1</td>\n",
       "      <td>-1</td>\n",
       "      <td>...</td>\n",
       "      <td>1</td>\n",
       "      <td>7</td>\n",
       "      <td>0</td>\n",
       "      <td>2</td>\n",
       "      <td>2</td>\n",
       "      <td>1</td>\n",
       "      <td>1</td>\n",
       "      <td>2022</td>\n",
       "      <td>16</td>\n",
       "      <td>15</td>\n",
       "    </tr>\n",
       "    <tr>\n",
       "      <th>2</th>\n",
       "      <td>1</td>\n",
       "      <td>1</td>\n",
       "      <td>4</td>\n",
       "      <td>1</td>\n",
       "      <td>1988.0</td>\n",
       "      <td>9</td>\n",
       "      <td>1</td>\n",
       "      <td>0</td>\n",
       "      <td>-1</td>\n",
       "      <td>0</td>\n",
       "      <td>...</td>\n",
       "      <td>2</td>\n",
       "      <td>7</td>\n",
       "      <td>0</td>\n",
       "      <td>2</td>\n",
       "      <td>8</td>\n",
       "      <td>15</td>\n",
       "      <td>1</td>\n",
       "      <td>2022</td>\n",
       "      <td>8</td>\n",
       "      <td>34</td>\n",
       "    </tr>\n",
       "    <tr>\n",
       "      <th>3</th>\n",
       "      <td>1</td>\n",
       "      <td>1</td>\n",
       "      <td>1</td>\n",
       "      <td>1</td>\n",
       "      <td>1970.0</td>\n",
       "      <td>4</td>\n",
       "      <td>1</td>\n",
       "      <td>0</td>\n",
       "      <td>-1</td>\n",
       "      <td>0</td>\n",
       "      <td>...</td>\n",
       "      <td>2</td>\n",
       "      <td>10</td>\n",
       "      <td>0</td>\n",
       "      <td>2</td>\n",
       "      <td>1</td>\n",
       "      <td>1</td>\n",
       "      <td>1</td>\n",
       "      <td>2022</td>\n",
       "      <td>8</td>\n",
       "      <td>34</td>\n",
       "    </tr>\n",
       "    <tr>\n",
       "      <th>4</th>\n",
       "      <td>1</td>\n",
       "      <td>1</td>\n",
       "      <td>1</td>\n",
       "      <td>1</td>\n",
       "      <td>2002.0</td>\n",
       "      <td>0</td>\n",
       "      <td>1</td>\n",
       "      <td>0</td>\n",
       "      <td>-1</td>\n",
       "      <td>-1</td>\n",
       "      <td>...</td>\n",
       "      <td>2</td>\n",
       "      <td>7</td>\n",
       "      <td>0</td>\n",
       "      <td>2</td>\n",
       "      <td>1</td>\n",
       "      <td>2</td>\n",
       "      <td>1</td>\n",
       "      <td>2022</td>\n",
       "      <td>17</td>\n",
       "      <td>15</td>\n",
       "    </tr>\n",
       "  </tbody>\n",
       "</table>\n",
       "<p>5 rows × 47 columns</p>\n",
       "</div>"
      ],
      "text/plain": [
       "   place  catu  grav  sexe  an_nais  trajet  secu1  secu2  secu3  locp  ...  \\\n",
       "0      1     1     3     1   2008.0       5      2      8     -1    -1  ...   \n",
       "1      1     1     1     1   1948.0       5      1      8     -1    -1  ...   \n",
       "2      1     1     4     1   1988.0       9      1      0     -1     0  ...   \n",
       "3      1     1     1     1   1970.0       4      1      0     -1     0  ...   \n",
       "4      1     1     1     1   2002.0       0      1      0     -1    -1  ...   \n",
       "\n",
       "   senc  catv  obs  obsm  choc  manv  motor  an_acc  heure  minute  \n",
       "0     1     2    0     2     1     9      1    2022     16      15  \n",
       "1     1     7    0     2     2     1      1    2022     16      15  \n",
       "2     2     7    0     2     8    15      1    2022      8      34  \n",
       "3     2    10    0     2     1     1      1    2022      8      34  \n",
       "4     2     7    0     2     1     2      1    2022     17      15  \n",
       "\n",
       "[5 rows x 47 columns]"
      ]
     },
     "execution_count": 44,
     "metadata": {},
     "output_type": "execute_result"
    }
   ],
   "source": [
    "df = pd.read_csv(\"dataset_final.csv\")\n",
    "df.head()"
   ]
  },
  {
   "cell_type": "markdown",
   "metadata": {},
   "source": [
    "## Préprocessing"
   ]
  },
  {
   "cell_type": "code",
   "execution_count": 45,
   "metadata": {},
   "outputs": [
    {
     "name": "stdout",
     "output_type": "stream",
     "text": [
      "grav\n",
      " 1    207354\n",
      " 4    197494\n",
      " 3     75986\n",
      " 2     13047\n",
      "-1       301\n",
      "Name: count, dtype: int64\n",
      "-1 : non concerné, 1 – Indemne, 2 – Tué, 3 – Blessé hospitalisé, 4 – Blessé léger\n"
     ]
    }
   ],
   "source": [
    "print(df.grav.value_counts())\n",
    "\n",
    "print(\"-1 : non concerné, 1 – Indemne, 2 – Tué, 3 – Blessé hospitalisé, 4 – Blessé léger\")\n"
   ]
  },
  {
   "cell_type": "markdown",
   "metadata": {},
   "source": [
    "Comme on a pu le voir précédemment, le jeu de données est déséquilibré sur la variable cible. Par exemple, la proportion d'accident mortel est plus faible que celle d'indemne."
   ]
  },
  {
   "cell_type": "markdown",
   "metadata": {},
   "source": [
    "### Combinaison de indemne et non concerné"
   ]
  },
  {
   "cell_type": "code",
   "execution_count": 46,
   "metadata": {},
   "outputs": [
    {
     "name": "stdout",
     "output_type": "stream",
     "text": [
      "grav\n",
      "1    207655\n",
      "4    197494\n",
      "3     75986\n",
      "2     13047\n",
      "Name: count, dtype: int64\n",
      "1 – Indemne, 2 – Tué, 3 – Blessé hospitalisé, 4 – Blessé léger\n"
     ]
    }
   ],
   "source": [
    "# combiner les variables indemne et non concerné car si la personne \n",
    "# n'est pas concerné par la gravité c'est qu'elle est indemne\n",
    "\n",
    "df.grav = df.grav.astype(str)\n",
    "df.grav = [value.replace(\"-1\", \"1\") for value in df[\"grav\"]]\n",
    "df.grav = df.grav.astype(int)\n",
    "\n",
    "print(df.grav.value_counts())\n",
    "\n",
    "print(\"1 – Indemne, 2 – Tué, 3 – Blessé hospitalisé, 4 – Blessé léger\")\n",
    "\n",
    "# Pour la suite, je souhaite conserver pour la variable gravité les catégories indemne, tué, blessé hospitalisé \n",
    "# et blessé léger qui me paraissent intéressantes pour traiter le problème."
   ]
  },
  {
   "cell_type": "markdown",
   "metadata": {},
   "source": [
    "### Séparation du jeu de données en train set et test set"
   ]
  },
  {
   "cell_type": "code",
   "execution_count": 47,
   "metadata": {},
   "outputs": [
    {
     "name": "stdout",
     "output_type": "stream",
     "text": [
      "Séparation des labels et targets : (347733, 43) (115912, 43) (347733,) (115912,)\n"
     ]
    }
   ],
   "source": [
    "from sklearn.model_selection import train_test_split\n",
    "\n",
    "df = df.drop(['Accident_Id', \n",
    "                      \"an_acc\",\n",
    "                      \"larrout\"], # doublon avec la variable \"an\"\n",
    "                     axis=1)\n",
    "\n",
    "# Supression des lignes contenant des données manquantes\n",
    "df = df.dropna()\n",
    "\n",
    "X_train, X_test, y_train, y_test = train_test_split(df.drop([\"grav\"], axis=1), df.grav, test_size=0.25)\n",
    "print(\"Séparation des labels et targets :\", X_train.shape, X_test.shape, y_train.shape, y_test.shape)"
   ]
  },
  {
   "cell_type": "markdown",
   "metadata": {},
   "source": [
    "df = df.drop(['Accident_Id', \n",
    "                      \"an_acc\"], # doublon avec la variable \"an\"\n",
    "                     axis=1)\n",
    "\n",
    "# Supression des lignes contenant des données manquantes\n",
    "df = df.dropna()\n",
    "\n",
    "# Séparation du jeu de données pour entraîner le modèle\n",
    "#train = df.loc[df.an.between(2019, 2021)] \n",
    "df_bis = df.loc[df.an.between(2020, 2022)]\n",
    "\n",
    "train = df_bis.loc[df_bis.an.between(2020, 2021)]\n",
    "test = df_bis.loc[df_bis.an == 2022]\n",
    "\n",
    "print(\"DF: \", df_bis.shape,\"TRAIN :\", train.shape,\"TEST :\", test.shape)\n",
    "print(\" \")\n",
    "print(\"La proportion du dataset train est de\", round((train.shape[0]/ df_bis.shape[0]*100)),\n",
    "      \"% et du dataset test est de\", round((test.shape[0]/ df_bis.shape[0]*100)), \"%.\")\n",
    "print(\" \")\n",
    "X_train = train.drop([\"grav\"], axis=1)\n",
    "y_train = train.grav\n",
    "\n",
    "X_test = test.drop([\"grav\"], axis=1)\n",
    "y_test = test.grav\n",
    "\n",
    "print(\"Séparation des labels et targets :\", X_train.shape, X_test.shape, y_train.shape, y_test.shape)"
   ]
  },
  {
   "cell_type": "markdown",
   "metadata": {},
   "source": [
    "### Standardisation"
   ]
  },
  {
   "cell_type": "markdown",
   "metadata": {},
   "source": [
    "from sklearn.preprocessing import StandardScaler\n",
    "\n",
    "scaler = StandardScaler()\n",
    "\n",
    "X_train_scaled_std = scaler.fit_transform(X_train)\n",
    "X_test_scaled_std = scaler.transform(X_test)"
   ]
  },
  {
   "cell_type": "markdown",
   "metadata": {},
   "source": [
    "from sklearn.preprocessing import RobustScaler\n",
    "\n",
    "rbs = RobustScaler().fit(X_train)\n",
    "X_train_scaled_rbs = rbs.transform(X_train)\n",
    "X_test_scaled_rbs = rbs.transform(X_test)"
   ]
  },
  {
   "cell_type": "markdown",
   "metadata": {},
   "source": [
    "### Ré-équilibrage de la variable cible"
   ]
  },
  {
   "cell_type": "markdown",
   "metadata": {},
   "source": [
    "#### Undersampler avec std"
   ]
  },
  {
   "cell_type": "markdown",
   "metadata": {},
   "source": [
    "from imblearn.under_sampling import RandomUnderSampler\n",
    "from imblearn.metrics import classification_report_imbalanced\n",
    "\n",
    "undersampler = RandomUnderSampler(random_state=42)\n",
    "X_train_resampled_std, y_train_resampled = undersampler.fit_resample(X_train_scaled_std, y_train)\n",
    "\n",
    "model_baseline_res = LogisticRegression(random_state=0, solver='lbfgs', max_iter=1000)\n",
    "\n",
    "model_baseline_res.fit(X_train_resampled_std, y_train_resampled)\n",
    "accuracy_res = model_baseline_res.score(X_test_scaled_std, y_test)\n",
    "print(\"Accuracy :\", round(accuracy_res,6))\n",
    "\n",
    "y_pred = model_baseline_res.predict(X_test_scaled_std)\n",
    "\n",
    "print(pd.crosstab(y_test, y_pred, colnames=['Predictions']))\n",
    "\n",
    "print(classification_report_imbalanced(y_test, y_pred))"
   ]
  },
  {
   "cell_type": "markdown",
   "metadata": {},
   "source": [
    "#### Undersampler avec robustscaler"
   ]
  },
  {
   "cell_type": "markdown",
   "metadata": {},
   "source": [
    "from imblearn.under_sampling import RandomUnderSampler\n",
    "from imblearn.metrics import classification_report_imbalanced\n",
    "\n",
    "undersampler = RandomUnderSampler(random_state=42)\n",
    "X_train_resampled_rbs, y_train_resampled = undersampler.fit_resample(X_train_scaled_rbs, y_train)\n",
    "\n",
    "model_baseline_res = LogisticRegression(random_state=0, solver='lbfgs', max_iter=1000)\n",
    "\n",
    "model_baseline_res.fit(X_train_resampled_rbs, y_train_resampled)\n",
    "accuracy_res = model_baseline_res.score(X_test_scaled_rbs, y_test)\n",
    "print(\"Accuracy :\", round(accuracy_res,6))\n",
    "\n",
    "y_pred = model_baseline_res.predict(X_test_scaled_rbs)\n",
    "\n",
    "print(pd.crosstab(y_test, y_pred, colnames=['Predictions']))\n",
    "\n",
    "print(classification_report_imbalanced(y_test, y_pred))"
   ]
  },
  {
   "cell_type": "markdown",
   "metadata": {},
   "source": [
    "#### Oversampler avec std"
   ]
  },
  {
   "cell_type": "markdown",
   "metadata": {},
   "source": [
    "from imblearn.over_sampling import RandomOverSampler\n",
    "from imblearn.metrics import classification_report_imbalanced\n",
    "\n",
    "oversampler = RandomOverSampler(random_state=42)\n",
    "X_train_resampov_std, y_train_resampov = oversampler.fit_resample(X_train_scaled_std, y_train)\n",
    "\n",
    "model_baseline_res = LogisticRegression(random_state=0, solver='lbfgs', max_iter=1000)\n",
    "\n",
    "model_baseline_res.fit(X_train_resampov_std, y_train_resampov)\n",
    "accuracy_res = model_baseline_res.score(X_test_scaled_std, y_test)\n",
    "print(\"Accuracy :\", round(accuracy_res,6))\n",
    "\n",
    "y_pred = model_baseline_res.predict(X_test_scaled_std)\n",
    "\n",
    "print(pd.crosstab(y_test, y_pred, colnames=['Predictions']))\n",
    "\n",
    "print(classification_report_imbalanced(y_test, y_pred))"
   ]
  },
  {
   "cell_type": "markdown",
   "metadata": {},
   "source": [
    "#### Oversampler avec rbs"
   ]
  },
  {
   "cell_type": "markdown",
   "metadata": {},
   "source": [
    "from imblearn.over_sampling import RandomOverSampler\n",
    "from imblearn.metrics import classification_report_imbalanced\n",
    "\n",
    "oversampler = RandomOverSampler(random_state=42)\n",
    "X_train_resampov_rbs, y_train_resampov = oversampler.fit_resample(X_train_scaled_rbs, y_train)\n",
    "\n",
    "model_baseline_res = LogisticRegression(random_state=0, solver='lbfgs', max_iter=1000)\n",
    "\n",
    "model_baseline_res.fit(X_train_resampov_rbs, y_train_resampov)\n",
    "accuracy_res = model_baseline_res.score(X_test_scaled_rbs, y_test)\n",
    "print(\"Accuracy :\", round(accuracy_res,6))\n",
    "\n",
    "y_pred = model_baseline_res.predict(X_test_scaled_rbs)\n",
    "\n",
    "print(pd.crosstab(y_test, y_pred, colnames=['Predictions']))\n",
    "\n",
    "print(classification_report_imbalanced(y_test, y_pred))"
   ]
  },
  {
   "cell_type": "markdown",
   "metadata": {},
   "source": [
    "### Features select\n",
    "\n",
    "###### Faire la standardisation avant de sélectionner les variables est moins coûteux en terme de temps de calculs."
   ]
  },
  {
   "cell_type": "markdown",
   "metadata": {},
   "source": [
    "# Recherche de la meilleure sélection de variables avec undersampling\n",
    "\n",
    "from sklearn.feature_selection import SelectKBest, f_classif\n",
    "from sklearn.linear_model import LogisticRegression\n",
    "from sklearn.multiclass import OneVsRestClassifier\n",
    "\n",
    "best_accuracy = 0\n",
    "best_k = 0\n",
    "\n",
    "for k in range(1, X_train.shape[1] + 1):\n",
    "    select_k_best = SelectKBest(score_func=f_classif, k=k)\n",
    "    \n",
    "    X_train_k_best = select_k_best.fit_transform(X_train, y_train)\n",
    "    X_test_k_best = select_k_best.transform(X_test)\n",
    "    \n",
    "    model_2 = OneVsRestClassifier(LogisticRegression(random_state=0, solver='lbfgs', max_iter=1000))\n",
    "    model_2.fit(X_train_k_best, y_train)\n",
    "    \n",
    "    y_pred = model_2.predict(X_test_k_best)\n",
    "    accuracy = accuracy_score(y_test, y_pred)\n",
    "    \n",
    "    if accuracy > best_accuracy:\n",
    "        best_accuracy = accuracy\n",
    "        best_k = k\n",
    "\n",
    "print(\"Best number of features:\", best_k)\n",
    "print(\"Best accuracy:\", best_accuracy)"
   ]
  },
  {
   "cell_type": "markdown",
   "metadata": {},
   "source": [
    "# Recherche de la meilleure sélection de variables avec oversampling\n",
    "\n",
    "from sklearn.feature_selection import SelectKBest, f_classif\n",
    "from sklearn.linear_model import LogisticRegression\n",
    "from sklearn.multiclass import OneVsRestClassifier\n",
    "from sklearn.metrics import accuracy_score\n",
    "\n",
    "best_accuracy = 0\n",
    "best_k = 0\n",
    "\n",
    "for k in range(1, X_train.shape[1] + 1):\n",
    "    select_k_best = SelectKBest(score_func=f_classif, k=k)\n",
    "    \n",
    "    X_train_k_best = select_k_best.fit_transform(X_train_resampov_, y_train_resampov)\n",
    "    X_test_k_best = select_k_best.transform(X_test_scaled_rbs)\n",
    "    \n",
    "    model_2 = OneVsRestClassifier(LogisticRegression(random_state=0, solver='lbfgs', max_iter=1000))\n",
    "    model_2.fit(X_train_k_best, y_train_resampov)\n",
    "    \n",
    "    y_pred = model_2.predict(X_test_k_best)\n",
    "    accuracy = accuracy_score(y_test, y_pred)\n",
    "    \n",
    "    if accuracy > best_accuracy:\n",
    "        best_accuracy = accuracy\n",
    "        best_k = k\n",
    "\n",
    "print(\"Best number of features:\", best_k)\n",
    "print(\"Best accuracy:\", best_accuracy)"
   ]
  },
  {
   "cell_type": "markdown",
   "metadata": {},
   "source": [
    "# sélection des k des meilleures features définies précédemment\n",
    "test_stat =  SelectKBest(f_classif, k=33)\n",
    "test_stat.fit(X_train_scaled, y_train)\n",
    "\n",
    "for col, score in zip(X_train.columns, test_stat.scores_):\n",
    "    print(col, \":\", score)\n",
    "\n",
    "X_train_selected = test_stat.transform(X_train_scaled)\n",
    "X_test_selected = test_stat.transform(X_test_scaled)"
   ]
  },
  {
   "cell_type": "markdown",
   "metadata": {},
   "source": [
    "### Baseline model"
   ]
  },
  {
   "cell_type": "markdown",
   "metadata": {},
   "source": [
    "#### Régression logistique : recherche de la meilleure \"normalisation\" des données"
   ]
  },
  {
   "cell_type": "code",
   "execution_count": 49,
   "metadata": {},
   "outputs": [
    {
     "name": "stdout",
     "output_type": "stream",
     "text": [
      "StandardScaler: Accuracy moyenne = 0.5920519420436421, Écart-type = 0.0012786740888283547\n",
      "StandardScaler Classification Report:\n",
      "              precision    recall  f1-score   support\n",
      "\n",
      "           1       0.61      0.77      0.68     48151\n",
      "           2       0.42      0.00      0.01      2834\n",
      "           3       0.46      0.19      0.27     17228\n",
      "           4       0.58      0.59      0.59     47699\n",
      "\n",
      "    accuracy                           0.59    115912\n",
      "   macro avg       0.52      0.39      0.39    115912\n",
      "weighted avg       0.57      0.59      0.56    115912\n",
      "\n",
      "MinMaxScaler: Accuracy moyenne = 0.5920979551268069, Écart-type = 0.0011513296019927224\n",
      "MinMaxScaler Classification Report:\n",
      "              precision    recall  f1-score   support\n",
      "\n",
      "           1       0.61      0.77      0.68     48151\n",
      "           2       0.33      0.00      0.00      2834\n",
      "           3       0.46      0.19      0.27     17228\n",
      "           4       0.58      0.59      0.59     47699\n",
      "\n",
      "    accuracy                           0.59    115912\n",
      "   macro avg       0.50      0.39      0.39    115912\n",
      "weighted avg       0.57      0.59      0.56    115912\n",
      "\n",
      "RobustScaler: Accuracy moyenne = 0.5921123337268446, Écart-type = 0.0012128070309716703\n",
      "RobustScaler Classification Report:\n",
      "              precision    recall  f1-score   support\n",
      "\n",
      "           1       0.61      0.77      0.68     48151\n",
      "           2       0.36      0.00      0.01      2834\n",
      "           3       0.46      0.19      0.27     17228\n",
      "           4       0.58      0.59      0.59     47699\n",
      "\n",
      "    accuracy                           0.59    115912\n",
      "   macro avg       0.50      0.39      0.39    115912\n",
      "weighted avg       0.57      0.59      0.56    115912\n",
      "\n"
     ]
    }
   ],
   "source": [
    "from sklearn.model_selection import cross_val_score, StratifiedKFold\n",
    "from sklearn.pipeline import make_pipeline\n",
    "from sklearn.preprocessing import StandardScaler, MinMaxScaler, RobustScaler\n",
    "from sklearn.linear_model import LogisticRegression\n",
    "\n",
    "scalers = {\n",
    "    'StandardScaler': StandardScaler(),\n",
    "    'MinMaxScaler': MinMaxScaler(),\n",
    "    'RobustScaler': RobustScaler()\n",
    "}\n",
    "\n",
    "model = LogisticRegression(random_state=0, solver='lbfgs', max_iter=1000)\n",
    "\n",
    "cv = StratifiedKFold(n_splits=5, shuffle=True, random_state=42)\n",
    "\n",
    "for scaler_name, scaler in scalers.items():\n",
    "    pipeline = make_pipeline(scaler, model)\n",
    "    scores = cross_val_score(pipeline, X_train, y_train, cv=cv, scoring='accuracy')\n",
    "\n",
    "    print(f\"{scaler_name}: Accuracy moyenne = {scores.mean()}, Écart-type = {scores.std()}\")\n",
    "    \n",
    "    pipeline.fit(X_train, y_train)\n",
    "    y_pred = pipeline.predict(X_test)\n",
    "    \n",
    "    report = classification_report(y_test, y_pred)\n",
    "    \n",
    "    print(f\"{scaler_name} Classification Report:\")\n",
    "    print(report)"
   ]
  },
  {
   "cell_type": "markdown",
   "metadata": {},
   "source": [
    "#### Random forest : recherche de la meilleure \"normalisation\" des données"
   ]
  },
  {
   "cell_type": "code",
   "execution_count": null,
   "metadata": {},
   "outputs": [
    {
     "name": "stdout",
     "output_type": "stream",
     "text": [
      "StandardScaler: Accuracy moyenne = 0.6836480886355647, Écart-type = 0.002237072983282108\n",
      "MinMaxScaler: Accuracy moyenne = 0.6841743512852378, Écart-type = 0.0019054375241854794\n",
      "RobustScaler: Accuracy moyenne = 0.6847408803498939, Écart-type = 0.0017425095708648525\n"
     ]
    }
   ],
   "source": [
    "model_rf = RandomForestClassifier(random_state=0, class_weight='balanced')\n",
    "\n",
    "cv = StratifiedKFold(n_splits=5, shuffle=True, random_state=42)\n",
    "\n",
    "for scaler_name, scaler in scalers.items():\n",
    "    pipeline = make_pipeline(scaler, model_rf)\n",
    "    scores = cross_val_score(pipeline, X_train, y_train, cv=cv, scoring='accuracy')\n",
    "\n",
    "    print(f\"{scaler_name}: Accuracy moyenne = {scores.mean()}, Écart-type = {scores.std()}\")"
   ]
  },
  {
   "cell_type": "markdown",
   "metadata": {},
   "source": [
    "#### KNN : recherche de la meilleure \"normalisation\" des données"
   ]
  },
  {
   "cell_type": "code",
   "execution_count": null,
   "metadata": {},
   "outputs": [
    {
     "name": "stdout",
     "output_type": "stream",
     "text": [
      "StandardScaler: Accuracy moyenne = 0.45268491790183385, Écart-type = 0.002397667752622828\n",
      "MinMaxScaler: Accuracy moyenne = 0.4256641721000968, Écart-type = 0.006467772030212853\n",
      "RobustScaler: Accuracy moyenne = 0.4761988469142128, Écart-type = 0.0044322465651383085\n"
     ]
    }
   ],
   "source": [
    "model_knn = KNeighborsClassifier()\n",
    "\n",
    "cv = StratifiedKFold(n_splits=5, shuffle=True, random_state=42)\n",
    "\n",
    "for scaler_name, scaler in scalers.items():\n",
    "    pipeline = make_pipeline(scaler, model_knn)\n",
    "    \n",
    "    undersampler = RandomUnderSampler(random_state=42)\n",
    "    X_train_resampled, y_train_resampled = undersampler.fit_resample(X_train, y_train)\n",
    "    \n",
    "    scores = cross_val_score(pipeline, X_train_resampled, y_train_resampled, cv=cv, scoring='accuracy')\n",
    "    \n",
    "    print(f\"{scaler_name}: Accuracy moyenne = {scores.mean()}, Écart-type = {scores.std()}\")\n"
   ]
  },
  {
   "cell_type": "markdown",
   "metadata": {},
   "source": [
    "#### XGBoost : recherche de la meilleure \"normalisation\" des données"
   ]
  },
  {
   "cell_type": "code",
   "execution_count": null,
   "metadata": {},
   "outputs": [
    {
     "name": "stdout",
     "output_type": "stream",
     "text": [
      "StandardScaler: Accuracy moyenne = 0.5778431280923595, Écart-type = 0.004693858083687763\n",
      "MinMaxScaler: Accuracy moyenne = 0.5788491849679156, Écart-type = 0.004196471115224787\n",
      "RobustScaler: Accuracy moyenne = 0.5779293638997789, Écart-type = 0.004602568547734059\n"
     ]
    }
   ],
   "source": [
    "model_xgb = GradientBoostingClassifier(random_state=0)\n",
    "\n",
    "cv = StratifiedKFold(n_splits=5, shuffle=True, random_state=42)\n",
    "\n",
    "for scaler_name, scaler in scalers.items():\n",
    "    pipeline = make_pipeline(scaler, model_xgb)\n",
    "    \n",
    "    undersampler = RandomUnderSampler(random_state=42)\n",
    "    X_train_resampled, y_train_resampled = undersampler.fit_resample(X_train, y_train)\n",
    "    \n",
    "    scores = cross_val_score(pipeline, X_train_resampled, y_train_resampled, cv=cv, scoring='accuracy')\n",
    "    \n",
    "    print(f\"{scaler_name}: Accuracy moyenne = {scores.mean()}, Écart-type = {scores.std()}\")"
   ]
  },
  {
   "cell_type": "code",
   "execution_count": null,
   "metadata": {},
   "outputs": [],
   "source": []
  }
 ],
 "metadata": {
  "kernelspec": {
   "display_name": "env_acc_route",
   "language": "python",
   "name": "python3"
  },
  "language_info": {
   "codemirror_mode": {
    "name": "ipython",
    "version": 3
   },
   "file_extension": ".py",
   "mimetype": "text/x-python",
   "name": "python",
   "nbconvert_exporter": "python",
   "pygments_lexer": "ipython3",
   "version": "3.10.14"
  }
 },
 "nbformat": 4,
 "nbformat_minor": 2
}
